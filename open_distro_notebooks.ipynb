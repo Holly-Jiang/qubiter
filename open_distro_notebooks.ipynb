{
 "cells": [
  {
   "cell_type": "code",
   "execution_count": 1,
   "metadata": {},
   "outputs": [
    {
     "name": "stdout",
     "output_type": "stream",
     "text": [
      "C:\\Users\\rrtuc\\Desktop\\backedup\\python-projects\\qubiter\\qubiter\\utilities_gen.py\n"
     ]
    }
   ],
   "source": [
    "from qubiter.utilities_gen import find_path_to_qubiter\n",
    "# this method gives path to py file in which the method is defined\n",
    "path1 = find_path_to_qubiter()\n",
    "print(path1)"
   ]
  },
  {
   "cell_type": "code",
   "execution_count": 2,
   "metadata": {},
   "outputs": [
    {
     "name": "stdout",
     "output_type": "stream",
     "text": [
      "C:\\Users\\rrtuc\\Desktop\\backedup\\python-projects\\qubiter\\qubiter\\jupyter_notebooks\n"
     ]
    }
   ],
   "source": [
    "# path to distro jupyter notebooks folder\n",
    "import os\n",
    "path2 = os.path.split(path1)\n",
    "path2 = os.path.join(path2[0], 'jupyter_notebooks')\n",
    "print(path2)"
   ]
  },
  {
   "cell_type": "code",
   "execution_count": 3,
   "metadata": {},
   "outputs": [
    {
     "name": "stdout",
     "output_type": "stream",
     "text": [
      "C:\\Users\\rrtuc\\Desktop\\backedup\\python-projects\\qubiter\\qubiter\\jupyter_notebooks\n"
     ]
    }
   ],
   "source": [
    "%cd {path2}"
   ]
  },
  {
   "cell_type": "code",
   "execution_count": 4,
   "metadata": {},
   "outputs": [
    {
     "name": "stdout",
     "output_type": "stream",
     "text": [
      " Volume in drive C is Windows\n",
      " Volume Serial Number is 46FF-3E97\n",
      "\n",
      " Directory of C:\\Users\\rrtuc\\Desktop\\backedup\\python-projects\\qubiter\\qubiter\\jupyter_notebooks\n",
      "\n",
      "06/13/2019  05:49 PM    <DIR>          .\n",
      "06/13/2019  05:49 PM    <DIR>          ..\n",
      "06/12/2019  05:00 PM    <DIR>          .ipynb_checkpoints\n",
      "06/12/2019  01:46 PM            16,357 autograd_experiments.ipynb\n",
      "06/12/2019  01:48 PM            18,685 Bell_and_CHSH_inequalities.ipynb\n",
      "06/12/2019  05:00 PM             9,174 examples_of_placeholder_usage.ipynb\n",
      "06/12/2019  02:25 PM             8,753 Fedortchenko-paper.ipynb\n",
      "06/12/2019  02:31 PM            13,373 forbidden_cnot_expansions.ipynb\n",
      "06/12/2019  02:41 PM            13,697 gate-expansions.ipynb\n",
      "06/12/2019  02:47 PM            15,654 ghz_state.ipynb\n",
      "09/27/2017  07:37 PM               405 JupyterREADME.md\n",
      "06/12/2019  03:27 PM            10,773 loops_at_english_file_level_using_loop_files.ipynb\n",
      "06/12/2019  03:30 PM            10,331 MeanHamilMinimizer_native_with_autograd.ipynb\n",
      "06/12/2019  03:32 PM            15,686 MeanHamilMinimizer_native_with_tf.ipynb\n",
      "06/12/2019  03:35 PM             6,329 MeanHamilMinimizer_native_without_autograd.ipynb\n",
      "06/12/2019  03:42 PM            13,305 MeanHamilMinimizer_rigetti_autograd.ipynb\n",
      "06/12/2019  03:45 PM            13,530 MeanHamilMinimizer_rigetti_scipy.ipynb\n",
      "06/12/2019  03:50 PM            17,154 MeanHamilMinimizer_scipy_native_demo.ipynb\n",
      "06/12/2019  03:56 PM            25,351 phase_est_examples.ipynb\n",
      "06/12/2019  04:08 PM            17,316 phase_est_iterative.ipynb\n",
      "12/30/2017  03:13 PM            29,461 quantum_CSD_compiler_intro.ipynb\n",
      "12/30/2017  03:12 PM            33,207 quantum_CSD_compiler_intro_CN.ipynb\n",
      "06/13/2019  05:49 PM            33,647 Say_Hello_World_With_Qubiter.ipynb\n",
      "06/12/2019  05:02 PM            36,675 Stairs_circuit_and_its_gradients_in_native.ipynb\n",
      "06/12/2019  04:26 PM            13,009 Stairs_ckt_its_gradients_in_rigetti.ipynb\n",
      "06/12/2019  04:29 PM            77,672 Teleportation-showcasing-IF_M-blocks.ipynb\n",
      "06/12/2019  04:31 PM            77,339 Teleportation-showcasing-IF_M-blocks_CN.ipynb\n",
      "06/12/2019  04:39 PM            11,249 Translating_from_Qubiter_to_Xanadu_PennyLane.ipynb\n",
      "06/12/2019  04:57 PM            22,884 translating-qubiter-english-file-to-AnyQasm.ipynb\n",
      "06/12/2019  04:42 PM            10,510 unusual_gates_like_generalized_swap.ipynb\n",
      "              27 File(s)        571,526 bytes\n",
      "               3 Dir(s)  75,548,250,112 bytes free\n"
     ]
    }
   ],
   "source": [
    "%ls"
   ]
  },
  {
   "cell_type": "code",
   "execution_count": null,
   "metadata": {},
   "outputs": [],
   "source": [
    "!jupyter notebook"
   ]
  }
 ],
 "metadata": {
  "kernelspec": {
   "display_name": "Python 3",
   "language": "python",
   "name": "python3"
  },
  "language_info": {
   "codemirror_mode": {
    "name": "ipython",
    "version": 3
   },
   "file_extension": ".py",
   "mimetype": "text/x-python",
   "name": "python",
   "nbconvert_exporter": "python",
   "pygments_lexer": "ipython3",
   "version": "3.7.3"
  }
 },
 "nbformat": 4,
 "nbformat_minor": 2
}
