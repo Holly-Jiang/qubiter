{
 "cells": [
  {
   "cell_type": "markdown",
   "metadata": {},
   "source": [
    "# Unsual Gates like $X(0)^{1.2n(1)}$ or sqrt(iSWAP)"
   ]
  },
  {
   "cell_type": "markdown",
   "metadata": {},
   "source": [
    "The purpose of this notebook is to illustrate 2 new members\n",
    "in the set of gates that Qubiter recognizes. The 2 gates are\n",
    "\n",
    "1. an arbitrary matrix U2 in U(2), parametrized as \n",
    "$U2 = \\exp(i[ \\theta_0 + \\theta_1\\sigma_X + \\theta_2\\sigma_Y + \\theta_3\\sigma_Z])$ \n",
    "for real $\\theta_j$, where $\\sigma_X, \\sigma_Y, \\sigma_Z$ are the Pauli matrices.\n",
    "2. a generalization of SWAP(0, 1) which I call SWAY(0, 1). SWAY includes SWAP, sqrt(SWAP), iSWAP, sqrt(iSWAP) etc. I discuss SWAY more precisely below.\n",
    "\n",
    "The Qubiter simulator can now handle both of these gates with any number of controls of type T or F\n"
   ]
  },
  {
   "cell_type": "markdown",
   "metadata": {},
   "source": [
    "## importance of $\\theta_0$ when U2 has controls\n",
    "Qubiter previously included ROTN, which is a U2 with $\\theta_0=0$, which means ROTN is an \n",
    "element of SU(2), i.e., the Special 2-dim unitaries whose determinant is 1. Quantum mechanics does not\n",
    "care about global phases, so why would we want a U2 with non-zero $\\theta_0$?\n",
    "Because when we attach one or more controls to a U2 with non-zero $\\theta_0$,\n",
    "the controls place conditions on that $\\theta_0$, so the $\\theta_0$ now has a physical \n",
    "significance and can no longer be dropped. For example, \n",
    "$$[e^{i\\frac{\\pi}{2} \\sigma_Z(0)}]^{n(1)} = [i\\sigma_Z(0)]^{n(1)}= i^{n(1)}\\sigma_Z(0)^{n(1)}$$\n",
    "is physically different from\n",
    "$$[-ie^{i\\frac{\\pi}{2} \\sigma_Z(0)}]^{n(1)}=\\sigma_Z(0)^{n(1)}$$"
   ]
  },
  {
   "cell_type": "markdown",
   "metadata": {},
   "source": [
    "## SWAY\n",
    "\n",
    "Recall that the swap of two qubits 0, 1, call it SWAP(1, 0), is defined by \n",
    "\n",
    "$$ SWAP = diag(1, \\sigma_X, 1) $$\n",
    "\n",
    "> NOTE: SWAP is qbit symmetric, meaning that SWAP(0,1) = SWAP(1,0)\n",
    "\n",
    "We define SWAY by\n",
    "\n",
    "$$ SWAY = diag(1, U2, 1) $$\n",
    "\n",
    "where U2 is the most general **symmetric** 2-dim unitary matrix\n",
    "parametrized as\n",
    "\n",
    "$$U2 = \\exp(i[ \\theta_0 + \\theta_1\\sigma_X + \\theta_2\\sigma_Y + \\theta_3\\sigma_Z])$$ \n",
    "for real $\\theta_j$, with $$\\theta_2=0$$\n",
    "\n",
    "\n",
    ">NOTE: SWAY is qbit symmetric (SWAY(0,1)=SWAY(1,0)) iff U2 is a\n",
    "symmetric matrix ($U2^T = U2$) iff $\\theta_2=0$\n"
   ]
  },
  {
   "cell_type": "markdown",
   "metadata": {},
   "source": [
    "Next, we will test these two new types of gates.\n",
    "\n",
    "First change your working directory to the qubiter directory in your computer, and add its path to the path environment variable."
   ]
  },
  {
   "cell_type": "code",
   "execution_count": 1,
   "metadata": {},
   "outputs": [
    {
     "name": "stdout",
     "output_type": "stream",
     "text": [
      "/home/jupyter/Notebooks/Quantum/qubiter/jupyter-notebooks\n",
      "/home/jupyter/Notebooks/Quantum/qubiter\n"
     ]
    }
   ],
   "source": [
    "import os\n",
    "import sys\n",
    "print(os.getcwd())\n",
    "os.chdir('../')\n",
    "print(os.getcwd())\n",
    "sys.path.insert(0,os.getcwd())"
   ]
  },
  {
   "cell_type": "code",
   "execution_count": 2,
   "metadata": {
    "collapsed": true
   },
   "outputs": [],
   "source": [
    "from SEO_writer import *\n",
    "from SEO_simulator import *"
   ]
  },
  {
   "cell_type": "code",
   "execution_count": 3,
   "metadata": {
    "collapsed": true
   },
   "outputs": [],
   "source": [
    "num_bits = 5\n",
    "emb = CktEmbedder(num_bits, num_bits)\n",
    "trols = Controls(num_bits)\n",
    "trols.bit_pos_to_kind = {3: True, 4: False}\n",
    "trols.refresh_lists()\n",
    "file_prefix = 'io_folder/sway_test'\n",
    "g = np.pi/180\n",
    "rads_list = ['#1', 20*g, 0, 40*g]"
   ]
  },
  {
   "cell_type": "code",
   "execution_count": 4,
   "metadata": {},
   "outputs": [],
   "source": [
    "wr = SEO_writer(file_prefix, emb)\n",
    "wr.write_X(3)\n",
    "wr.write_U2(0, rads_list)\n",
    "wr.write_controlled_one_bit_gate(0, trols, OneBitGates.u2, rads_list)\n",
    "\n",
    "# swa_ stands for either swap or sway.\n",
    "\n",
    "# without a rads_list, swa_ stands for swap\n",
    "wr.write_bit_swa_(0, 1)\n",
    "wr.write_controlled_bit_swa_(0, 1, trols)\n",
    "\n",
    "# with a rads_list, swa_ stands for sway\n",
    "wr.write_bit_swa_(0, 1, rads_list)\n",
    "wr.write_controlled_bit_swa_(0, 1, trols, rads_list)\n",
    "\n",
    "wr.close_files()"
   ]
  },
  {
   "cell_type": "markdown",
   "metadata": {},
   "source": [
    "The above code wrote English and Picture files in the io_folder. We can ask wr to print them for us "
   ]
  },
  {
   "cell_type": "code",
   "execution_count": 5,
   "metadata": {},
   "outputs": [
    {
     "name": "stdout",
     "output_type": "stream",
     "text": [
      "SIGX\tAT\t3\n",
      "U_2_\t#1\t20.0\t0.0\t40.0\tAT\t0\n",
      "U_2_\t#1\t20.0\t0.0\t40.0\tAT\t0\tIF\t4F\t3T\n",
      "SWAP\t1\t0\n",
      "SWAP\t1\t0\tIF\t4F\t3T\n",
      "SWAY\t1\t0\tBY\t#1\t0.3490658503988659\t0\t0.6981317007977318\n",
      "SWAY\t1\t0\tBY\t#1\t0.3490658503988659\t0\t0.6981317007977318\tIF\t4F\t3T\n",
      "\n"
     ]
    }
   ],
   "source": [
    "wr.print_eng_file()"
   ]
  },
  {
   "cell_type": "code",
   "execution_count": 6,
   "metadata": {},
   "outputs": [
    {
     "name": "stdout",
     "output_type": "stream",
     "text": [
      "|   X   |   |   |   \n",
      "|   |   |   |   U   \n",
      "O---@---+---+---U   \n",
      "|   |   |   <--->   \n",
      "O---@---+---<--->   \n",
      "|   |   |   <<-->>  \n",
      "O---@---+---<<-->>  \n",
      "\n"
     ]
    }
   ],
   "source": [
    "wr.print_pic_file()"
   ]
  },
  {
   "cell_type": "markdown",
   "metadata": {},
   "source": [
    "The following shows that class SEO_simulator recognizes the 2 new gates, with and without controls, and can multiply\n",
    "through them"
   ]
  },
  {
   "cell_type": "code",
   "execution_count": 7,
   "metadata": {},
   "outputs": [
    {
     "name": "stdout",
     "output_type": "stream",
     "text": [
      "*********branch= pure\n",
      "total probability of state vector (=one if no measurements)= 1.0\n",
      "dictionary with key=qubit, value=(Prob(0), Prob(1))\n",
      "{0: (0.80004860313463511, 0.19995139686536489),\n",
      " 1: (0.99997031678784598, 2.9683212154019145e-05),\n",
      " 2: (1.0, 0.0),\n",
      " 3: (0.0, 1.0),\n",
      " 4: (1.0, 0.0)}\n"
     ]
    }
   ],
   "source": [
    "vman = PlaceholderManager(var_num_to_rads={1: np.pi/6})\n",
    "sim = SEO_simulator(file_prefix, num_bits, verbose=False,\n",
    "                    vars_manager=vman)\n",
    "StateVec.describe_st_vec_dict(sim.cur_st_vec_dict)"
   ]
  }
 ],
 "metadata": {
  "kernelspec": {
   "display_name": "Python 3",
   "language": "python",
   "name": "python3"
  },
  "language_info": {
   "codemirror_mode": {
    "name": "ipython",
    "version": 3
   },
   "file_extension": ".py",
   "mimetype": "text/x-python",
   "name": "python",
   "nbconvert_exporter": "python",
   "pygments_lexer": "ipython3",
   "version": "3.6.2"
  },
  "toc": {
   "colors": {
    "hover_highlight": "#DAA520",
    "running_highlight": "#FF0000",
    "selected_highlight": "#FFD700"
   },
   "moveMenuLeft": true,
   "nav_menu": {
    "height": "87px",
    "width": "252px"
   },
   "navigate_menu": true,
   "number_sections": true,
   "sideBar": true,
   "threshold": 4,
   "toc_cell": false,
   "toc_section_display": "block",
   "toc_window_display": false,
   "widenNotebook": false
  }
 },
 "nbformat": 4,
 "nbformat_minor": 2
}
