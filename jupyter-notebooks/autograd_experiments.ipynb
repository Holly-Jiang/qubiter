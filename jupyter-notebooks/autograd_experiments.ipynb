{
 "cells": [
  {
   "cell_type": "markdown",
   "metadata": {},
   "source": [
    "# Autograd experiments"
   ]
  },
  {
   "cell_type": "code",
   "execution_count": 1,
   "metadata": {
    "collapsed": true
   },
   "outputs": [],
   "source": [
    "import autograd.numpy as anp\n",
    "import autograd as auto"
   ]
  },
  {
   "cell_type": "code",
   "execution_count": 2,
   "metadata": {
    "collapsed": true
   },
   "outputs": [],
   "source": [
    "def fun1(x0, x1):\n",
    "    y = anp.exp(-2.0*x1 + x0)\n",
    "    return y"
   ]
  },
  {
   "cell_type": "code",
   "execution_count": 3,
   "metadata": {
    "collapsed": true
   },
   "outputs": [],
   "source": [
    "fun1_x0 = auto.grad(fun1, 0)\n",
    "fun1_x1 = auto.grad(fun1, 1)"
   ]
  },
  {
   "cell_type": "code",
   "execution_count": 4,
   "metadata": {},
   "outputs": [
    {
     "name": "stdout",
     "output_type": "stream",
     "text": [
      "1.34985880758\n",
      "-2.69971761515\n"
     ]
    }
   ],
   "source": [
    "print(fun1_x0(.5, .1))\n",
    "print(fun1_x1(.5, .1))"
   ]
  },
  {
   "cell_type": "code",
   "execution_count": 5,
   "metadata": {},
   "outputs": [
    {
     "data": {
      "text/plain": [
       "array([[0, 1],\n",
       "       [1, 0]])"
      ]
     },
     "execution_count": 5,
     "metadata": {},
     "output_type": "execute_result"
    }
   ],
   "source": [
    "sigx = anp.array([[0, 1],[1,0]])\n",
    "sigx"
   ]
  },
  {
   "cell_type": "code",
   "execution_count": 6,
   "metadata": {},
   "outputs": [
    {
     "data": {
      "text/plain": [
       "array([[ 0.+0.j, -0.-1.j],\n",
       "       [ 0.+1.j,  0.+0.j]])"
      ]
     },
     "execution_count": 6,
     "metadata": {},
     "output_type": "execute_result"
    }
   ],
   "source": [
    "sigy = anp.array([[0, -1j],[1j,0]])\n",
    "sigy"
   ]
  },
  {
   "cell_type": "code",
   "execution_count": 7,
   "metadata": {},
   "outputs": [
    {
     "data": {
      "text/plain": [
       "array([[ 1,  0],\n",
       "       [ 0, -1]])"
      ]
     },
     "execution_count": 7,
     "metadata": {},
     "output_type": "execute_result"
    }
   ],
   "source": [
    "sigz = anp.array([[1, 0],[0, -1]])\n",
    "sigz"
   ]
  },
  {
   "cell_type": "code",
   "execution_count": 8,
   "metadata": {},
   "outputs": [
    {
     "data": {
      "text/plain": [
       "array([[ 0.+0.j,  1.+0.j],\n",
       "       [ 1.+0.j,  0.+0.j],\n",
       "       [ 0.+0.j, -0.-1.j],\n",
       "       [ 0.+1.j,  0.+0.j],\n",
       "       [ 1.+0.j,  0.+0.j],\n",
       "       [ 0.+0.j, -1.+0.j]])"
      ]
     },
     "execution_count": 8,
     "metadata": {},
     "output_type": "execute_result"
    }
   ],
   "source": [
    "sig_all = anp.vstack([sigx, sigy, sigz])\n",
    "sig_all"
   ]
  },
  {
   "cell_type": "code",
   "execution_count": 9,
   "metadata": {},
   "outputs": [
    {
     "data": {
      "text/plain": [
       "array([[[ 0.+0.j,  0.+0.j,  1.+0.j],\n",
       "        [ 1.+0.j, -0.-1.j,  0.+0.j]],\n",
       "\n",
       "       [[ 1.+0.j,  0.+1.j,  0.+0.j],\n",
       "        [ 0.+0.j,  0.+0.j, -1.+0.j]]])"
      ]
     },
     "execution_count": 9,
     "metadata": {},
     "output_type": "execute_result"
    }
   ],
   "source": [
    "sig_all = anp.reshape(sig_all, (3, 2, 2)).transpose(1, 2, 0)\n",
    "sig_all"
   ]
  },
  {
   "cell_type": "code",
   "execution_count": 10,
   "metadata": {},
   "outputs": [
    {
     "name": "stdout",
     "output_type": "stream",
     "text": [
      "sigx_=\n",
      " [[ 0.+0.j  1.+0.j]\n",
      " [ 1.+0.j  0.+0.j]]\n",
      "sigy_=\n",
      " [[ 0.+0.j  0.-1.j]\n",
      " [ 0.+1.j  0.+0.j]]\n",
      "sigz_=\n",
      " [[ 1.+0.j  0.+0.j]\n",
      " [ 0.+0.j -1.+0.j]]\n"
     ]
    }
   ],
   "source": [
    "ex = anp.array([1,0,0])\n",
    "ey = anp.array([0,1,0])\n",
    "ez = anp.array([0,0,1])\n",
    "sigx_ = anp.dot(sig_all, ex)\n",
    "sigy_ = anp.dot(sig_all, ey)\n",
    "sigz_ = anp.dot(sig_all, ez)\n",
    "print('sigx_=\\n', sigx_)\n",
    "print('sigy_=\\n', sigy_)\n",
    "print('sigz_=\\n', sigz_)"
   ]
  },
  {
   "cell_type": "markdown",
   "metadata": {},
   "source": [
    "$ U = e^{i\\sigma_3\\theta_3} = C + i\\sigma_3 S$\n",
    "\n",
    "$S = \\sin\\theta_3, C = \\cos \\theta_3$\n",
    "\n",
    "$\\frac{dU}{dt} = \\dot{\\theta}_3(-S + i\\sigma_3 C)$\n",
    "\n",
    "abbreviations:\n",
    "\n",
    "ax= axis\n",
    "\n",
    "dwrt= derivative with respect to\n"
   ]
  },
  {
   "cell_type": "code",
   "execution_count": 11,
   "metadata": {
    "collapsed": true
   },
   "outputs": [],
   "source": [
    "def fun2(t, ax):\n",
    "    assert ax in [1, 2, 3]\n",
    "    return anp.eye(2)*anp.cos(t) + 1j*sig_all[:, :, ax-1]*anp.sin(t)\n",
    "def fun2_t(t, ax):\n",
    "    assert  ax in [1, 2, 3]\n",
    "    return -anp.eye(2)*anp.sin(t) + 1j*sig_all[:, :, ax-1]*anp.cos(t)\n",
    "def fun2r(t, ax):\n",
    "    return anp.real(fun2(t, ax))\n",
    "def fun2i(t, ax):\n",
    "    return anp.imag(fun2(t, ax))\n",
    "def jaco_fun2(t, ax):\n",
    "    assert  ax in [1, 2, 3]\n",
    "    return auto.jacobian(fun2r, 0)(t, ax) + 1j*auto.jacobian(fun2i, 0)(t, ax) "
   ]
  },
  {
   "cell_type": "code",
   "execution_count": 12,
   "metadata": {},
   "outputs": [
    {
     "name": "stdout",
     "output_type": "stream",
     "text": [
      "[[ 0.+0.j  0.+0.j]\n",
      " [ 0.+0.j  0.+0.j]]\n",
      "[[ 0.+0.j  0.+0.j]\n",
      " [ 0.+0.j  0.+0.j]]\n",
      "[[ 0.+0.j  0.+0.j]\n",
      " [ 0.+0.j  0.+0.j]]\n"
     ]
    }
   ],
   "source": [
    "for ax in range(1, 4):\n",
    "    print(jaco_fun2(.5, 1) - fun2_t(.5, 1))"
   ]
  },
  {
   "cell_type": "markdown",
   "metadata": {},
   "source": [
    "$ U = e^{i\\sigma_k\\theta_k} = C +\n",
    "i\\sigma_k \\frac{\\theta_k}{\\theta} S$\n",
    "\n",
    "$\\theta = \\sqrt{\\theta_k\\theta_k},\n",
    " S = \\sin\\theta, C = \\cos \\theta$\n",
    "\n",
    "$\\frac{dU}{dt}=-S \\frac{\\theta_k}{\\theta}\n",
    " \\dot{\\theta_k}+ i\\sigma_k\\dot{\\theta_r}\n",
    " \\left[\\frac{\\theta_k\\theta_r}{\\theta^2} C+\n",
    "  \\frac{S}{\\theta}(-\\frac{\\theta_k\\theta_r}{\\theta^2}\n",
    "  + \\delta_{k, r})\\right]$"
   ]
  },
  {
   "cell_type": "code",
   "execution_count": 13,
   "metadata": {
    "collapsed": true
   },
   "outputs": [],
   "source": [
    "def fun3(t1, t2, t3):\n",
    "    t = anp.sqrt(t1**2 + t2**2 + t3**2)\n",
    "    tvec = anp.array([t1/t, t2/t, t3/t])\n",
    "    return anp.eye(2)*anp.cos(t) + 1j*anp.dot(sig_all, tvec)*anp.sin(t) "
   ]
  },
  {
   "cell_type": "code",
   "execution_count": 14,
   "metadata": {},
   "outputs": [
    {
     "data": {
      "text/plain": [
       "array([[ 0.93081287+0.29304884j,  0.19536589+0.09768295j],\n",
       "       [-0.19536589+0.09768295j,  0.93081287-0.29304884j]])"
      ]
     },
     "execution_count": 14,
     "metadata": {},
     "output_type": "execute_result"
    }
   ],
   "source": [
    "fun3(.1, .2, .3)"
   ]
  },
  {
   "cell_type": "code",
   "execution_count": 15,
   "metadata": {},
   "outputs": [
    {
     "data": {
      "text/plain": [
       "array([[ 0.+0.j,  0.+0.j],\n",
       "       [ 0.+0.j,  0.+0.j]])"
      ]
     },
     "execution_count": 15,
     "metadata": {},
     "output_type": "execute_result"
    }
   ],
   "source": [
    "fun3(0., 0., .3) - fun2(.3, ax=3)"
   ]
  },
  {
   "cell_type": "code",
   "execution_count": 16,
   "metadata": {
    "collapsed": true
   },
   "outputs": [],
   "source": [
    "def fun3r(t1, t2, t3):\n",
    "    return anp.real(fun3(t1, t2, t3))\n",
    "def fun3i(t1, t2, t3):\n",
    "    return anp.imag(fun3(t1, t2, t3))\n",
    "# dwrt stands for \"derivative with respect to\". If dwrt=1, 2, 3 partial dwrt t1, t2, t3\n",
    "def jaco_fun3(t1, t2, t3, dwrt):\n",
    "    assert dwrt in [1, 2, 3]\n",
    "    return auto.jacobian(fun3r, dwrt-1)(t1, t2, t3) + 1j*auto.jacobian(fun3i, dwrt-1)(t1, t2, t3) "
   ]
  },
  {
   "cell_type": "code",
   "execution_count": 17,
   "metadata": {},
   "outputs": [
    {
     "name": "stdout",
     "output_type": "stream",
     "text": [
      "[[ 0.+0.j          0.+0.95885108j]\n",
      " [ 0.+0.95885108j  0.+0.j        ]]\n",
      "[[ 0.00000000+0.j  0.95885108+0.j]\n",
      " [-0.95885108+0.j  0.00000000+0.j]]\n",
      "[[-0.47942554+0.87758256j  0.00000000+0.j        ]\n",
      " [ 0.00000000+0.j         -0.47942554-0.87758256j]]\n"
     ]
    }
   ],
   "source": [
    "for k in range(1, 4):\n",
    "    print(jaco_fun3(0., 0., .5, dwrt=k))"
   ]
  },
  {
   "cell_type": "code",
   "execution_count": 18,
   "metadata": {},
   "outputs": [
    {
     "data": {
      "text/plain": [
       "array([[-0.47942554+0.87758256j,  0.00000000+0.j        ],\n",
       "       [ 0.00000000+0.j        , -0.47942554-0.87758256j]])"
      ]
     },
     "execution_count": 18,
     "metadata": {},
     "output_type": "execute_result"
    }
   ],
   "source": [
    "fun2_t(.5, ax=3)"
   ]
  },
  {
   "cell_type": "code",
   "execution_count": 19,
   "metadata": {
    "collapsed": true
   },
   "outputs": [],
   "source": [
    "def d_fun3(t1, t2, t3, dwrt):\n",
    "    assert dwrt in [1, 2, 3]\n",
    "    dwrt_ = dwrt - 1\n",
    "    t = anp.sqrt(t1**2 + t2**2 + t3**2)\n",
    "    tvec = anp.array([t1/t, t2/t, t3/t])\n",
    "    dotted_vec = tvec*tvec[dwrt_]*anp.cos(t) + (anp.sin(t)/t)*(-tvec*tvec[dwrt_] + anp.eye(3)[dwrt_, :])\n",
    "    return -anp.sin(t)*tvec[dwrt_]*anp.eye(2) + 1j*anp.dot(sig_all, dotted_vec)"
   ]
  },
  {
   "cell_type": "code",
   "execution_count": 20,
   "metadata": {},
   "outputs": [
    {
     "name": "stdout",
     "output_type": "stream",
     "text": [
      "[[ 0. -2.77555756e-17j  0. +5.55111512e-17j]\n",
      " [ 0. +5.55111512e-17j  0. +2.77555756e-17j]]\n",
      "[[ 0. -1.38777878e-17j  0. +2.77555756e-17j]\n",
      " [ 0. +2.77555756e-17j  0. +1.38777878e-17j]]\n",
      "[[ -5.55111512e-17+0.j  -1.38777878e-17+0.j]\n",
      " [  1.38777878e-17+0.j  -5.55111512e-17+0.j]]\n"
     ]
    }
   ],
   "source": [
    "for k in range(1, 4):\n",
    "    print(jaco_fun3(1.1, .7, .5, dwrt=k) - d_fun3(1.1, .7, .5, dwrt=k))"
   ]
  },
  {
   "cell_type": "code",
   "execution_count": null,
   "metadata": {
    "collapsed": true
   },
   "outputs": [],
   "source": []
  }
 ],
 "metadata": {
  "kernelspec": {
   "display_name": "Python 3",
   "language": "python",
   "name": "python3"
  },
  "language_info": {
   "codemirror_mode": {
    "name": "ipython",
    "version": 3
   },
   "file_extension": ".py",
   "mimetype": "text/x-python",
   "name": "python",
   "nbconvert_exporter": "python",
   "pygments_lexer": "ipython3",
   "version": "3.6.2"
  },
  "toc": {
   "colors": {
    "hover_highlight": "#DAA520",
    "running_highlight": "#FF0000",
    "selected_highlight": "#FFD700"
   },
   "moveMenuLeft": true,
   "nav_menu": {
    "height": "12px",
    "width": "252px"
   },
   "navigate_menu": true,
   "number_sections": true,
   "sideBar": true,
   "threshold": 4,
   "toc_cell": false,
   "toc_section_display": "block",
   "toc_window_display": false,
   "widenNotebook": false
  }
 },
 "nbformat": 4,
 "nbformat_minor": 2
}
