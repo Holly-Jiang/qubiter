{
 "cells": [
  {
   "cell_type": "markdown",
   "metadata": {},
   "source": [
    "# Example of MeanHamilMinimizer_naive class \n",
    "\n",
    "The purpose of this notebook is to describe a naive but pedagogical,\n",
    "first baby step, in the implementation\n",
    "of what is called in Qubiter the Mean Hamiltonian Minimization problem.\n",
    "\n",
    "The qc history of this problem started with quantum chemists planning to \n",
    "use on a qc, the phase estimation algo invented by Kitaev? (an algo that is also implemented in Qubiter), to estimate\n",
    "the energy levels (eigenvalues) of simple molecules, initially H2. Then a\n",
    "bunch of people realized, heck, rather than trying to estimate the\n",
    "eigenvalues of a Hamiltonian by estimating the phase changes it causes, we can \n",
    "estimate those eigenvalues more efficiently by estimating the mean value of that Hamiltonian\n",
    "as measured empirically on a qc. One of the first papers to propose this mean idea is https://arxiv.org/abs/1304.3061 Their algo is commonly referred to by the ungainly name VQE (Variational Quantum Eigensolver) VQE was originally applied to do quantum chemistry with a qc. But now Rigetti \n",
    "and others have renamed it hybrid quantum-classical quantum computing and pointed out that it's an algo that has wide applicability, not just to quantum chemistry. \n",
    "\n",
    "The idea behind hybrid quantum-classical is very simple. One has a classical box CBox and a quantum box QBox. The gates of QBox depend on N gate parameters. QBox sends info to CBox. CBox sends back to QBox N new gate parameters that will lower some cost function. This feedback process between CBox and QBox continues until the cost is minimized. The cost function\n",
    "is the mean value of a Hamiltonian which is estimated empirically on a qc which resides inside the QBox. \n",
    "\n",
    "\n",
    "To minimize a function of N continuous parameters, one can use\n",
    "some methods like simulated annealing that do not require calculating derivatives,\n",
    "or one can use methods that do use derivatives.\n",
    "\n",
    "The family of steepest descent methods (e.g., those\n",
    "that use auto differentiation and back-propagation) use only first  derivatives.\n",
    "\n",
    "Other methods use both first (Jacobian) and second (Hessian)  derivatives.\n",
    "Powell and Nelder-Mead are two methods of this kind. They are both implemented\n",
    "in the Numpy function `scipy.optimize.minimize`.\n",
    "\n",
    "Among the methods that do use derivatives,\n",
    "the performance of those that use both 1st and 2nd  derivatives \n",
    "degrades quickly as N grows. Besides, calculating 2nd derivatives\n",
    "is very expensive. Hence, methods that use the 2nd  derivatives are practically useless in\n",
    "the neural network field where N is usually very large. In that field, back-propagation rules\n",
    "\n",
    "Qubiter's class `MeanHamilMinimizer_naive` is a wrapper class designed \n",
    "mainly around `scipy.optimize.minimize`. This scipy umbrella method \n",
    "implements many of those methods that use 1st and 2nd derivatives. That \n",
    "is why I call this class naive. So why write and study this class at \n",
    "all? Because it is pedagogical and allows one to set up some of the \n",
    "structures used to implement more advanced methods that do use \n",
    "back-propagation. \n",
    "\n",
    "So, without further ado, here is an example of the use of \n",
    "class `MeanHamilMinimizer_naive`"
   ]
  },
  {
   "cell_type": "markdown",
   "metadata": {},
   "source": [
    "test: $\\bra{\\psi}M\\ket{\\phi}$"
   ]
  },
  {
   "cell_type": "markdown",
   "metadata": {},
   "source": [
    "First change the directory to the Qubiter directory and add it to the path environment variable"
   ]
  },
  {
   "cell_type": "code",
   "execution_count": 1,
   "metadata": {},
   "outputs": [
    {
     "name": "stdout",
     "output_type": "stream",
     "text": [
      "/home/jupyter/Notebooks/Quantum/qubiter/jupyter-notebooks\n",
      "/home/jupyter/Notebooks/Quantum/qubiter\n"
     ]
    }
   ],
   "source": [
    "import os\n",
    "import sys\n",
    "print(os.getcwd())\n",
    "os.chdir('../')\n",
    "print(os.getcwd())\n",
    "sys.path.insert(0,os.getcwd())"
   ]
  },
  {
   "cell_type": "markdown",
   "metadata": {},
   "source": [
    "Next we construct a simple 4 qubit circuit that depends on two placeholder variables\n",
    "`#1` and `#2`. These are the continuous variables that we will vary\n",
    "in  to minimize a cost function. The cost function will be specified later."
   ]
  },
  {
   "cell_type": "code",
   "execution_count": 2,
   "metadata": {},
   "outputs": [],
   "source": [
    "from adv_applications.MeanHamilMinimizer_naive import *"
   ]
  },
  {
   "cell_type": "code",
   "execution_count": 3,
   "metadata": {
    "collapsed": true
   },
   "outputs": [],
   "source": [
    "num_bits = 4\n",
    "file_prefix = 'io_folder/mean_hamil_naive_test'\n",
    "emb = CktEmbedder(num_bits, num_bits)\n",
    "wr = SEO_writer(file_prefix, emb)\n",
    "wr.write_Rx(2, rads=np.pi/7)\n",
    "wr.write_Rx(1, rads='#2*.5')\n",
    "wr.write_Rn(3, rads_list=['#1', '-#1*3', '#2'])\n",
    "wr.write_Rx(1, rads='-my_fun#2#1')\n",
    "wr.write_cnot(2, 3)\n",
    "wr.close_files()"
   ]
  },
  {
   "cell_type": "markdown",
   "metadata": {},
   "source": [
    "The code above wrote inside Qubiter's `io_folder`, two files,\n",
    "an English file and a Picture file. We next ask the writer object \n",
    "wr to print those two files for us"
   ]
  },
  {
   "cell_type": "code",
   "execution_count": 4,
   "metadata": {},
   "outputs": [
    {
     "name": "stdout",
     "output_type": "stream",
     "text": [
      "ROTX\t25.714285714285715\tAT\t2\n",
      "ROTX\t#2*.5\tAT\t1\n",
      "ROTN\t#1\t-#1*3\t#2\tAT\t3\n",
      "ROTX\t-my_fun#2#1\tAT\t1\n",
      "SIGX\tAT\t3\tIF\t2T\n",
      "\n"
     ]
    }
   ],
   "source": [
    "wr.print_eng_file()"
   ]
  },
  {
   "cell_type": "code",
   "execution_count": 5,
   "metadata": {},
   "outputs": [
    {
     "name": "stdout",
     "output_type": "stream",
     "text": [
      "|   Rx  |   |   \n",
      "|   |   Rx  |   \n",
      "R   |   |   |   \n",
      "|   |   Rx  |   \n",
      "X---@   |   |   \n",
      "\n"
     ]
    }
   ],
   "source": [
    "wr.print_pic_file()"
   ]
  },
  {
   "cell_type": "markdown",
   "metadata": {},
   "source": [
    "The circuit depends on a placeholder function called `my_fun`.\n",
    "This function will remain fixed during the\n",
    "minimization process but it must be defined \n",
    "and it must be passed in as an input dictionary to \n",
    "the constructor of class `MeanHamilMinimizer_naive`"
   ]
  },
  {
   "cell_type": "code",
   "execution_count": 6,
   "metadata": {
    "collapsed": true
   },
   "outputs": [],
   "source": [
    "def my_fun(x, y):\n",
    "    return x + .5*y\n",
    "\n",
    "fun_name_to_fun = {'my_fun': my_fun}"
   ]
  },
  {
   "cell_type": "markdown",
   "metadata": {},
   "source": [
    "The initial values for parameters `#1` and `#2` to be minimized\n",
    "must also be passed in as an input dictionary to \n",
    "the constructor of class `MeanHamilMinimizer_naive`"
   ]
  },
  {
   "cell_type": "code",
   "execution_count": 7,
   "metadata": {
    "collapsed": true
   },
   "outputs": [],
   "source": [
    "init_var_num_to_rads = {1: np.pi/6, 2: np.pi/3}"
   ]
  },
  {
   "cell_type": "markdown",
   "metadata": {},
   "source": [
    "One must also pass into the constructor of `MeanHamilMinimizer_naive`, the value of a Hamiltonian called `hamil`.\n",
    "Qubiter stores `hamil` in an object of the class `QubitOperator`\n",
    "from the open source Python library `OpenFermion`.\n",
    "Note that  the `QubitOperator` \n",
    "constructor simplifies `hamil` automatically.\n",
    "Hamiltonians are Hermitian, so after `QubitOperator`\n",
    "finishes simplifying `hamil`, the coefficient of every \"term\"\n",
    "of `hamil` must be real."
   ]
  },
  {
   "cell_type": "code",
   "execution_count": 8,
   "metadata": {},
   "outputs": [
    {
     "name": "stdout",
     "output_type": "stream",
     "text": [
      "hamil=\n",
      " 0.7 [X1 Y2] +\n",
      "0.4 [Y1 Y3]\n"
     ]
    }
   ],
   "source": [
    "hamil = QubitOperator('X1 Y3 X1 Y1', .4) + QubitOperator('Y2 X1', .7)\n",
    "print('hamil=\\n', hamil)"
   ]
  },
  {
   "cell_type": "markdown",
   "metadata": {},
   "source": [
    "So what is the purpose of this Hamiltonian `hamil`?\n",
    "The cost function to be minimized is defined as the mean value of `hamil`.\n",
    "More precisely, if $\\ket{\\psi}$ is the ouput of the circuit\n",
    "specified above, then the cost function equals $\\bra{\\psi} | H | \\ket{\\psi}$."
   ]
  },
  {
   "cell_type": "markdown",
   "metadata": {},
   "source": [
    "For convenience, we define a function `case()` that creates an\n",
    "object of `MeanHamilMinimizer_naive`, asks that object ot minimize the cost function,\n",
    "and then `case()` returns the final result of that minimization process.\n",
    "As advertised at the beginning of this notebook, we \n",
    "use the 'Powell' method as implemented by `scipy.optimize.minimize`"
   ]
  },
  {
   "cell_type": "code",
   "execution_count": 9,
   "metadata": {
    "collapsed": true
   },
   "outputs": [],
   "source": [
    "minimizer_fun = scipy.optimize.minimize\n",
    "min_method = 'Powell'\n",
    "num_samples = 0\n",
    "rand_seed = 1234\n",
    "print_hiatus = 25\n",
    "verbose = False\n",
    "\n",
    "def case():\n",
    "    return MeanHamilMinimizer_naive(file_prefix, num_bits, hamil,\n",
    "        init_var_num_to_rads, fun_name_to_fun,\n",
    "        minimizer_fun, num_samples, rand_seed,\n",
    "        print_hiatus, verbose, method=min_method).find_min()\n"
   ]
  },
  {
   "cell_type": "markdown",
   "metadata": {},
   "source": [
    "We focus on two cases, num_samples=0 and num_samples much larger than 0. \n",
    "When `MeanHamilMinimizer_naive` is told that \n",
    "num_samples=0, it does no sampling. It just calculates\n",
    "the mean value of `hamil` \"exactly', using the exact\n",
    "final state vector calculated by Qubiter's `SEO_simulator` class"
   ]
  },
  {
   "cell_type": "code",
   "execution_count": 10,
   "metadata": {},
   "outputs": [
    {
     "name": "stdout",
     "output_type": "stream",
     "text": [
      "iter= 25 , cost= -0.111919833534 , x_val= [ 2.70495801  1.89906689]\n",
      "iter= 50 , cost= -0.156937579192 , x_val= [ 2.54047272  2.19314244]\n",
      "iter= 75 , cost= -0.163946013152 , x_val= [ 2.4709106   2.50397983]\n",
      "iter= 100 , cost= -0.163696596963 , x_val= [ 2.4568085  2.5726661]\n"
     ]
    },
    {
     "data": {
      "text/plain": [
       "   direc: array([[-0.11902267, -0.046481  ],\n",
       "       [-0.02985049,  0.16432022]])\n",
       "     fun: -0.16395379241629054\n",
       " message: 'Optimization terminated successfully.'\n",
       "    nfev: 104\n",
       "     nit: 4\n",
       "  status: 0\n",
       " success: True\n",
       "       x: array([ 2.4680443 ,  2.51081554])"
      ]
     },
     "execution_count": 10,
     "metadata": {},
     "output_type": "execute_result"
    }
   ],
   "source": [
    "num_samples = 0\n",
    "case()"
   ]
  },
  {
   "cell_type": "markdown",
   "metadata": {},
   "source": [
    "When num_samples > 0, Qubiter calculates the final state vector\n",
    "of the circuit, then it samples that num_samples times,\n",
    "obtains an empirical probability distribution from that,\n",
    "and then it calculates the mean value of `hamil` \n",
    "using that empirical distribution"
   ]
  },
  {
   "cell_type": "code",
   "execution_count": 11,
   "metadata": {},
   "outputs": [
    {
     "name": "stdout",
     "output_type": "stream",
     "text": [
      "iter= 25 , cost= -0.12618 , x_val= [ 2.68613585  2.00152068]\n",
      "iter= 50 , cost= -0.16292 , x_val= [ 2.56254065  2.2849027 ]\n",
      "iter= 75 , cost= -0.16938 , x_val= [ 2.51384103  2.4406475 ]\n",
      "iter= 100 , cost= -0.17306 , x_val= [ 2.48602502  2.48474038]\n",
      "iter= 125 , cost= -0.174 , x_val= [ 2.48133282  2.53781611]\n",
      "iter= 150 , cost= -0.17138 , x_val= [ 2.49542984  2.51135333]\n",
      "iter= 175 , cost= -0.1732 , x_val= [ 2.48273557  2.52681542]\n",
      "iter= 200 , cost= -0.17442 , x_val= [ 2.48524374  2.50685823]\n"
     ]
    },
    {
     "data": {
      "text/plain": [
       "   direc: array([[-0.12359519, -0.0545423 ],\n",
       "       [-0.01719124,  0.13678867]])\n",
       "     fun: -0.17442000000000002\n",
       " message: 'Optimization terminated successfully.'\n",
       "    nfev: 212\n",
       "     nit: 5\n",
       "  status: 0\n",
       " success: True\n",
       "       x: array([ 2.48524374,  2.50685822])"
      ]
     },
     "execution_count": 11,
     "metadata": {},
     "output_type": "execute_result"
    }
   ],
   "source": [
    "num_samples = 10000\n",
    "case()"
   ]
  },
  {
   "cell_type": "code",
   "execution_count": null,
   "metadata": {
    "collapsed": true
   },
   "outputs": [],
   "source": []
  }
 ],
 "metadata": {
  "kernelspec": {
   "display_name": "Python 3",
   "language": "python",
   "name": "python3"
  },
  "language_info": {
   "codemirror_mode": {
    "name": "ipython",
    "version": 3
   },
   "file_extension": ".py",
   "mimetype": "text/x-python",
   "name": "python",
   "nbconvert_exporter": "python",
   "pygments_lexer": "ipython3",
   "version": "3.6.2"
  },
  "toc": {
   "colors": {
    "hover_highlight": "#DAA520",
    "running_highlight": "#FF0000",
    "selected_highlight": "#FFD700"
   },
   "moveMenuLeft": true,
   "nav_menu": {
    "height": "12px",
    "width": "252px"
   },
   "navigate_menu": true,
   "number_sections": true,
   "sideBar": true,
   "threshold": 4,
   "toc_cell": false,
   "toc_section_display": "block",
   "toc_window_display": false,
   "widenNotebook": false
  }
 },
 "nbformat": 4,
 "nbformat_minor": 2
}
