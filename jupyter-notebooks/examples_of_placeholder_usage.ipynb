{
 "cells": [
  {
   "cell_type": "markdown",
   "metadata": {},
   "source": [
    "# Examples of usage of Gate Angle Placeholder\n",
    "\n",
    "The word “Placeholder” is used in Qubiter (we are in good company, Tensorflow uses this word in the same way) to mean a variable for which we delay/postpone assigning a numerical value (evaluating it) until a later time. In the case of Qubiter, it is useful to define gates with placeholders standing for angles. One can postpone evaluating those placeholders until one is ready to call the circuit simulator, and then pass the values of the placeholders as an argument to the simulator’s constructor. Placeholders of this type can be useful, for example, with quantum neural nets (QNNs). In some QNN algorithms, the circuit gate structure is fixed but the angles of the gates are varied many times, gradually, trying to lower a cost function each time.\n",
    "\n",
    "> In Qubiter, legal variable names must be of the form `#3` or `-#3` with 3 replaced by any\n",
    "    other non-negative int. The 3 is called the variable number.\n"
   ]
  },
  {
   "cell_type": "code",
   "execution_count": 1,
   "metadata": {},
   "outputs": [
    {
     "name": "stdout",
     "output_type": "stream",
     "text": [
      "/home/Notebooks/Quantum/qubiter/jupyter-notebooks\n",
      "/home/Notebooks/Quantum/qubiter\n"
     ]
    }
   ],
   "source": [
    "import os\n",
    "import sys\n",
    "print(os.getcwd())\n",
    "os.chdir('../')\n",
    "print(os.getcwd())\n",
    "sys.path.insert(0,os.getcwd())"
   ]
  },
  {
   "cell_type": "markdown",
   "metadata": {},
   "source": [
    "We begin by writing a simple circuit with 4 qubits. As usual, the following code will\n",
    "write an English and a Picture file in the `io_folder` directory. Note that some\n",
    "angles have been entered into the write() Python functions as legal\n",
    "variable names instead of floats. In the English file, you will see those legal\n",
    "names where the numerical values of those angles would have been."
   ]
  },
  {
   "cell_type": "code",
   "execution_count": 2,
   "metadata": {},
   "outputs": [],
   "source": [
    "from SEO_writer import *\n",
    "from SEO_reader import *\n",
    "from EchoingSEO_reader import *\n",
    "from SEO_simulator import *"
   ]
  },
  {
   "cell_type": "code",
   "execution_count": 3,
   "metadata": {},
   "outputs": [],
   "source": [
    "num_bits = 4\n",
    "file_prefix = 'io_folder/gate_vars_test'\n",
    "emb = CktEmbedder(num_bits, num_bits)\n",
    "wr = SEO_writer(file_prefix, emb)\n",
    "wr.write_Rx(2, rads=np.pi/7)\n",
    "wr.write_Rx(1, rads='#2')\n",
    "wr.write_Rn(3, rads_list=['#1', '-#1', '#3'])\n",
    "wr.write_cnot(2, 3)\n",
    "wr.close_files()"
   ]
  },
  {
   "cell_type": "markdown",
   "metadata": {},
   "source": [
    "The following 2 files were just written:\n",
    "1. <a href='../io_folder/gate_vars_test_4_eng.txt'>../io_folder/gate_vars_test_4_eng.txt</a>\n",
    "2. <a href='../io_folder/gate_vars_test_4_ZLpic.txt'>../io_folder/gate_vars_test_4_ZLpic.txt</a>"
   ]
  },
  {
   "cell_type": "markdown",
   "metadata": {},
   "source": [
    "Simply by creating an object of the class SEO_reader with the flag `write_log` set equal to True, you can create a log file which contains a list of the distinct placeholder variables encountered in the English file"
   ]
  },
  {
   "cell_type": "code",
   "execution_count": 4,
   "metadata": {},
   "outputs": [],
   "source": [
    "rdr = SEO_reader(file_prefix, num_bits, write_log=True)"
   ]
  },
  {
   "cell_type": "markdown",
   "metadata": {},
   "source": [
    "The following log file was just written:\n",
    "    \n",
    "<a href='../io_folder/gate_vars_test_4_log.txt'>../io_folder/gate_vars_test_4_log.txt</a>"
   ]
  },
  {
   "cell_type": "markdown",
   "metadata": {},
   "source": [
    "Partial substitution. The following code creates new English and Picture files with `#1=30, #2=60` \n",
    "but `#3` still undecided in the English file."
   ]
  },
  {
   "cell_type": "code",
   "execution_count": 5,
   "metadata": {},
   "outputs": [
    {
     "data": {
      "text/plain": [
       "<EchoingSEO_reader.EchoingSEO_reader at 0x7fda129c7c88>"
      ]
     },
     "execution_count": 5,
     "metadata": {},
     "output_type": "execute_result"
    }
   ],
   "source": [
    "vman = PlaceholderManager(eval_all_vars=False,\n",
    "            var_num_to_rads={1: np.pi/6, 2: np.pi/3})\n",
    "wr = SEO_writer(file_prefix + '_eval01', emb)\n",
    "EchoingSEO_reader(file_prefix, num_bits, wr,\n",
    "                  vars_manager=vman)"
   ]
  },
  {
   "cell_type": "markdown",
   "metadata": {},
   "source": [
    "The following 2 files were just written:\n",
    "1. <a href='../io_folder/gate_vars_test_eval01_4_eng.txt'>../io_folder/gate_vars_test_eval01_4_eng.txt</a>\n",
    "2. <a href='../io_folder/gate_vars_test_eval01_4_ZLpic.txt'>../io_folder/gate_vars_test_eval01_4_ZLpic.txt</a>"
   ]
  },
  {
   "cell_type": "markdown",
   "metadata": {},
   "source": [
    "The following code runs the simulator after substituting\n",
    "`#1=30, #2=60, #3=90`"
   ]
  },
  {
   "cell_type": "code",
   "execution_count": 6,
   "metadata": {},
   "outputs": [
    {
     "name": "stdout",
     "output_type": "stream",
     "text": [
      "*********branch= pure\n",
      "total probability of state vector (=one if no measurements)= 1.0\n",
      "dictionary with key=qubit, value=(Prob(0), Prob(1))\n",
      "{0: (1.0, 0.0),\n",
      " 1: (0.2500000000000001, 0.7499999999999999),\n",
      " 2: (0.8117449009293668, 0.1882550990706332),\n",
      " 3: (0.701470365270198, 0.298529634729802)}\n"
     ]
    }
   ],
   "source": [
    "vman = PlaceholderManager(\n",
    "    var_num_to_rads={1: np.pi/6, 2: np.pi/3, 3: np.pi/2})\n",
    "sim = SEO_simulator(file_prefix, num_bits, verbose=False,\n",
    "                    vars_manager=vman)\n",
    "StateVec.describe_st_vec_dict(sim.cur_st_vec_dict)"
   ]
  },
  {
   "cell_type": "code",
   "execution_count": null,
   "metadata": {},
   "outputs": [],
   "source": []
  }
 ],
 "metadata": {
  "kernelspec": {
   "display_name": "Python [default]",
   "language": "python",
   "name": "python3"
  },
  "language_info": {
   "codemirror_mode": {
    "name": "ipython",
    "version": 3
   },
   "file_extension": ".py",
   "mimetype": "text/x-python",
   "name": "python",
   "nbconvert_exporter": "python",
   "pygments_lexer": "ipython3",
   "version": "3.6.3"
  },
  "toc": {
   "base_numbering": 1,
   "nav_menu": {},
   "number_sections": true,
   "sideBar": true,
   "skip_h1_title": false,
   "title_cell": "Table of Contents",
   "title_sidebar": "Contents",
   "toc_cell": false,
   "toc_position": {},
   "toc_section_display": true,
   "toc_window_display": false
  }
 },
 "nbformat": 4,
 "nbformat_minor": 2
}
