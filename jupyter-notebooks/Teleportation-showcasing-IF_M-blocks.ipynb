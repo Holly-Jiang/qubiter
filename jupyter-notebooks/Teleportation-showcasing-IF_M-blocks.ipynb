{
 "cells": [
  {
   "cell_type": "markdown",
   "metadata": {},
   "source": [
    "##  Teleportation example showcasing IF_M blocks\n",
    "This notebook uses Qubiter to illustrate quantum Teleportation \n",
    "of the pure state of one qubit (at 0) to another qubit (at 2) with the help of an ancilla qubit (at 1).\n",
    "\n",
    "The purpose of this notebook is not to teach about the \"theory\" behind quantum Teleportation.\n",
    "For that, the reader can go to numerous sources on the internet (Wikipedia, course notes, etc.)\n",
    "The purpose is to showcase some of the features of Qubiter, especially IF_M blocks (and also PRINT statements and calculations and plotting of various density matrices associated with any quantum circuit).\n",
    "\n",
    "For a full inventory of Qubiter English file commands, see <a href=\"../qubiter_rosetta_stone.pdf\">\n",
    "Qubiter's Rosetta Stone pdf</a>\n",
    "\n",
    "IBM has posted at https://github.com/QISKit/qiskit-tutorial, a jupyter notebook similar to this one, analysing the same quantum circuit for quantum Teleportation from one qubit to another. Their notebook uses IBM's qasm language instead of Qubiter's language so you might profit from comparing their notebook to this one to decide which qc language you prefer. Qubiter includes subroutines that can translate its language to IBM qasm that can then be run on IBM qc hardware.\n"
   ]
  },
  {
   "cell_type": "markdown",
   "metadata": {},
   "source": [
    "First change your working directory to the qubiter directory in your computer, and add its path to the path environment variable."
   ]
  },
  {
   "cell_type": "code",
   "execution_count": 1,
   "metadata": {},
   "outputs": [
    {
     "name": "stdout",
     "output_type": "stream",
     "text": [
      "/home/Notebooks/Quantum/qubiter/qubiter/jupyter-notebooks\n",
      "/home/Notebooks/Quantum/qubiter/qubiter\n"
     ]
    }
   ],
   "source": [
    "import os\n",
    "import sys\n",
    "print(os.getcwd())\n",
    "os.chdir('../')\n",
    "print(os.getcwd())\n",
    "sys.path.insert(0,os.getcwd())"
   ]
  },
  {
   "cell_type": "markdown",
   "metadata": {},
   "source": [
    "Next do imports:"
   ]
  },
  {
   "cell_type": "code",
   "execution_count": 2,
   "metadata": {},
   "outputs": [],
   "source": [
    "from SEO_writer import *\n",
    "from SEO_simulator import *\n",
    "from StateVec import *\n",
    "from Plotter import *\n",
    "import numpy as np\n",
    "# np.set_printoptions(precision=5)\n",
    "import pandas as pan\n",
    "import seaborn as sea; sea.set()"
   ]
  },
  {
   "cell_type": "markdown",
   "metadata": {},
   "source": [
    "Number of qubits is 3.\n",
    "Note that we use \"bit\" for both qbits and cbits.\n",
    "Use a trivial circuit embedder that embeds 3 qubits into same 3 qubits"
   ]
  },
  {
   "cell_type": "code",
   "execution_count": 3,
   "metadata": {},
   "outputs": [],
   "source": [
    "num_bits = 3\n",
    "emb = CktEmbedder(num_bits, num_bits)"
   ]
  },
  {
   "cell_type": "markdown",
   "metadata": {},
   "source": [
    "Open a writer, and tell it where to write to.\n",
    "We will use zero bit last (ZL) convention which is the default."
   ]
  },
  {
   "cell_type": "code",
   "execution_count": 4,
   "metadata": {},
   "outputs": [],
   "source": [
    "file_prefix = 'io_folder/teleportation-with-ifs'\n",
    "wr = SEO_writer(file_prefix, emb)"
   ]
  },
  {
   "cell_type": "markdown",
   "metadata": {},
   "source": [
    "Write English and Picture files of the quantum circuit. Close those files once finished writing to them."
   ]
  },
  {
   "cell_type": "code",
   "execution_count": 5,
   "metadata": {},
   "outputs": [],
   "source": [
    "wr.write_Rn(0, list(np.pi/180*np.array([20, 68, 46])))\n",
    "wr.write_PRINT(\"ALL\")\n",
    "\n",
    "wr.write_H(1)\n",
    "wr.write_cnot(control_bit=1, target_bit=2)\n",
    "#wr.write_one_bit_gate(0, OneBitGates.rot_ax, [-np.pi/8, 2])\n",
    "wr.write_cnot(control_bit=0, target_bit=1)\n",
    "wr.write_H(0)\n",
    "wr.write_PRINT(\"ALL\")\n",
    "\n",
    "wr.write_MEAS(0, kind=2)\n",
    "wr.write_MEAS(1, kind=2)\n",
    "\n",
    "wr.write_PRINT(\"ALL\")\n",
    "wr.write_IF_M_beg(Controls.new_knob(num_bits, 0, True))\n",
    "wr.write_Z(2)\n",
    "wr.write_IF_M_end()\n",
    "wr.write_PRINT(\"ALL\")\n",
    "wr.write_IF_M_beg(Controls.new_knob(num_bits, 1, True))\n",
    "wr.write_X(2)\n",
    "wr.write_IF_M_end()\n",
    "wr.write_PRINT(\"ALL\")\n",
    "    \n",
    "wr.close_files()"
   ]
  },
  {
   "cell_type": "markdown",
   "metadata": {},
   "source": [
    "The English and Picture files just produced have been stored in the io_folder. Here are links to them:\n",
    "* <a href=\"../io_folder/teleportation-with-ifs_3_eng.txt\">../io_folder/teleportation-with-ifs_3_eng.txt</a>\n",
    "* <a href=\"../io_folder/teleportation-with-ifs_3_ZLpic.txt\">../io_folder/teleportation-with-ifs_3_ZLpic.txt</a>"
   ]
  },
  {
   "cell_type": "markdown",
   "metadata": {},
   "source": [
    "Let's print the English file:"
   ]
  },
  {
   "cell_type": "code",
   "execution_count": 6,
   "metadata": {},
   "outputs": [
    {
     "name": "stdout",
     "output_type": "stream",
     "text": [
      "ROTN\t20.0\t68.0\t46.0\tAT\t0\n",
      "PRINT\tALL\n",
      "HAD2\tAT\t1\n",
      "SIGX\tAT\t2\tIF\t1T\n",
      "SIGX\tAT\t1\tIF\t0T\n",
      "HAD2\tAT\t0\n",
      "PRINT\tALL\n",
      "MEAS\t2\tAT\t0\n",
      "MEAS\t2\tAT\t1\n",
      "PRINT\tALL\n",
      "IF_M(\t0T\t){\n",
      "SIGZ\tAT\t2\n",
      "}IF_M\n",
      "PRINT\tALL\n",
      "IF_M(\t1T\t){\n",
      "SIGX\tAT\t2\n",
      "}IF_M\n",
      "PRINT\tALL\n",
      "\n"
     ]
    }
   ],
   "source": [
    "wr.print_eng_file()"
   ]
  },
  {
   "cell_type": "markdown",
   "metadata": {},
   "source": [
    "Let's print the Picture file. \n",
    "\n",
    "Time points downward, and, since we are using the ZL convention, the 0th qubit is rightmost. \n",
    "\n",
    "Note that after an M measurement, vertical lines \"|\"\n",
    "directly under M are replaced by colons \":\"\n",
    "\n",
    "Line n of English file corresponds to line n of Picture file."
   ]
  },
  {
   "cell_type": "code",
   "execution_count": 7,
   "metadata": {},
   "outputs": [
    {
     "name": "stdout",
     "output_type": "stream",
     "text": [
      "|   |   R   \n",
      "PRINT\tALL\n",
      "|   H   |   \n",
      "X---@   |   \n",
      "|   X---@   \n",
      "|   |   H   \n",
      "PRINT\tALL\n",
      "|   |   M   \n",
      "|   M   :   \n",
      "PRINT\tALL\n",
      "IF_M(\t0T\t){\n",
      "Z   :   :   \n",
      "}IF_M\n",
      "PRINT\tALL\n",
      "IF_M(\t1T\t){\n",
      "X   :   :   \n",
      "}IF_M\n",
      "PRINT\tALL\n",
      "\n"
     ]
    }
   ],
   "source": [
    "wr.print_pic_file()"
   ]
  },
  {
   "cell_type": "markdown",
   "metadata": {},
   "source": [
    "Now we create a simulator object with the ground state (|0> for each qubit) as initial state.\n",
    "Creating the simulator automatically evolves the state from initial to final.\n",
    "\n",
    "The PRINT statements that we have inserted in the quantum circuit print to\n",
    "screen the state of the circuit at the line where they appear in the English and Picture files.\n",
    "Each PRINT is identified by its line number (line numbers start with 1, what is called 1 based numbers) in the Eng and Pic files."
   ]
  },
  {
   "cell_type": "code",
   "execution_count": 8,
   "metadata": {
    "scrolled": false
   },
   "outputs": [
    {
     "name": "stdout",
     "output_type": "stream",
     "text": [
      "\n",
      "*************************beginning PRINT output\n",
      "PRINT line number=2\n",
      "*********branch= pure\n",
      "state vector:\n",
      "ZL convention (Zero bit Last in state tuple)\n",
      "(000)ZL (0.09587145233013179+0.5418806258342269j) , prob= 0.3028259480263822\n",
      "(001)ZL (-0.8010409251462487+0.23560027210183782j) , prob= 0.697174051973618\n",
      "total probability of state vector (=one if no measurements)= 1.0000000000000002\n",
      "dictionary with key=qubit, value=(Prob(0), Prob(1))\n",
      "{0: (0.30282594802638213, 0.6971740519736178),\n",
      " 1: (1.0000000000000002, -2.220446049250313e-16),\n",
      " 2: (1.0000000000000002, -2.220446049250313e-16)}\n",
      "****************************ending PRINT output\n",
      "\n",
      "*************************beginning PRINT output\n",
      "PRINT line number=7\n",
      "*********branch= pure\n",
      "state vector:\n",
      "ZL convention (Zero bit Last in state tuple)\n",
      "(000)ZL (0.04793572616506589+0.2709403129171134j) , prob= 0.07570648700659549\n",
      "(100)ZL (-0.4005204625731243+0.11780013605091888j) , prob= 0.17429351299340448\n",
      "(010)ZL (-0.4005204625731243+0.11780013605091888j) , prob= 0.17429351299340448\n",
      "(110)ZL (0.04793572616506589+0.2709403129171134j) , prob= 0.07570648700659549\n",
      "(001)ZL (0.04793572616506589+0.2709403129171134j) , prob= 0.07570648700659549\n",
      "(101)ZL (0.4005204625731243-0.11780013605091888j) , prob= 0.17429351299340448\n",
      "(011)ZL (0.4005204625731243-0.11780013605091888j) , prob= 0.17429351299340448\n",
      "(111)ZL (0.04793572616506589+0.2709403129171134j) , prob= 0.07570648700659549\n",
      "total probability of state vector (=one if no measurements)= 0.9999999999999998\n",
      "dictionary with key=qubit, value=(Prob(0), Prob(1))\n",
      "{0: (0.4999999999999999, 0.5000000000000001),\n",
      " 1: (0.4999999999999999, 0.5000000000000001),\n",
      " 2: (0.4999999999999999, 0.5000000000000001)}\n",
      "****************************ending PRINT output\n",
      "\n",
      "*************************beginning PRINT output\n",
      "PRINT line number=10\n",
      "*********branch= 0T1T\n",
      "state vector:\n",
      "ZL convention (Zero bit Last in state tuple)\n",
      "(011)ZL (0.4005204625731243-0.11780013605091888j) , prob= 0.17429351299340448\n",
      "(111)ZL (0.04793572616506589+0.2709403129171134j) , prob= 0.07570648700659549\n",
      "total probability of state vector (=one if no measurements)= 0.24999999999999994\n",
      "dictionary with key=qubit, value=(Prob(0), Prob(1))\n",
      "{0: (0.0, 1.0), 1: (0.0, 1.0), 2: (0.6971740519736179, 0.3028259480263821)}\n",
      "*********branch= 0T1F\n",
      "state vector:\n",
      "ZL convention (Zero bit Last in state tuple)\n",
      "(001)ZL (0.04793572616506589+0.2709403129171134j) , prob= 0.07570648700659549\n",
      "(101)ZL (0.4005204625731243-0.11780013605091888j) , prob= 0.17429351299340448\n",
      "total probability of state vector (=one if no measurements)= 0.24999999999999994\n",
      "dictionary with key=qubit, value=(Prob(0), Prob(1))\n",
      "{0: (0.0, 1.0), 1: (1.0, 0.0), 2: (0.3028259480263821, 0.6971740519736179)}\n",
      "*********branch= 0F1T\n",
      "state vector:\n",
      "ZL convention (Zero bit Last in state tuple)\n",
      "(010)ZL (-0.4005204625731243+0.11780013605091888j) , prob= 0.17429351299340448\n",
      "(110)ZL (0.04793572616506589+0.2709403129171134j) , prob= 0.07570648700659549\n",
      "total probability of state vector (=one if no measurements)= 0.24999999999999994\n",
      "dictionary with key=qubit, value=(Prob(0), Prob(1))\n",
      "{0: (1.0, 0.0), 1: (0.0, 1.0), 2: (0.6971740519736179, 0.3028259480263821)}\n",
      "*********branch= 0F1F\n",
      "state vector:\n",
      "ZL convention (Zero bit Last in state tuple)\n",
      "(000)ZL (0.04793572616506589+0.2709403129171134j) , prob= 0.07570648700659549\n",
      "(100)ZL (-0.4005204625731243+0.11780013605091888j) , prob= 0.17429351299340448\n",
      "total probability of state vector (=one if no measurements)= 0.24999999999999994\n",
      "dictionary with key=qubit, value=(Prob(0), Prob(1))\n",
      "{0: (1.0, 0.0), 1: (1.0, 0.0), 2: (0.3028259480263821, 0.6971740519736179)}\n",
      "****************************ending PRINT output\n",
      "\n",
      "*************************beginning PRINT output\n",
      "PRINT line number=14\n",
      "*********branch= 0T1T\n",
      "state vector:\n",
      "ZL convention (Zero bit Last in state tuple)\n",
      "(011)ZL (0.4005204625731243-0.11780013605091888j) , prob= 0.17429351299340448\n",
      "(111)ZL (-0.04793572616506589-0.2709403129171134j) , prob= 0.07570648700659549\n",
      "total probability of state vector (=one if no measurements)= 0.24999999999999994\n",
      "dictionary with key=qubit, value=(Prob(0), Prob(1))\n",
      "{0: (0.0, 1.0), 1: (0.0, 1.0), 2: (0.6971740519736179, 0.3028259480263821)}\n",
      "*********branch= 0T1F\n",
      "state vector:\n",
      "ZL convention (Zero bit Last in state tuple)\n",
      "(001)ZL (0.04793572616506589+0.2709403129171134j) , prob= 0.07570648700659549\n",
      "(101)ZL (-0.4005204625731243+0.11780013605091888j) , prob= 0.17429351299340448\n",
      "total probability of state vector (=one if no measurements)= 0.24999999999999994\n",
      "dictionary with key=qubit, value=(Prob(0), Prob(1))\n",
      "{0: (0.0, 1.0), 1: (1.0, 0.0), 2: (0.3028259480263821, 0.6971740519736179)}\n",
      "*********branch= 0F1T\n",
      "state vector:\n",
      "ZL convention (Zero bit Last in state tuple)\n",
      "(010)ZL (-0.4005204625731243+0.11780013605091888j) , prob= 0.17429351299340448\n",
      "(110)ZL (0.04793572616506589+0.2709403129171134j) , prob= 0.07570648700659549\n",
      "total probability of state vector (=one if no measurements)= 0.24999999999999994\n",
      "dictionary with key=qubit, value=(Prob(0), Prob(1))\n",
      "{0: (1.0, 0.0), 1: (0.0, 1.0), 2: (0.6971740519736179, 0.3028259480263821)}\n",
      "*********branch= 0F1F\n",
      "state vector:\n",
      "ZL convention (Zero bit Last in state tuple)\n",
      "(000)ZL (0.04793572616506589+0.2709403129171134j) , prob= 0.07570648700659549\n",
      "(100)ZL (-0.4005204625731243+0.11780013605091888j) , prob= 0.17429351299340448\n",
      "total probability of state vector (=one if no measurements)= 0.24999999999999994\n",
      "dictionary with key=qubit, value=(Prob(0), Prob(1))\n",
      "{0: (1.0, 0.0), 1: (1.0, 0.0), 2: (0.3028259480263821, 0.6971740519736179)}\n",
      "****************************ending PRINT output\n",
      "\n",
      "*************************beginning PRINT output\n",
      "PRINT line number=18\n",
      "*********branch= 0T1T\n",
      "state vector:\n",
      "ZL convention (Zero bit Last in state tuple)\n",
      "(011)ZL (-0.04793572616506589-0.2709403129171134j) , prob= 0.07570648700659549\n",
      "(111)ZL (0.4005204625731243-0.11780013605091888j) , prob= 0.17429351299340448\n",
      "total probability of state vector (=one if no measurements)= 0.24999999999999994\n",
      "dictionary with key=qubit, value=(Prob(0), Prob(1))\n",
      "{0: (0.0, 1.0), 1: (0.0, 1.0), 2: (0.3028259480263821, 0.6971740519736179)}\n",
      "*********branch= 0T1F\n",
      "state vector:\n",
      "ZL convention (Zero bit Last in state tuple)\n",
      "(001)ZL (0.04793572616506589+0.2709403129171134j) , prob= 0.07570648700659549\n",
      "(101)ZL (-0.4005204625731243+0.11780013605091888j) , prob= 0.17429351299340448\n",
      "total probability of state vector (=one if no measurements)= 0.24999999999999994\n",
      "dictionary with key=qubit, value=(Prob(0), Prob(1))\n",
      "{0: (0.0, 1.0), 1: (1.0, 0.0), 2: (0.3028259480263821, 0.6971740519736179)}\n",
      "*********branch= 0F1T\n",
      "state vector:\n",
      "ZL convention (Zero bit Last in state tuple)\n",
      "(010)ZL (0.04793572616506589+0.2709403129171134j) , prob= 0.07570648700659549\n",
      "(110)ZL (-0.4005204625731243+0.11780013605091888j) , prob= 0.17429351299340448\n",
      "total probability of state vector (=one if no measurements)= 0.24999999999999994\n",
      "dictionary with key=qubit, value=(Prob(0), Prob(1))\n",
      "{0: (1.0, 0.0), 1: (0.0, 1.0), 2: (0.3028259480263821, 0.6971740519736179)}\n",
      "*********branch= 0F1F\n",
      "state vector:\n",
      "ZL convention (Zero bit Last in state tuple)\n",
      "(000)ZL (0.04793572616506589+0.2709403129171134j) , prob= 0.07570648700659549\n",
      "(100)ZL (-0.4005204625731243+0.11780013605091888j) , prob= 0.17429351299340448\n",
      "total probability of state vector (=one if no measurements)= 0.24999999999999994\n",
      "dictionary with key=qubit, value=(Prob(0), Prob(1))\n",
      "{0: (1.0, 0.0), 1: (1.0, 0.0), 2: (0.3028259480263821, 0.6971740519736179)}\n",
      "****************************ending PRINT output\n"
     ]
    }
   ],
   "source": [
    "init_st_vec = StateVec.get_ground_st_vec(num_bits)\n",
    "sim = SEO_simulator(file_prefix, num_bits, init_st_vec)"
   ]
  },
  {
   "cell_type": "markdown",
   "metadata": {},
   "source": [
    "Initially, all qubits are in state |0>. Line 1 of the circuit rotates qubit 0 by an arbitrary one qubit rotation.\n",
    "Line 2 has a PRINT statement. If you look at the code for SEO_simulator.use_PRINT(),\n",
    "you will see that a PRINT statement in format \"ALL\" prints stuff to screen and also stores \n",
    "at sim.cached_sts[line_num] a copy of the current state.\n",
    "\n",
    "Next we convert the cached state at line_num=2 to\n",
    "a density matrix called den_mat1. Then we convert den_mat1 to a Pandas dataframe\n",
    "and display that dataframe as an HTML table. States are labeled in binary ZL (Zero bit last) convention."
   ]
  },
  {
   "cell_type": "code",
   "execution_count": 9,
   "metadata": {
    "scrolled": true
   },
   "outputs": [
    {
     "data": {
      "text/html": [
       "<style  type=\"text/css\" >\n",
       "</style>  \n",
       "<table id=\"T_d93d8992_2edb_11e9_b041_0242ac110002\" > \n",
       "<thead>    <tr> \n",
       "        <th class=\"blank level0\" ></th> \n",
       "        <th class=\"col_heading level0 col0\" >000ZL</th> \n",
       "        <th class=\"col_heading level0 col1\" >001ZL</th> \n",
       "        <th class=\"col_heading level0 col2\" >010ZL</th> \n",
       "        <th class=\"col_heading level0 col3\" >011ZL</th> \n",
       "        <th class=\"col_heading level0 col4\" >100ZL</th> \n",
       "        <th class=\"col_heading level0 col5\" >101ZL</th> \n",
       "        <th class=\"col_heading level0 col6\" >110ZL</th> \n",
       "        <th class=\"col_heading level0 col7\" >111ZL</th> \n",
       "    </tr></thead> \n",
       "<tbody>    <tr> \n",
       "        <th id=\"T_d93d8992_2edb_11e9_b041_0242ac110002level0_row0\" class=\"row_heading level0 row0\" >000ZL</th> \n",
       "        <td id=\"T_d93d8992_2edb_11e9_b041_0242ac110002row0_col0\" class=\"data row0 col0\" >(0.3028+0j)</td> \n",
       "        <td id=\"T_d93d8992_2edb_11e9_b041_0242ac110002row0_col1\" class=\"data row0 col1\" >(0.05087-0.4567j)</td> \n",
       "        <td id=\"T_d93d8992_2edb_11e9_b041_0242ac110002row0_col2\" class=\"data row0 col2\" >0j</td> \n",
       "        <td id=\"T_d93d8992_2edb_11e9_b041_0242ac110002row0_col3\" class=\"data row0 col3\" >0j</td> \n",
       "        <td id=\"T_d93d8992_2edb_11e9_b041_0242ac110002row0_col4\" class=\"data row0 col4\" >0j</td> \n",
       "        <td id=\"T_d93d8992_2edb_11e9_b041_0242ac110002row0_col5\" class=\"data row0 col5\" >0j</td> \n",
       "        <td id=\"T_d93d8992_2edb_11e9_b041_0242ac110002row0_col6\" class=\"data row0 col6\" >0j</td> \n",
       "        <td id=\"T_d93d8992_2edb_11e9_b041_0242ac110002row0_col7\" class=\"data row0 col7\" >0j</td> \n",
       "    </tr>    <tr> \n",
       "        <th id=\"T_d93d8992_2edb_11e9_b041_0242ac110002level0_row1\" class=\"row_heading level0 row1\" >001ZL</th> \n",
       "        <td id=\"T_d93d8992_2edb_11e9_b041_0242ac110002row1_col0\" class=\"data row1 col0\" >(0.05087+0.4567j)</td> \n",
       "        <td id=\"T_d93d8992_2edb_11e9_b041_0242ac110002row1_col1\" class=\"data row1 col1\" >(0.6972+0j)</td> \n",
       "        <td id=\"T_d93d8992_2edb_11e9_b041_0242ac110002row1_col2\" class=\"data row1 col2\" >0j</td> \n",
       "        <td id=\"T_d93d8992_2edb_11e9_b041_0242ac110002row1_col3\" class=\"data row1 col3\" >0j</td> \n",
       "        <td id=\"T_d93d8992_2edb_11e9_b041_0242ac110002row1_col4\" class=\"data row1 col4\" >0j</td> \n",
       "        <td id=\"T_d93d8992_2edb_11e9_b041_0242ac110002row1_col5\" class=\"data row1 col5\" >0j</td> \n",
       "        <td id=\"T_d93d8992_2edb_11e9_b041_0242ac110002row1_col6\" class=\"data row1 col6\" >0j</td> \n",
       "        <td id=\"T_d93d8992_2edb_11e9_b041_0242ac110002row1_col7\" class=\"data row1 col7\" >0j</td> \n",
       "    </tr>    <tr> \n",
       "        <th id=\"T_d93d8992_2edb_11e9_b041_0242ac110002level0_row2\" class=\"row_heading level0 row2\" >010ZL</th> \n",
       "        <td id=\"T_d93d8992_2edb_11e9_b041_0242ac110002row2_col0\" class=\"data row2 col0\" >0j</td> \n",
       "        <td id=\"T_d93d8992_2edb_11e9_b041_0242ac110002row2_col1\" class=\"data row2 col1\" >0j</td> \n",
       "        <td id=\"T_d93d8992_2edb_11e9_b041_0242ac110002row2_col2\" class=\"data row2 col2\" >0j</td> \n",
       "        <td id=\"T_d93d8992_2edb_11e9_b041_0242ac110002row2_col3\" class=\"data row2 col3\" >0j</td> \n",
       "        <td id=\"T_d93d8992_2edb_11e9_b041_0242ac110002row2_col4\" class=\"data row2 col4\" >0j</td> \n",
       "        <td id=\"T_d93d8992_2edb_11e9_b041_0242ac110002row2_col5\" class=\"data row2 col5\" >0j</td> \n",
       "        <td id=\"T_d93d8992_2edb_11e9_b041_0242ac110002row2_col6\" class=\"data row2 col6\" >0j</td> \n",
       "        <td id=\"T_d93d8992_2edb_11e9_b041_0242ac110002row2_col7\" class=\"data row2 col7\" >0j</td> \n",
       "    </tr>    <tr> \n",
       "        <th id=\"T_d93d8992_2edb_11e9_b041_0242ac110002level0_row3\" class=\"row_heading level0 row3\" >011ZL</th> \n",
       "        <td id=\"T_d93d8992_2edb_11e9_b041_0242ac110002row3_col0\" class=\"data row3 col0\" >0j</td> \n",
       "        <td id=\"T_d93d8992_2edb_11e9_b041_0242ac110002row3_col1\" class=\"data row3 col1\" >0j</td> \n",
       "        <td id=\"T_d93d8992_2edb_11e9_b041_0242ac110002row3_col2\" class=\"data row3 col2\" >0j</td> \n",
       "        <td id=\"T_d93d8992_2edb_11e9_b041_0242ac110002row3_col3\" class=\"data row3 col3\" >0j</td> \n",
       "        <td id=\"T_d93d8992_2edb_11e9_b041_0242ac110002row3_col4\" class=\"data row3 col4\" >0j</td> \n",
       "        <td id=\"T_d93d8992_2edb_11e9_b041_0242ac110002row3_col5\" class=\"data row3 col5\" >0j</td> \n",
       "        <td id=\"T_d93d8992_2edb_11e9_b041_0242ac110002row3_col6\" class=\"data row3 col6\" >0j</td> \n",
       "        <td id=\"T_d93d8992_2edb_11e9_b041_0242ac110002row3_col7\" class=\"data row3 col7\" >0j</td> \n",
       "    </tr>    <tr> \n",
       "        <th id=\"T_d93d8992_2edb_11e9_b041_0242ac110002level0_row4\" class=\"row_heading level0 row4\" >100ZL</th> \n",
       "        <td id=\"T_d93d8992_2edb_11e9_b041_0242ac110002row4_col0\" class=\"data row4 col0\" >0j</td> \n",
       "        <td id=\"T_d93d8992_2edb_11e9_b041_0242ac110002row4_col1\" class=\"data row4 col1\" >0j</td> \n",
       "        <td id=\"T_d93d8992_2edb_11e9_b041_0242ac110002row4_col2\" class=\"data row4 col2\" >0j</td> \n",
       "        <td id=\"T_d93d8992_2edb_11e9_b041_0242ac110002row4_col3\" class=\"data row4 col3\" >0j</td> \n",
       "        <td id=\"T_d93d8992_2edb_11e9_b041_0242ac110002row4_col4\" class=\"data row4 col4\" >0j</td> \n",
       "        <td id=\"T_d93d8992_2edb_11e9_b041_0242ac110002row4_col5\" class=\"data row4 col5\" >0j</td> \n",
       "        <td id=\"T_d93d8992_2edb_11e9_b041_0242ac110002row4_col6\" class=\"data row4 col6\" >0j</td> \n",
       "        <td id=\"T_d93d8992_2edb_11e9_b041_0242ac110002row4_col7\" class=\"data row4 col7\" >0j</td> \n",
       "    </tr>    <tr> \n",
       "        <th id=\"T_d93d8992_2edb_11e9_b041_0242ac110002level0_row5\" class=\"row_heading level0 row5\" >101ZL</th> \n",
       "        <td id=\"T_d93d8992_2edb_11e9_b041_0242ac110002row5_col0\" class=\"data row5 col0\" >0j</td> \n",
       "        <td id=\"T_d93d8992_2edb_11e9_b041_0242ac110002row5_col1\" class=\"data row5 col1\" >0j</td> \n",
       "        <td id=\"T_d93d8992_2edb_11e9_b041_0242ac110002row5_col2\" class=\"data row5 col2\" >0j</td> \n",
       "        <td id=\"T_d93d8992_2edb_11e9_b041_0242ac110002row5_col3\" class=\"data row5 col3\" >0j</td> \n",
       "        <td id=\"T_d93d8992_2edb_11e9_b041_0242ac110002row5_col4\" class=\"data row5 col4\" >0j</td> \n",
       "        <td id=\"T_d93d8992_2edb_11e9_b041_0242ac110002row5_col5\" class=\"data row5 col5\" >0j</td> \n",
       "        <td id=\"T_d93d8992_2edb_11e9_b041_0242ac110002row5_col6\" class=\"data row5 col6\" >0j</td> \n",
       "        <td id=\"T_d93d8992_2edb_11e9_b041_0242ac110002row5_col7\" class=\"data row5 col7\" >0j</td> \n",
       "    </tr>    <tr> \n",
       "        <th id=\"T_d93d8992_2edb_11e9_b041_0242ac110002level0_row6\" class=\"row_heading level0 row6\" >110ZL</th> \n",
       "        <td id=\"T_d93d8992_2edb_11e9_b041_0242ac110002row6_col0\" class=\"data row6 col0\" >0j</td> \n",
       "        <td id=\"T_d93d8992_2edb_11e9_b041_0242ac110002row6_col1\" class=\"data row6 col1\" >0j</td> \n",
       "        <td id=\"T_d93d8992_2edb_11e9_b041_0242ac110002row6_col2\" class=\"data row6 col2\" >0j</td> \n",
       "        <td id=\"T_d93d8992_2edb_11e9_b041_0242ac110002row6_col3\" class=\"data row6 col3\" >0j</td> \n",
       "        <td id=\"T_d93d8992_2edb_11e9_b041_0242ac110002row6_col4\" class=\"data row6 col4\" >0j</td> \n",
       "        <td id=\"T_d93d8992_2edb_11e9_b041_0242ac110002row6_col5\" class=\"data row6 col5\" >0j</td> \n",
       "        <td id=\"T_d93d8992_2edb_11e9_b041_0242ac110002row6_col6\" class=\"data row6 col6\" >0j</td> \n",
       "        <td id=\"T_d93d8992_2edb_11e9_b041_0242ac110002row6_col7\" class=\"data row6 col7\" >0j</td> \n",
       "    </tr>    <tr> \n",
       "        <th id=\"T_d93d8992_2edb_11e9_b041_0242ac110002level0_row7\" class=\"row_heading level0 row7\" >111ZL</th> \n",
       "        <td id=\"T_d93d8992_2edb_11e9_b041_0242ac110002row7_col0\" class=\"data row7 col0\" >0j</td> \n",
       "        <td id=\"T_d93d8992_2edb_11e9_b041_0242ac110002row7_col1\" class=\"data row7 col1\" >0j</td> \n",
       "        <td id=\"T_d93d8992_2edb_11e9_b041_0242ac110002row7_col2\" class=\"data row7 col2\" >0j</td> \n",
       "        <td id=\"T_d93d8992_2edb_11e9_b041_0242ac110002row7_col3\" class=\"data row7 col3\" >0j</td> \n",
       "        <td id=\"T_d93d8992_2edb_11e9_b041_0242ac110002row7_col4\" class=\"data row7 col4\" >0j</td> \n",
       "        <td id=\"T_d93d8992_2edb_11e9_b041_0242ac110002row7_col5\" class=\"data row7 col5\" >0j</td> \n",
       "        <td id=\"T_d93d8992_2edb_11e9_b041_0242ac110002row7_col6\" class=\"data row7 col6\" >0j</td> \n",
       "        <td id=\"T_d93d8992_2edb_11e9_b041_0242ac110002row7_col7\" class=\"data row7 col7\" >0j</td> \n",
       "    </tr></tbody> \n",
       "</table> "
      ],
      "text/plain": [
       "<pandas.io.formats.style.Styler at 0x7f318b1af470>"
      ]
     },
     "execution_count": 9,
     "metadata": {},
     "output_type": "execute_result"
    }
   ],
   "source": [
    "# density  matrix cached at line number 2 of eng & pic files\n",
    "den_mat1 = StateVec.get_den_mat(num_bits, sim.cached_sts[2])\n",
    "den_mat1_df = Plotter.get_den_mat_df(num_bits, den_mat1)\n",
    "# pan.set_option('precision', 5)\n",
    "# print(\"\\nden_mat1=\\n\", den_mat1_df)\n",
    "den_mat1_df.style.format(\"{:.4}\")"
   ]
  },
  {
   "cell_type": "markdown",
   "metadata": {},
   "source": [
    "Next we convert the final state (which is the current state of the simulator)\n",
    "to a density matrix called den_mat2. Then we convert that to a Pandas dataframe\n",
    "and display that dataframe as an HTML table."
   ]
  },
  {
   "cell_type": "code",
   "execution_count": 10,
   "metadata": {},
   "outputs": [
    {
     "data": {
      "text/html": [
       "<style  type=\"text/css\" >\n",
       "</style>  \n",
       "<table id=\"T_d94072f6_2edb_11e9_b041_0242ac110002\" > \n",
       "<thead>    <tr> \n",
       "        <th class=\"blank level0\" ></th> \n",
       "        <th class=\"col_heading level0 col0\" >000ZL</th> \n",
       "        <th class=\"col_heading level0 col1\" >001ZL</th> \n",
       "        <th class=\"col_heading level0 col2\" >010ZL</th> \n",
       "        <th class=\"col_heading level0 col3\" >011ZL</th> \n",
       "        <th class=\"col_heading level0 col4\" >100ZL</th> \n",
       "        <th class=\"col_heading level0 col5\" >101ZL</th> \n",
       "        <th class=\"col_heading level0 col6\" >110ZL</th> \n",
       "        <th class=\"col_heading level0 col7\" >111ZL</th> \n",
       "    </tr></thead> \n",
       "<tbody>    <tr> \n",
       "        <th id=\"T_d94072f6_2edb_11e9_b041_0242ac110002level0_row0\" class=\"row_heading level0 row0\" >000ZL</th> \n",
       "        <td id=\"T_d94072f6_2edb_11e9_b041_0242ac110002row0_col0\" class=\"data row0 col0\" >(0.0757+0j)</td> \n",
       "        <td id=\"T_d94072f6_2edb_11e9_b041_0242ac110002row0_col1\" class=\"data row0 col1\" >0j</td> \n",
       "        <td id=\"T_d94072f6_2edb_11e9_b041_0242ac110002row0_col2\" class=\"data row0 col2\" >0j</td> \n",
       "        <td id=\"T_d94072f6_2edb_11e9_b041_0242ac110002row0_col3\" class=\"data row0 col3\" >0j</td> \n",
       "        <td id=\"T_d94072f6_2edb_11e9_b041_0242ac110002row0_col4\" class=\"data row0 col4\" >(0.0127-0.114j)</td> \n",
       "        <td id=\"T_d94072f6_2edb_11e9_b041_0242ac110002row0_col5\" class=\"data row0 col5\" >0j</td> \n",
       "        <td id=\"T_d94072f6_2edb_11e9_b041_0242ac110002row0_col6\" class=\"data row0 col6\" >0j</td> \n",
       "        <td id=\"T_d94072f6_2edb_11e9_b041_0242ac110002row0_col7\" class=\"data row0 col7\" >0j</td> \n",
       "    </tr>    <tr> \n",
       "        <th id=\"T_d94072f6_2edb_11e9_b041_0242ac110002level0_row1\" class=\"row_heading level0 row1\" >001ZL</th> \n",
       "        <td id=\"T_d94072f6_2edb_11e9_b041_0242ac110002row1_col0\" class=\"data row1 col0\" >0j</td> \n",
       "        <td id=\"T_d94072f6_2edb_11e9_b041_0242ac110002row1_col1\" class=\"data row1 col1\" >(0.0757+0j)</td> \n",
       "        <td id=\"T_d94072f6_2edb_11e9_b041_0242ac110002row1_col2\" class=\"data row1 col2\" >0j</td> \n",
       "        <td id=\"T_d94072f6_2edb_11e9_b041_0242ac110002row1_col3\" class=\"data row1 col3\" >0j</td> \n",
       "        <td id=\"T_d94072f6_2edb_11e9_b041_0242ac110002row1_col4\" class=\"data row1 col4\" >0j</td> \n",
       "        <td id=\"T_d94072f6_2edb_11e9_b041_0242ac110002row1_col5\" class=\"data row1 col5\" >(0.0127-0.114j)</td> \n",
       "        <td id=\"T_d94072f6_2edb_11e9_b041_0242ac110002row1_col6\" class=\"data row1 col6\" >0j</td> \n",
       "        <td id=\"T_d94072f6_2edb_11e9_b041_0242ac110002row1_col7\" class=\"data row1 col7\" >0j</td> \n",
       "    </tr>    <tr> \n",
       "        <th id=\"T_d94072f6_2edb_11e9_b041_0242ac110002level0_row2\" class=\"row_heading level0 row2\" >010ZL</th> \n",
       "        <td id=\"T_d94072f6_2edb_11e9_b041_0242ac110002row2_col0\" class=\"data row2 col0\" >0j</td> \n",
       "        <td id=\"T_d94072f6_2edb_11e9_b041_0242ac110002row2_col1\" class=\"data row2 col1\" >0j</td> \n",
       "        <td id=\"T_d94072f6_2edb_11e9_b041_0242ac110002row2_col2\" class=\"data row2 col2\" >(0.0757+0j)</td> \n",
       "        <td id=\"T_d94072f6_2edb_11e9_b041_0242ac110002row2_col3\" class=\"data row2 col3\" >0j</td> \n",
       "        <td id=\"T_d94072f6_2edb_11e9_b041_0242ac110002row2_col4\" class=\"data row2 col4\" >0j</td> \n",
       "        <td id=\"T_d94072f6_2edb_11e9_b041_0242ac110002row2_col5\" class=\"data row2 col5\" >0j</td> \n",
       "        <td id=\"T_d94072f6_2edb_11e9_b041_0242ac110002row2_col6\" class=\"data row2 col6\" >(0.0127-0.114j)</td> \n",
       "        <td id=\"T_d94072f6_2edb_11e9_b041_0242ac110002row2_col7\" class=\"data row2 col7\" >0j</td> \n",
       "    </tr>    <tr> \n",
       "        <th id=\"T_d94072f6_2edb_11e9_b041_0242ac110002level0_row3\" class=\"row_heading level0 row3\" >011ZL</th> \n",
       "        <td id=\"T_d94072f6_2edb_11e9_b041_0242ac110002row3_col0\" class=\"data row3 col0\" >0j</td> \n",
       "        <td id=\"T_d94072f6_2edb_11e9_b041_0242ac110002row3_col1\" class=\"data row3 col1\" >0j</td> \n",
       "        <td id=\"T_d94072f6_2edb_11e9_b041_0242ac110002row3_col2\" class=\"data row3 col2\" >0j</td> \n",
       "        <td id=\"T_d94072f6_2edb_11e9_b041_0242ac110002row3_col3\" class=\"data row3 col3\" >(0.0757+0j)</td> \n",
       "        <td id=\"T_d94072f6_2edb_11e9_b041_0242ac110002row3_col4\" class=\"data row3 col4\" >0j</td> \n",
       "        <td id=\"T_d94072f6_2edb_11e9_b041_0242ac110002row3_col5\" class=\"data row3 col5\" >0j</td> \n",
       "        <td id=\"T_d94072f6_2edb_11e9_b041_0242ac110002row3_col6\" class=\"data row3 col6\" >0j</td> \n",
       "        <td id=\"T_d94072f6_2edb_11e9_b041_0242ac110002row3_col7\" class=\"data row3 col7\" >(0.0127-0.114j)</td> \n",
       "    </tr>    <tr> \n",
       "        <th id=\"T_d94072f6_2edb_11e9_b041_0242ac110002level0_row4\" class=\"row_heading level0 row4\" >100ZL</th> \n",
       "        <td id=\"T_d94072f6_2edb_11e9_b041_0242ac110002row4_col0\" class=\"data row4 col0\" >(0.0127+0.114j)</td> \n",
       "        <td id=\"T_d94072f6_2edb_11e9_b041_0242ac110002row4_col1\" class=\"data row4 col1\" >0j</td> \n",
       "        <td id=\"T_d94072f6_2edb_11e9_b041_0242ac110002row4_col2\" class=\"data row4 col2\" >0j</td> \n",
       "        <td id=\"T_d94072f6_2edb_11e9_b041_0242ac110002row4_col3\" class=\"data row4 col3\" >0j</td> \n",
       "        <td id=\"T_d94072f6_2edb_11e9_b041_0242ac110002row4_col4\" class=\"data row4 col4\" >(0.174+0j)</td> \n",
       "        <td id=\"T_d94072f6_2edb_11e9_b041_0242ac110002row4_col5\" class=\"data row4 col5\" >0j</td> \n",
       "        <td id=\"T_d94072f6_2edb_11e9_b041_0242ac110002row4_col6\" class=\"data row4 col6\" >0j</td> \n",
       "        <td id=\"T_d94072f6_2edb_11e9_b041_0242ac110002row4_col7\" class=\"data row4 col7\" >0j</td> \n",
       "    </tr>    <tr> \n",
       "        <th id=\"T_d94072f6_2edb_11e9_b041_0242ac110002level0_row5\" class=\"row_heading level0 row5\" >101ZL</th> \n",
       "        <td id=\"T_d94072f6_2edb_11e9_b041_0242ac110002row5_col0\" class=\"data row5 col0\" >0j</td> \n",
       "        <td id=\"T_d94072f6_2edb_11e9_b041_0242ac110002row5_col1\" class=\"data row5 col1\" >(0.0127+0.114j)</td> \n",
       "        <td id=\"T_d94072f6_2edb_11e9_b041_0242ac110002row5_col2\" class=\"data row5 col2\" >0j</td> \n",
       "        <td id=\"T_d94072f6_2edb_11e9_b041_0242ac110002row5_col3\" class=\"data row5 col3\" >0j</td> \n",
       "        <td id=\"T_d94072f6_2edb_11e9_b041_0242ac110002row5_col4\" class=\"data row5 col4\" >0j</td> \n",
       "        <td id=\"T_d94072f6_2edb_11e9_b041_0242ac110002row5_col5\" class=\"data row5 col5\" >(0.174+0j)</td> \n",
       "        <td id=\"T_d94072f6_2edb_11e9_b041_0242ac110002row5_col6\" class=\"data row5 col6\" >0j</td> \n",
       "        <td id=\"T_d94072f6_2edb_11e9_b041_0242ac110002row5_col7\" class=\"data row5 col7\" >0j</td> \n",
       "    </tr>    <tr> \n",
       "        <th id=\"T_d94072f6_2edb_11e9_b041_0242ac110002level0_row6\" class=\"row_heading level0 row6\" >110ZL</th> \n",
       "        <td id=\"T_d94072f6_2edb_11e9_b041_0242ac110002row6_col0\" class=\"data row6 col0\" >0j</td> \n",
       "        <td id=\"T_d94072f6_2edb_11e9_b041_0242ac110002row6_col1\" class=\"data row6 col1\" >0j</td> \n",
       "        <td id=\"T_d94072f6_2edb_11e9_b041_0242ac110002row6_col2\" class=\"data row6 col2\" >(0.0127+0.114j)</td> \n",
       "        <td id=\"T_d94072f6_2edb_11e9_b041_0242ac110002row6_col3\" class=\"data row6 col3\" >0j</td> \n",
       "        <td id=\"T_d94072f6_2edb_11e9_b041_0242ac110002row6_col4\" class=\"data row6 col4\" >0j</td> \n",
       "        <td id=\"T_d94072f6_2edb_11e9_b041_0242ac110002row6_col5\" class=\"data row6 col5\" >0j</td> \n",
       "        <td id=\"T_d94072f6_2edb_11e9_b041_0242ac110002row6_col6\" class=\"data row6 col6\" >(0.174+0j)</td> \n",
       "        <td id=\"T_d94072f6_2edb_11e9_b041_0242ac110002row6_col7\" class=\"data row6 col7\" >0j</td> \n",
       "    </tr>    <tr> \n",
       "        <th id=\"T_d94072f6_2edb_11e9_b041_0242ac110002level0_row7\" class=\"row_heading level0 row7\" >111ZL</th> \n",
       "        <td id=\"T_d94072f6_2edb_11e9_b041_0242ac110002row7_col0\" class=\"data row7 col0\" >0j</td> \n",
       "        <td id=\"T_d94072f6_2edb_11e9_b041_0242ac110002row7_col1\" class=\"data row7 col1\" >0j</td> \n",
       "        <td id=\"T_d94072f6_2edb_11e9_b041_0242ac110002row7_col2\" class=\"data row7 col2\" >0j</td> \n",
       "        <td id=\"T_d94072f6_2edb_11e9_b041_0242ac110002row7_col3\" class=\"data row7 col3\" >(0.0127+0.114j)</td> \n",
       "        <td id=\"T_d94072f6_2edb_11e9_b041_0242ac110002row7_col4\" class=\"data row7 col4\" >0j</td> \n",
       "        <td id=\"T_d94072f6_2edb_11e9_b041_0242ac110002row7_col5\" class=\"data row7 col5\" >0j</td> \n",
       "        <td id=\"T_d94072f6_2edb_11e9_b041_0242ac110002row7_col6\" class=\"data row7 col6\" >0j</td> \n",
       "        <td id=\"T_d94072f6_2edb_11e9_b041_0242ac110002row7_col7\" class=\"data row7 col7\" >(0.174+0j)</td> \n",
       "    </tr></tbody> \n",
       "</table> "
      ],
      "text/plain": [
       "<pandas.io.formats.style.Styler at 0x7f31bc2709e8>"
      ]
     },
     "execution_count": 10,
     "metadata": {},
     "output_type": "execute_result"
    }
   ],
   "source": [
    "den_mat2 = StateVec.get_den_mat(num_bits, sim.cur_st_vec_dict)\n",
    "den_mat2_df = Plotter.get_den_mat_df(num_bits, den_mat2)\n",
    "# print(\"\\nden_mat2=\\n\", den_mat2_df)\n",
    "den_mat2_df.style.format(\"{:.3}\")"
   ]
  },
  {
   "cell_type": "markdown",
   "metadata": {},
   "source": [
    "Next we plot the entries of the square matrix den_mat2 as phasor arrows in a square grid (what is called a quiver plot). "
   ]
  },
  {
   "cell_type": "code",
   "execution_count": 11,
   "metadata": {
    "scrolled": false
   },
   "outputs": [
    {
     "data": {
      "image/png": "[encoded data removed]",
      "text/plain": [
       "<Figure size 432x288 with 1 Axes>"
      ]
     },
     "metadata": {},
     "output_type": "display_data"
    }
   ],
   "source": [
    "Plotter.plot_phasors(['den_mat2'], den_mat_df_list=[den_mat2_df])"
   ]
  },
  {
   "cell_type": "markdown",
   "metadata": {},
   "source": [
    "Next we create a dataframe df by replacing each entry of den_mat2's dataframe by\n",
    "its magnitude. Then we display df as an HTML table."
   ]
  },
  {
   "cell_type": "code",
   "execution_count": 12,
   "metadata": {},
   "outputs": [
    {
     "data": {
      "text/html": [
       "<div>\n",
       "<style scoped>\n",
       "    .dataframe tbody tr th:only-of-type {\n",
       "        vertical-align: middle;\n",
       "    }\n",
       "\n",
       "    .dataframe tbody tr th {\n",
       "        vertical-align: top;\n",
       "    }\n",
       "\n",
       "    .dataframe thead th {\n",
       "        text-align: right;\n",
       "    }\n",
       "</style>\n",
       "<table border=\"1\" class=\"dataframe\">\n",
       "  <thead>\n",
       "    <tr style=\"text-align: right;\">\n",
       "      <th></th>\n",
       "      <th>000ZL</th>\n",
       "      <th>001ZL</th>\n",
       "      <th>010ZL</th>\n",
       "      <th>011ZL</th>\n",
       "      <th>100ZL</th>\n",
       "      <th>101ZL</th>\n",
       "      <th>110ZL</th>\n",
       "      <th>111ZL</th>\n",
       "    </tr>\n",
       "  </thead>\n",
       "  <tbody>\n",
       "    <tr>\n",
       "      <th>000ZL</th>\n",
       "      <td>0.075706</td>\n",
       "      <td>0.000000</td>\n",
       "      <td>0.000000</td>\n",
       "      <td>0.000000</td>\n",
       "      <td>0.114870</td>\n",
       "      <td>0.000000</td>\n",
       "      <td>0.000000</td>\n",
       "      <td>0.000000</td>\n",
       "    </tr>\n",
       "    <tr>\n",
       "      <th>001ZL</th>\n",
       "      <td>0.000000</td>\n",
       "      <td>0.075706</td>\n",
       "      <td>0.000000</td>\n",
       "      <td>0.000000</td>\n",
       "      <td>0.000000</td>\n",
       "      <td>0.114870</td>\n",
       "      <td>0.000000</td>\n",
       "      <td>0.000000</td>\n",
       "    </tr>\n",
       "    <tr>\n",
       "      <th>010ZL</th>\n",
       "      <td>0.000000</td>\n",
       "      <td>0.000000</td>\n",
       "      <td>0.075706</td>\n",
       "      <td>0.000000</td>\n",
       "      <td>0.000000</td>\n",
       "      <td>0.000000</td>\n",
       "      <td>0.114870</td>\n",
       "      <td>0.000000</td>\n",
       "    </tr>\n",
       "    <tr>\n",
       "      <th>011ZL</th>\n",
       "      <td>0.000000</td>\n",
       "      <td>0.000000</td>\n",
       "      <td>0.000000</td>\n",
       "      <td>0.075706</td>\n",
       "      <td>0.000000</td>\n",
       "      <td>0.000000</td>\n",
       "      <td>0.000000</td>\n",
       "      <td>0.114870</td>\n",
       "    </tr>\n",
       "    <tr>\n",
       "      <th>100ZL</th>\n",
       "      <td>0.114870</td>\n",
       "      <td>0.000000</td>\n",
       "      <td>0.000000</td>\n",
       "      <td>0.000000</td>\n",
       "      <td>0.174294</td>\n",
       "      <td>0.000000</td>\n",
       "      <td>0.000000</td>\n",
       "      <td>0.000000</td>\n",
       "    </tr>\n",
       "    <tr>\n",
       "      <th>101ZL</th>\n",
       "      <td>0.000000</td>\n",
       "      <td>0.114870</td>\n",
       "      <td>0.000000</td>\n",
       "      <td>0.000000</td>\n",
       "      <td>0.000000</td>\n",
       "      <td>0.174294</td>\n",
       "      <td>0.000000</td>\n",
       "      <td>0.000000</td>\n",
       "    </tr>\n",
       "    <tr>\n",
       "      <th>110ZL</th>\n",
       "      <td>0.000000</td>\n",
       "      <td>0.000000</td>\n",
       "      <td>0.114870</td>\n",
       "      <td>0.000000</td>\n",
       "      <td>0.000000</td>\n",
       "      <td>0.000000</td>\n",
       "      <td>0.174294</td>\n",
       "      <td>0.000000</td>\n",
       "    </tr>\n",
       "    <tr>\n",
       "      <th>111ZL</th>\n",
       "      <td>0.000000</td>\n",
       "      <td>0.000000</td>\n",
       "      <td>0.000000</td>\n",
       "      <td>0.114870</td>\n",
       "      <td>0.000000</td>\n",
       "      <td>0.000000</td>\n",
       "      <td>0.000000</td>\n",
       "      <td>0.174294</td>\n",
       "    </tr>\n",
       "  </tbody>\n",
       "</table>\n",
       "</div>"
      ],
      "text/plain": [
       "          000ZL     001ZL     010ZL     011ZL     100ZL     101ZL     110ZL  \\\n",
       "000ZL  0.075706  0.000000  0.000000  0.000000  0.114870  0.000000  0.000000   \n",
       "001ZL  0.000000  0.075706  0.000000  0.000000  0.000000  0.114870  0.000000   \n",
       "010ZL  0.000000  0.000000  0.075706  0.000000  0.000000  0.000000  0.114870   \n",
       "011ZL  0.000000  0.000000  0.000000  0.075706  0.000000  0.000000  0.000000   \n",
       "100ZL  0.114870  0.000000  0.000000  0.000000  0.174294  0.000000  0.000000   \n",
       "101ZL  0.000000  0.114870  0.000000  0.000000  0.000000  0.174294  0.000000   \n",
       "110ZL  0.000000  0.000000  0.114870  0.000000  0.000000  0.000000  0.174294   \n",
       "111ZL  0.000000  0.000000  0.000000  0.114870  0.000000  0.000000  0.000000   \n",
       "\n",
       "          111ZL  \n",
       "000ZL  0.000000  \n",
       "001ZL  0.000000  \n",
       "010ZL  0.000000  \n",
       "011ZL  0.114870  \n",
       "100ZL  0.000000  \n",
       "101ZL  0.000000  \n",
       "110ZL  0.000000  \n",
       "111ZL  0.174294  "
      ]
     },
     "execution_count": 12,
     "metadata": {},
     "output_type": "execute_result"
    }
   ],
   "source": [
    "df = den_mat2_df.apply(lambda x : np.sqrt(np.real(x*np.conj(x))))\n",
    "df"
   ]
  },
  {
   "cell_type": "markdown",
   "metadata": {},
   "source": [
    "df is a square dataframe of non-negative numbers so it begs to be plotted as a so called heatmap, using the wonderful package called seaborn."
   ]
  },
  {
   "cell_type": "code",
   "execution_count": 13,
   "metadata": {},
   "outputs": [
    {
     "data": {
      "image/png": "[encoded data removed]",
      "text/plain": [
       "<Figure size 432x288 with 2 Axes>"
      ]
     },
     "metadata": {},
     "output_type": "display_data"
    }
   ],
   "source": [
    "plt.close('all')\n",
    "ax = sea.heatmap(df, cmap=\"YlGnBu\")\n",
    "ax.set_title('den_mat2  magnitude')\n",
    "plt.yticks(rotation=0) \n",
    "plt.xticks(rotation=90)\n",
    "plt.show()"
   ]
  },
  {
   "cell_type": "markdown",
   "metadata": {},
   "source": [
    "The impurity of a density matrix $\\rho$ is defined as $abs({\\rm tr}(\\rho^2) - 1 )$. It equals zero iff $\\rho$\n",
    "is a pure state. Note that den_mat2 is not a pure state."
   ]
  },
  {
   "cell_type": "code",
   "execution_count": 14,
   "metadata": {},
   "outputs": [
    {
     "name": "stdout",
     "output_type": "stream",
     "text": [
      "impurity of den_mat2= 0.75\n"
     ]
    }
   ],
   "source": [
    "print(\"impurity of den_mat2=\", StateVec.get_impurity(den_mat2))"
   ]
  },
  {
   "cell_type": "markdown",
   "metadata": {},
   "source": [
    "Next we calculate the trace over bits 0 and 1 of den_mat2. We call this partial\n",
    "density matrix tr01_den_mat2. We convert it to a dataframe, and display that dataframe as an HTML table.\n",
    "Note that the state at qubit 0 in den_mat1 has been successfully duplicated at qubit 2 \n",
    "with density matrix tr01_den_mat2."
   ]
  },
  {
   "cell_type": "code",
   "execution_count": 15,
   "metadata": {},
   "outputs": [
    {
     "data": {
      "text/html": [
       "<style  type=\"text/css\" >\n",
       "</style>  \n",
       "<table id=\"T_d97d4ed8_2edb_11e9_b041_0242ac110002\" > \n",
       "<thead>    <tr> \n",
       "        <th class=\"blank level0\" ></th> \n",
       "        <th class=\"col_heading level0 col0\" >0</th> \n",
       "        <th class=\"col_heading level0 col1\" >1</th> \n",
       "    </tr></thead> \n",
       "<tbody>    <tr> \n",
       "        <th id=\"T_d97d4ed8_2edb_11e9_b041_0242ac110002level0_row0\" class=\"row_heading level0 row0\" >0</th> \n",
       "        <td id=\"T_d97d4ed8_2edb_11e9_b041_0242ac110002row0_col0\" class=\"data row0 col0\" >(0.3028+0j)</td> \n",
       "        <td id=\"T_d97d4ed8_2edb_11e9_b041_0242ac110002row0_col1\" class=\"data row0 col1\" >(0.05087-0.4567j)</td> \n",
       "    </tr>    <tr> \n",
       "        <th id=\"T_d97d4ed8_2edb_11e9_b041_0242ac110002level0_row1\" class=\"row_heading level0 row1\" >1</th> \n",
       "        <td id=\"T_d97d4ed8_2edb_11e9_b041_0242ac110002row1_col0\" class=\"data row1 col0\" >(0.05087+0.4567j)</td> \n",
       "        <td id=\"T_d97d4ed8_2edb_11e9_b041_0242ac110002row1_col1\" class=\"data row1 col1\" >(0.6972+0j)</td> \n",
       "    </tr></tbody> \n",
       "</table> "
      ],
      "text/plain": [
       "<pandas.io.formats.style.Styler at 0x7f31885bd358>"
      ]
     },
     "execution_count": 15,
     "metadata": {},
     "output_type": "execute_result"
    }
   ],
   "source": [
    "tr01_den_mat2 = StateVec.get_partial_tr(num_bits, den_mat2, {0, 1})\n",
    "tr01_den_mat2_df = Plotter.get_den_mat_df(1, tr01_den_mat2)\n",
    "# print(\"\\ntr01_den_mat2=\\n\", tr01_den_mat2_df)\n",
    "tr01_den_mat2_df.style.format(\"{:.4}\")"
   ]
  },
  {
   "cell_type": "markdown",
   "metadata": {},
   "source": [
    "As expected, tr01_den_mat2 is a pure state."
   ]
  },
  {
   "cell_type": "code",
   "execution_count": 16,
   "metadata": {},
   "outputs": [
    {
     "name": "stdout",
     "output_type": "stream",
     "text": [
      "impurity of tr01_den_mat2= 2.220446049250313e-16\n"
     ]
    }
   ],
   "source": [
    "print(\"impurity of tr01_den_mat2=\", StateVec.get_impurity(tr01_den_mat2))"
   ]
  }
 ],
 "metadata": {
  "kernelspec": {
   "display_name": "Python [default]",
   "language": "python",
   "name": "python3"
  },
  "language_info": {
   "codemirror_mode": {
    "name": "ipython",
    "version": 3
   },
   "file_extension": ".py",
   "mimetype": "text/x-python",
   "name": "python",
   "nbconvert_exporter": "python",
   "pygments_lexer": "ipython3",
   "version": "3.6.3"
  },
  "toc": {
   "base_numbering": 1,
   "nav_menu": {
    "height": "12px",
    "width": "252px"
   },
   "number_sections": true,
   "sideBar": true,
   "skip_h1_title": false,
   "title_cell": "Table of Contents",
   "title_sidebar": "Contents",
   "toc_cell": false,
   "toc_position": {},
   "toc_section_display": "block",
   "toc_window_display": false
  }
 },
 "nbformat": 4,
 "nbformat_minor": 2
}
