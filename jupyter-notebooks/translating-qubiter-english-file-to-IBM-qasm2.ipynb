{
 "cells": [
  {
   "cell_type": "markdown",
   "metadata": {},
   "source": [
    "# Translating Qubiter English file to IBM qasm2"
   ]
  },
  {
   "cell_type": "markdown",
   "metadata": {},
   "source": [
    "Note that Qubiter includes a file called `for_IBM_devices/Qubiter_to_IBMqasm2.py`. This file contains a \"translator\" class that translates Qubiter “English files” to IBM QASM2 files. This translator class \n",
    "works with any IBM chip, with any number of qubits, as long as its couplings are entered via the input variable `c_to_t`. Some `c_to_t` values for IBM chips are listed in the file `for_IBM_devices/ibm_chip_couplings.py`\n",
    "\n",
    "You can manually copy&paste the contents of the QASM file produced by this Qubiter class into the “QASM Editor” at the IBM-Quantum-Experience website.\n",
    "\n",
    "Alternatively, if you install the code in this GitHub repository:\n",
    "\n",
    ">https://github.com/IBMResearch/python-sdk-quantum-experience\n",
    "\n",
    "you can write a Jupyter notebook that uses this Qubiter class to produce a QASM file\n",
    "and then automatically transmits the contents of that QASM file to the IBM website. That way you can run a q circuit on the IBM hardware directly from the Jupyter notebook."
   ]
  },
  {
   "cell_type": "code",
   "execution_count": 1,
   "metadata": {},
   "outputs": [
    {
     "name": "stdout",
     "output_type": "stream",
     "text": [
      "/home/jupyter/Notebooks/Quantum/qubiter/jupyter-notebooks\n",
      "/home/jupyter/Notebooks/Quantum/qubiter\n"
     ]
    }
   ],
   "source": [
    "# Make the qubiter directory the cwd (current working directory) and \n",
    "# add its path to the path environment variable\n",
    "import os\n",
    "import sys\n",
    "print(os.getcwd())\n",
    "os.chdir('../')\n",
    "print(os.getcwd())\n",
    "sys.path.insert(0,os.getcwd())"
   ]
  },
  {
   "cell_type": "markdown",
   "metadata": {},
   "source": [
    "Next we import the class `Qubiter_to_IBMqasm2` and print its very informative docstring so you can read it:"
   ]
  },
  {
   "cell_type": "code",
   "execution_count": 2,
   "metadata": {
    "collapsed": true
   },
   "outputs": [],
   "source": [
    "from for_IBM_devices.Qubiter_to_IBMqasm2 import *"
   ]
  },
  {
   "cell_type": "code",
   "execution_count": 3,
   "metadata": {
    "collapsed": true
   },
   "outputs": [],
   "source": [
    "# this tells notebook to send pager output to cell below instead of pager\n",
    "from __future__ import print_function\n",
    "\n",
    "def page_printer(data, start=0, screen_lines=0, pager_cmd=None):\n",
    "    if isinstance(data, dict):\n",
    "        data = data['text/plain']\n",
    "    print(data)\n",
    "\n",
    "import IPython.core.page\n",
    "IPython.core.page.page = page_printer"
   ]
  },
  {
   "cell_type": "code",
   "execution_count": 4,
   "metadata": {
    "scrolled": false
   },
   "outputs": [
    {
     "name": "stdout",
     "output_type": "stream",
     "text": [
      "\u001b[0;31mInit signature:\u001b[0m \u001b[0mQubiter_to_IBMqasm2\u001b[0m\u001b[0;34m(\u001b[0m\u001b[0mfile_prefix\u001b[0m\u001b[0;34m,\u001b[0m \u001b[0mnum_bits\u001b[0m\u001b[0;34m,\u001b[0m \u001b[0mc_to_t\u001b[0m\u001b[0;34m,\u001b[0m \u001b[0mverbose\u001b[0m\u001b[0;34m=\u001b[0m\u001b[0;32mFalse\u001b[0m\u001b[0;34m,\u001b[0m \u001b[0mwrite_qubiter_files\u001b[0m\u001b[0;34m=\u001b[0m\u001b[0;32mFalse\u001b[0m\u001b[0;34m,\u001b[0m \u001b[0;34m**\u001b[0m\u001b[0mkwargs\u001b[0m\u001b[0;34m)\u001b[0m\u001b[0;34m\u001b[0m\u001b[0m\n",
      "\u001b[0;31mDocstring:\u001b[0m     \n",
      "This class is a child of SEO_reader. It reads an input English file and\n",
      "writes an IBM qasm2 file that is a translation of the input English file\n",
      "into the IBM qasm2 language. If the option write_qubiter_files is set to\n",
      "True, this class will also write new English and Picture files that are\n",
      "in 1-1 onto line correspondence with the output IBM qasm file.\n",
      "\n",
      "The input English file that is read can only have lines of the following\n",
      "types or else the program will abort with an error message:\n",
      "\n",
      "1. single qubit rotations (HAD2, SIGX, SIGY, SIGZ, ROTX, ROTY, ROTZ or\n",
      "ROTN with no controls)\n",
      "\n",
      "2. simple CNOTs (SIGX with a single True control). Call them c->t=(c,\n",
      "t) if c is the control and t the target. (c, t) must be an item of the\n",
      "input 'c_to_t'.\n",
      "\n",
      "3. NOTA lines\n",
      "\n",
      "If you have an English file that contains lines that are more\n",
      "complicated than this (because, for example, they contain rotations with\n",
      "one or more controls attached, or because a CNOT is not allowed\n",
      "according to `c_to_t`), you can use the expander classes CktExpander,\n",
      "DiagUnitaryExpander, MultiplexorExpander, and ForbiddenCNotExpander to\n",
      "expand the circuit to an equivalent albeit longer circuit that satisfies\n",
      "constraints 1, 2, 3.\n",
      "\n",
      "This class can handle an IBM chip with any number of qubits.\n",
      "\n",
      "This class halts execution if it encounters a CNOT that is disallowed\n",
      "according to the input `c_to_t`. `c_to_t` varies with IBM chip. Some\n",
      "`c_to_t`s are listed in the file `ibm_chip_couplings.py` found in same\n",
      "folder as this file.\n",
      "\n",
      "Footnote: QASM distinguishes between quantum registers qreg and\n",
      "classical registers creg. Qubiter does not use cregs because it uses the\n",
      "classical memory of your Linux PC instead. QASM has an intricate set of\n",
      "commands for measurements. Qubiter has a complete set of measurement\n",
      "commands too (see MEAS in Rosetta stone). The QASM and Qubiter\n",
      "measurement commands can obviously be translated into each other. We\n",
      "leave that part of the translation to a future version of this class.\n",
      "\n",
      "References\n",
      "----------\n",
      "1. https://github.com/IBMResearch/python-sdk-quantum-experience\n",
      "2. https://github.com/IBMQuantum/QASM\n",
      "\n",
      "Attributes\n",
      "----------\n",
      "c_to_t : tuple[tuple(int,int)]\n",
      "    Pairs of qubits that are physically connected so they can be the two\n",
      "    ends of an elementary CNOT. Order of qubits matters: first entry of\n",
      "    tuple is control and second is target of a possible CNOT.\n",
      "qasm_out : _io.TextIOWrapper\n",
      "    This output stream is used to write a qasm file based on the input\n",
      "    English file.\n",
      "qbtr_wr : SEO_writer\n",
      "    A SEO_writer object created iff write_qubiter_files is True.\n",
      "write_qubiter_files : bool\n",
      "    The class always writes a qasm text file based on the input English\n",
      "    file that is read. Iff this is True, the class also writes English\n",
      "    and Picture files\n",
      "\u001b[0;31mInit docstring:\u001b[0m\n",
      "Constructor\n",
      "\n",
      "Parameters\n",
      "----------\n",
      "file_prefix : str\n",
      "num_bits : int\n",
      "c_to_t : tuple(tuple(int, int))\n",
      "verbose : bool\n",
      "write_qubiter_files : bool\n",
      "kwargs : dict[]\n",
      "\n",
      "Returns\n",
      "-------\n",
      "None\n",
      "\u001b[0;31mFile:\u001b[0m           ~/Notebooks/Quantum/qubiter/for_IBM_devices/Qubiter_to_IBMqasm2.py\n",
      "\u001b[0;31mType:\u001b[0m           type\n",
      "\n"
     ]
    }
   ],
   "source": [
    "Qubiter_to_IBMqasm2?"
   ]
  },
  {
   "cell_type": "markdown",
   "metadata": {},
   "source": [
    "In the following example, we will assume that we are dealing with the ibmqx2 chip which contains 5 qubits."
   ]
  },
  {
   "cell_type": "code",
   "execution_count": 5,
   "metadata": {},
   "outputs": [],
   "source": [
    "import for_IBM_devices.ibm_chip_couplings as ibm\n",
    "num_bits = 5\n",
    "c_to_t = ibm.ibmqx2_edges"
   ]
  },
  {
   "cell_type": "markdown",
   "metadata": {},
   "source": [
    "We've pre-inserted in Qubiter's io_folder an English file that puts the Qubiter translator through its paces. Let's print that file"
   ]
  },
  {
   "cell_type": "code",
   "execution_count": 6,
   "metadata": {},
   "outputs": [
    {
     "name": "stdout",
     "output_type": "stream",
     "text": [
      "HAD2  AT  3\n",
      "SIGX  AT  2\n",
      "SIGY  AT  2\n",
      "SIGZ  AT  2\n",
      "ROTX  30.0  AT  3\n",
      "ROTY  45.0  AT  3\n",
      "ROTZ  60.0  AT  3\n",
      "ROTN  30.0  45.0  60.0  AT 4\n",
      "NOTA  1->0 not allowed\n",
      "NOTA SIGX  AT  0  IF  1T\n",
      "NOTA  0->1 allowed\n",
      "SIGX  AT  1  IF  0T\n",
      "NOTA  2->0 not allowed\n",
      "NOTA SIGX  AT  0  IF  2T\n",
      "NOTA  0->2 allowed\n",
      "SIGX  AT  2  IF  0T\n",
      "NOTA  3->0 not allowed\n",
      "NOTA SIGX  AT  0  IF  3T\n",
      "NOTA  0->3 not allowed\n",
      "NOTA SIGX  AT  3  IF  0T\n",
      "\n"
     ]
    }
   ],
   "source": [
    "file_prefix = 'io_folder/qbtr2ibm_test'\n",
    "fpath = file_prefix + '_5_eng.txt'\n",
    "with open(fpath) as f:\n",
    "    print(f.read())"
   ]
  },
  {
   "cell_type": "markdown",
   "metadata": {},
   "source": [
    "Next we create an object of the translator class"
   ]
  },
  {
   "cell_type": "code",
   "execution_count": 7,
   "metadata": {},
   "outputs": [],
   "source": [
    "q2i = Qubiter_to_IBMqasm2(file_prefix, num_bits, c_to_t, write_qubiter_files=True)"
   ]
  },
  {
   "cell_type": "markdown",
   "metadata": {},
   "source": [
    "The following 3 files were generated by the constructor just called:\n",
    "\n",
    "1. <a href='../io_folder/qbtr2ibm_test_X1_5_eng.txt'>../io_folder/qbtr2ibm_test_X1_5_eng.txt</a>\n",
    "2. <a href='../io_folder/qbtr2ibm_test_X1_5_ZLpic.txt'>../io_folder/qbtr2ibm_test_X1_5_ZLpic.txt</a>\n",
    "3. <a href='../io_folder/qbtr2ibm_test_qasm2.txt'>../io_folder/qbtr2ibm_test_qasm2.txt</a>\n",
    "\n",
    "Files 1 and 2 are Qubiter style English and Picture files (they differ from the input English file principally in that they include more NOTA lines).\n",
    "\n",
    "File 3 is the IBM qasm file what we wanted. Try copying it and pasting its contents in the IBM website."
   ]
  },
  {
   "cell_type": "code",
   "execution_count": null,
   "metadata": {
    "collapsed": true
   },
   "outputs": [],
   "source": []
  }
 ],
 "metadata": {
  "kernelspec": {
   "display_name": "Python 3",
   "language": "python",
   "name": "python3"
  },
  "language_info": {
   "codemirror_mode": {
    "name": "ipython",
    "version": 3
   },
   "file_extension": ".py",
   "mimetype": "text/x-python",
   "name": "python",
   "nbconvert_exporter": "python",
   "pygments_lexer": "ipython3",
   "version": "3.6.0"
  },
  "toc": {
   "colors": {
    "hover_highlight": "#DAA520",
    "running_highlight": "#FF0000",
    "selected_highlight": "#FFD700"
   },
   "moveMenuLeft": true,
   "nav_menu": {
    "height": "51px",
    "width": "252px"
   },
   "navigate_menu": true,
   "number_sections": true,
   "sideBar": true,
   "threshold": 4,
   "toc_cell": false,
   "toc_section_display": "block",
   "toc_window_display": false,
   "widenNotebook": false
  }
 },
 "nbformat": 4,
 "nbformat_minor": 2
}
