{
 "cells": [
  {
   "cell_type": "markdown",
   "metadata": {},
   "source": [
    "# Simulation of Widget-Adjustable Parametric Circuit\n",
    "\n",
    "Suppose you are interested in printing out the state vector\n",
    "of a quantum circuit at various times (points) in its evolution, as well\n",
    "as at the end of the circuit. Qubiter can do that.\n",
    "\n",
    "Furthermore, suppose that the circuit is a parametric one, and you want to\n",
    "vary its parameters using sliders on a gui (graphical user interface).\n",
    "Qubiter can do that too, via a jupyter notebook with widgets.\n",
    "This notebook is one such notebook. \n",
    "\n",
    "\n",
    "A jupyter\n",
    "notebook with widgets gives you\n",
    "the best of both worlds, the gui world and the notebooks world.\n",
    "\n",
    "Gui's excel at reducing the possibility of user errors, increasing the ease of use for the user,\n",
    "and reducing the amount of understanding of the code \n",
    "that is demanded from the user in order for him or her to use \n",
    "the code correctly.\n",
    "\n",
    "Notebooks excel at providing a robust, flexible, ready made, familiar method of documenting\n",
    "and saving your work for multiple use cases. They are also great for \n",
    "explaining your work to others with great detail and precision."
   ]
  },
  {
   "cell_type": "code",
   "execution_count": 1,
   "metadata": {},
   "outputs": [
    {
     "name": "stdout",
     "output_type": "stream",
     "text": [
      "/home/rrtucci/PycharmProjects/qubiter/qubiter/jupyter_notebooks\n",
      "/home/rrtucci/PycharmProjects/qubiter\n"
     ]
    }
   ],
   "source": [
    "# cd to the Qubiter directory and add it to your path environmental variable\n",
    "import os\n",
    "import sys\n",
    "print(os.getcwd())\n",
    "os.chdir('../../')\n",
    "print(os.getcwd())\n",
    "sys.path.insert(0,os.getcwd())"
   ]
  },
  {
   "cell_type": "markdown",
   "metadata": {},
   "source": [
    "We will first construct the quantum\n",
    "circuit that we are interested in studying.\n",
    "\n",
    "Note that we insert a PRINT statement at each point \n",
    "at which we want a printout of\n",
    "the state vector (except at the end point which has an implicit PRINT\n",
    "statement). \n",
    "\n",
    "Note also that \n",
    "the angles for some gates are special strings \n",
    "with hash characters in them instead of floats.\n",
    "These placeholder variable or parameter\n",
    "strings have been explained elsewhere,\n",
    "in another jupyter notebook."
   ]
  },
  {
   "cell_type": "markdown",
   "metadata": {},
   "source": [
    "A PRINT statement in the 'ALL' style will\n",
    "print out a bunch of text info about the state vector\n",
    "at the point in the evolution where the print statement is located.\n",
    "The 'ALL+' style will printout\n",
    "everything that the 'ALL' style prints out, plus it\n",
    "prints a bar graph of the probability \n",
    "associated with each component of the state vector."
   ]
  },
  {
   "cell_type": "code",
   "execution_count": 2,
   "metadata": {},
   "outputs": [
    {
     "name": "stdout",
     "output_type": "stream",
     "text": [
      "loaded OneBitGates, WITHOUT autograd.numpy\n"
     ]
    }
   ],
   "source": [
    "from qubiter.jupyter_notebooks.utilities_nb import run_sim_gui\n",
    "from qubiter.SEO_writer import *"
   ]
  },
  {
   "cell_type": "code",
   "execution_count": 3,
   "metadata": {},
   "outputs": [],
   "source": [
    "num_bits = 3\n",
    "file_prefix = 'widgets_simulation_test'\n",
    "\n",
    "emb = CktEmbedder(num_bits, num_bits)\n",
    "wr = SEO_writer(file_prefix, emb)\n",
    "wr.write_Ry(0, rads='#1*.5')\n",
    "wr.write_Ry(1, rads='#2*.5')\n",
    "wr.write_cnot(0, 1)\n",
    "wr.write_PRINT('ALL+')\n",
    "wr.write_Ry(0, rads='#3*.5')\n",
    "wr.write_Ry(1, rads='#4*.5')\n",
    "wr.write_cnot(0, 1)\n",
    "wr.write_PRINT('ALL+')\n",
    "\n",
    "trols = Controls(num_bits)\n",
    "trols.bit_pos_to_kind = {0:True, 1:False}\n",
    "trols.refresh_lists()\n",
    "wr.write_controlled_one_bit_gate(2, trols,\n",
    "                                 OneBitGates.rot_ax, ['fun#1#3', 1])\n",
    "\n",
    "wr.close_files()"
   ]
  },
  {
   "cell_type": "code",
   "execution_count": 4,
   "metadata": {},
   "outputs": [
    {
     "data": {
      "text/html": [
       "<table style='font-family:monospace'><tr><td style='border-right:1px solid red;'>1</td><td style='text-align:left;'><pre>ROTY\t#1*.5\tAT\t0</pre></td></tr><td style='border-right:1px solid red;'>2</td><td style='text-align:left;'><pre>ROTY\t#2*.5\tAT\t1</pre></td></tr><td style='border-right:1px solid red;'>3</td><td style='text-align:left;'><pre>SIGX\tAT\t1\tIF\t0T</pre></td></tr><td style='border-right:1px solid red;'>4</td><td style='text-align:left;'><pre>PRINT\tALL+</pre></td></tr><td style='border-right:1px solid red;'>5</td><td style='text-align:left;'><pre>ROTY\t#3*.5\tAT\t0</pre></td></tr><td style='border-right:1px solid red;'>6</td><td style='text-align:left;'><pre>ROTY\t#4*.5\tAT\t1</pre></td></tr><td style='border-right:1px solid red;'>7</td><td style='text-align:left;'><pre>SIGX\tAT\t1\tIF\t0T</pre></td></tr><td style='border-right:1px solid red;'>8</td><td style='text-align:left;'><pre>PRINT\tALL+</pre></td></tr><td style='border-right:1px solid red;'>9</td><td style='text-align:left;'><pre>ROTX\tfun#1#3\tAT\t2\tIF\t1F\t0T</pre></td></tr></table>"
      ],
      "text/plain": [
       "<IPython.core.display.HTML object>"
      ]
     },
     "metadata": {},
     "output_type": "display_data"
    }
   ],
   "source": [
    "# We can ask wr to print the English file just created\n",
    "wr.print_eng_file(jup=True)"
   ]
  },
  {
   "cell_type": "code",
   "execution_count": 5,
   "metadata": {},
   "outputs": [
    {
     "data": {
      "text/html": [
       "<table style='font-family:monospace'><tr><td style='border-right:1px solid red;'>1</td><td style='text-align:left;'><pre>|   |   Ry</pre></td></tr><td style='border-right:1px solid red;'>2</td><td style='text-align:left;'><pre>|   Ry  |</pre></td></tr><td style='border-right:1px solid red;'>3</td><td style='text-align:left;'><pre>|   X---@</pre></td></tr><td style='border-right:1px solid red;'>4</td><td style='text-align:left;'><pre>PRINT\tALL+</pre></td></tr><td style='border-right:1px solid red;'>5</td><td style='text-align:left;'><pre>|   |   Ry</pre></td></tr><td style='border-right:1px solid red;'>6</td><td style='text-align:left;'><pre>|   Ry  |</pre></td></tr><td style='border-right:1px solid red;'>7</td><td style='text-align:left;'><pre>|   X---@</pre></td></tr><td style='border-right:1px solid red;'>8</td><td style='text-align:left;'><pre>PRINT\tALL+</pre></td></tr><td style='border-right:1px solid red;'>9</td><td style='text-align:left;'><pre>Rx--O---@</pre></td></tr></table>"
      ],
      "text/plain": [
       "<IPython.core.display.HTML object>"
      ]
     },
     "metadata": {},
     "output_type": "display_data"
    }
   ],
   "source": [
    "# We can ask wr to print the Picture file just created\n",
    "wr.print_pic_file(jup=True)"
   ]
  },
  {
   "cell_type": "markdown",
   "metadata": {},
   "source": [
    "All the gui code is prepackaged and\n",
    "included in a method called `run_sim_gui()`\n",
    "included in the file `utilities_nb.py`"
   ]
  },
  {
   "cell_type": "code",
   "execution_count": 6,
   "metadata": {
    "scrolled": false
   },
   "outputs": [
    {
     "data": {
      "application/vnd.jupyter.widget-view+json": {
       "model_id": "ad317ce314a14aaca3c56b0cffa57313",
       "version_major": 2,
       "version_minor": 0
      },
      "text/plain": [
       "HBox(children=(VBox(children=(FloatSlider(value=0.0, max=1080.0, orientation='vertical', step=10.0), FloatText…"
      ]
     },
     "metadata": {},
     "output_type": "display_data"
    },
    {
     "name": "stdout",
     "output_type": "stream",
     "text": [
      "degs_1(=rads) 130.0 ( 2.2689280275926285 )\n",
      "degs_2(=rads) 239.99999999999997 ( 4.1887902047863905 )\n",
      "degs_3(=rads) 380.0 ( 6.632251157578453 )\n",
      "degs_4(=rads) 70.0 ( 1.2217304763960306 )\n",
      "\n",
      "*************************beginning PRINT output\n",
      "PRINT line number=4\n",
      "*********branch= pure\n",
      "state vector:\n",
      "ZL convention (Zero bit Last in state tuple)\n",
      "(000)ZL (-0.211309 + 0.000000j)\t prob=0.044652\n",
      "(010)ZL (-0.365998 + 0.000000j)\t prob=0.133955\n",
      "(001)ZL ( 0.784886 + 0.000000j)\t prob=0.616045\n",
      "(011)ZL ( 0.453154 + 0.000000j)\t prob=0.205348\n",
      "total probability of state vector (=one if no measurements)= 1.000000\n",
      "dictionary with key=qubit, value=(Prob(0), Prob(1))\n",
      "{0: (0.178606, 0.821394), 1: (0.660697, 0.339303), 2: (1.0, 0.0)}\n"
     ]
    },
    {
     "data": {
      "image/png": "[encoded data removed]",
      "text/plain": [
       "<Figure size 432x288 with 1 Axes>"
      ]
     },
     "metadata": {
      "needs_background": "light"
     },
     "output_type": "display_data"
    },
    {
     "name": "stdout",
     "output_type": "stream",
     "text": [
      "****************************ending PRINT output\n",
      "\n",
      "*************************beginning PRINT output\n",
      "PRINT line number=8\n",
      "*********branch= pure\n",
      "state vector:\n",
      "ZL convention (Zero bit Last in state tuple)\n",
      "(000)ZL ( 0.220423 + 0.000000j)\t prob=0.048586\n",
      "(010)ZL ( 0.189609 + 0.000000j)\t prob=0.035952\n",
      "(001)ZL ( 0.046775 + 0.000000j)\t prob=0.002188\n",
      "(011)ZL (-0.955654 + 0.000000j)\t prob=0.913274\n",
      "total probability of state vector (=one if no measurements)= 1.000000\n",
      "dictionary with key=qubit, value=(Prob(0), Prob(1))\n",
      "{0: (0.084538, 0.915462), 1: (0.050774, 0.949226), 2: (1.0, 0.0)}\n"
     ]
    },
    {
     "data": {
      "image/png": "[encoded data removed]",
      "text/plain": [
       "<Figure size 432x288 with 1 Axes>"
      ]
     },
     "metadata": {
      "needs_background": "light"
     },
     "output_type": "display_data"
    },
    {
     "name": "stdout",
     "output_type": "stream",
     "text": [
      "****************************ending PRINT output\n",
      "\n",
      "-----------------------------beginning final results\n",
      "*********branch= pure\n",
      "state vector:\n",
      "ZL convention (Zero bit Last in state tuple)\n",
      "(000)ZL ( 0.220423 + 0.000000j)\t prob=0.048586\n",
      "(010)ZL ( 0.189609 + 0.000000j)\t prob=0.035952\n",
      "(001)ZL ( 0.015154 + 0.000000j)\t prob=0.000230\n",
      "(101)ZL ( 0.000000 + 0.044252j)\t prob=0.001958\n",
      "(011)ZL (-0.955654 + 0.000000j)\t prob=0.913274\n",
      "total probability of state vector (=one if no measurements)= 1.000000\n",
      "dictionary with key=qubit, value=(Prob(0), Prob(1))\n",
      "{0: (0.084538, 0.915462), 1: (0.050774, 0.949226), 2: (0.998042, 0.001958)}\n"
     ]
    },
    {
     "data": {
      "image/png": "[encoded data removed]",
      "text/plain": [
       "<Figure size 432x288 with 1 Axes>"
      ]
     },
     "metadata": {
      "needs_background": "light"
     },
     "output_type": "display_data"
    },
    {
     "name": "stdout",
     "output_type": "stream",
     "text": [
      "-----------------------------ending final results\n",
      "\n"
     ]
    }
   ],
   "source": [
    "all_var_nums = [1, 2, 3, 4]\n",
    "def fun(a, b):\n",
    "    return a*b*.5\n",
    "fun_name_to_fun = {'fun': fun}\n",
    "\n",
    "# re-run this cell if you change the arguments of run_sim_gui()\n",
    "%matplotlib\n",
    "run_sim_gui(file_prefix, num_bits, all_var_nums, fun_name_to_fun=fun_name_to_fun, \n",
    "            append_new=True, sty_fin_desc='ALL+')"
   ]
  },
  {
   "cell_type": "code",
   "execution_count": null,
   "metadata": {},
   "outputs": [],
   "source": []
  }
 ],
 "metadata": {
  "kernelspec": {
   "display_name": "Python 3",
   "language": "python",
   "name": "python3"
  },
  "language_info": {
   "codemirror_mode": {
    "name": "ipython",
    "version": 3
   },
   "file_extension": ".py",
   "mimetype": "text/x-python",
   "name": "python",
   "nbconvert_exporter": "python",
   "pygments_lexer": "ipython3",
   "version": "3.7.6"
  },
  "widgets": {
   "application/vnd.jupyter.widget-state+json": {
    "state": {
     "01245c36dbde477aa7687a022e75d1ca": {
      "model_module": "@jupyter-widgets/controls",
      "model_module_version": "1.4.0",
      "model_name": "DescriptionStyleModel",
      "state": {
       "description_width": ""
      }
     },
     "0599900cee1144efa340ab85304efb2e": {
      "model_module": "@jupyter-widgets/controls",
      "model_module_version": "1.4.0",
      "model_name": "SliderStyleModel",
      "state": {
       "description_width": ""
      }
     },
     "06408b8bdbf4427db9fe0538ad006a10": {
      "model_module": "@jupyter-widgets/controls",
      "model_module_version": "1.4.0",
      "model_name": "LinkModel",
      "state": {
       "source": [
        "IPY_MODEL_56f97c39df9b42e09c0f033493f55192",
        "value"
       ],
       "target": [
        "IPY_MODEL_ecf2e25e392343ffb0c1aa9ba7eed694",
        "value"
       ]
      }
     },
     "0c0f9e3bc62c45c9a6803a4149f705e0": {
      "model_module": "@jupyter-widgets/controls",
      "model_module_version": "1.4.0",
      "model_name": "VBoxModel",
      "state": {
       "children": [
        "IPY_MODEL_dba7dcc669f24455bc388b381a96e1e1",
        "IPY_MODEL_76aa65a15cd24c1ea7c82fe0e18adef8"
       ],
       "layout": "IPY_MODEL_7bfe171bf49641bc8c4207cdff9dcabf"
      }
     },
     "0c1662c43e054b8d9a10dd35b176d42b": {
      "model_module": "@jupyter-widgets/base",
      "model_module_version": "1.1.0",
      "model_name": "LayoutModel",
      "state": {
       "width": "110px"
      }
     },
     "13e7eeb1ce9147d1b1697ecd383237b7": {
      "model_module": "@jupyter-widgets/base",
      "model_module_version": "1.1.0",
      "model_name": "LayoutModel",
      "state": {}
     },
     "1c34e964cc1145c1930e9e9f8935cd8f": {
      "model_module": "@jupyter-widgets/base",
      "model_module_version": "1.1.0",
      "model_name": "LayoutModel",
      "state": {}
     },
     "1f7a9ef74ad443adb7cd82c4e1b4be48": {
      "model_module": "@jupyter-widgets/controls",
      "model_module_version": "1.4.0",
      "model_name": "SliderStyleModel",
      "state": {
       "description_width": ""
      }
     },
     "27e2ceb946184191ba929a54f406f827": {
      "model_module": "@jupyter-widgets/controls",
      "model_module_version": "1.4.0",
      "model_name": "ButtonStyleModel",
      "state": {}
     },
     "28318e46020b44bd8396ea3afb7aa4a6": {
      "model_module": "@jupyter-widgets/controls",
      "model_module_version": "1.4.0",
      "model_name": "FloatSliderModel",
      "state": {
       "layout": "IPY_MODEL_2d3f22f77af0495e830f366493898417",
       "max": 1080,
       "orientation": "vertical",
       "step": 10,
       "style": "IPY_MODEL_0599900cee1144efa340ab85304efb2e",
       "value": 70
      }
     },
     "2d3f22f77af0495e830f366493898417": {
      "model_module": "@jupyter-widgets/base",
      "model_module_version": "1.1.0",
      "model_name": "LayoutModel",
      "state": {}
     },
     "2ff71ecb3d9240b5a2d6d733a7a8e760": {
      "model_module": "@jupyter-widgets/controls",
      "model_module_version": "1.4.0",
      "model_name": "LabelModel",
      "state": {
       "layout": "IPY_MODEL_1c34e964cc1145c1930e9e9f8935cd8f",
       "style": "IPY_MODEL_3ba2f2498db0452a964fc663eed7b7dc",
       "value": "degs_4"
      }
     },
     "3290d1734a7b4556bdc469d27043c296": {
      "model_module": "@jupyter-widgets/controls",
      "model_module_version": "1.4.0",
      "model_name": "VBoxModel",
      "state": {
       "children": [
        "IPY_MODEL_28318e46020b44bd8396ea3afb7aa4a6",
        "IPY_MODEL_afc9c1b33ca44ae8bc45eba4583ebbff",
        "IPY_MODEL_2ff71ecb3d9240b5a2d6d733a7a8e760"
       ],
       "layout": "IPY_MODEL_d3e3dc9f83a143c4a5f4fc04843247ec"
      }
     },
     "34a6ca8b9c0744eaab64032d07568a77": {
      "model_module": "@jupyter-widgets/controls",
      "model_module_version": "1.4.0",
      "model_name": "DescriptionStyleModel",
      "state": {
       "description_width": ""
      }
     },
     "3ba2f2498db0452a964fc663eed7b7dc": {
      "model_module": "@jupyter-widgets/controls",
      "model_module_version": "1.4.0",
      "model_name": "DescriptionStyleModel",
      "state": {
       "description_width": ""
      }
     },
     "410e1ff9ad2a417e89367c14e2896bef": {
      "model_module": "@jupyter-widgets/base",
      "model_module_version": "1.1.0",
      "model_name": "LayoutModel",
      "state": {}
     },
     "44c860dbb7e242428d8b2d48eb4bbd31": {
      "model_module": "@jupyter-widgets/controls",
      "model_module_version": "1.4.0",
      "model_name": "FloatTextModel",
      "state": {
       "layout": "IPY_MODEL_a97c5e691b0343968873775496f7de40",
       "step": null,
       "style": "IPY_MODEL_f671933933ef4739adbb23bfb00069a3",
       "value": 380
      }
     },
     "511be12a261f4c0c81909814bdbd1d5c": {
      "model_module": "@jupyter-widgets/controls",
      "model_module_version": "1.4.0",
      "model_name": "VBoxModel",
      "state": {
       "children": [
        "IPY_MODEL_56f97c39df9b42e09c0f033493f55192",
        "IPY_MODEL_ecf2e25e392343ffb0c1aa9ba7eed694",
        "IPY_MODEL_6710a5da23db40e68b62c98f1e8ed236"
       ],
       "layout": "IPY_MODEL_410e1ff9ad2a417e89367c14e2896bef"
      }
     },
     "56f97c39df9b42e09c0f033493f55192": {
      "model_module": "@jupyter-widgets/controls",
      "model_module_version": "1.4.0",
      "model_name": "FloatSliderModel",
      "state": {
       "layout": "IPY_MODEL_eefd49abc1e54266b5fd303e8f3094cc",
       "max": 1080,
       "orientation": "vertical",
       "step": 10,
       "style": "IPY_MODEL_e608c5988be646189ecacfaae5befda9",
       "value": 130
      }
     },
     "6710a5da23db40e68b62c98f1e8ed236": {
      "model_module": "@jupyter-widgets/controls",
      "model_module_version": "1.4.0",
      "model_name": "LabelModel",
      "state": {
       "layout": "IPY_MODEL_c4d235b5f6984dcc85df1766ab42e2fd",
       "style": "IPY_MODEL_edf1da166d60415f96251700e64f9ecd",
       "value": "degs_1"
      }
     },
     "6c1a98e11ca446488c88b1c5dec7e1b8": {
      "model_module": "@jupyter-widgets/controls",
      "model_module_version": "1.4.0",
      "model_name": "VBoxModel",
      "state": {
       "children": [
        "IPY_MODEL_a0832cacb09842b8a23a79aa534b4026",
        "IPY_MODEL_c6f6dba09f6f429b9c1e03205df573d2",
        "IPY_MODEL_d84e4046da2a4cadbc911cc08906c15b"
       ],
       "layout": "IPY_MODEL_d6f72d9a0e22489f854f069b27520169"
      }
     },
     "7356baff840540eb96a75469c925f740": {
      "model_module": "@jupyter-widgets/controls",
      "model_module_version": "1.4.0",
      "model_name": "ButtonStyleModel",
      "state": {}
     },
     "76aa65a15cd24c1ea7c82fe0e18adef8": {
      "model_module": "@jupyter-widgets/controls",
      "model_module_version": "1.4.0",
      "model_name": "ButtonModel",
      "state": {
       "button_style": "danger",
       "description": "Erase Output",
       "layout": "IPY_MODEL_0c1662c43e054b8d9a10dd35b176d42b",
       "style": "IPY_MODEL_7356baff840540eb96a75469c925f740"
      }
     },
     "79abc78d3f934bb1ba136774d4a629b5": {
      "model_module": "@jupyter-widgets/controls",
      "model_module_version": "1.4.0",
      "model_name": "LabelModel",
      "state": {
       "layout": "IPY_MODEL_fae499dbe8644da297adf5762c7b0fb9",
       "style": "IPY_MODEL_d3f8a4e7bd534254a717f7a0d9fbcfdd",
       "value": "degs_3"
      }
     },
     "7a032cf67aa44b1eb0dfb22c16eba75b": {
      "model_module": "@jupyter-widgets/controls",
      "model_module_version": "1.4.0",
      "model_name": "FloatSliderModel",
      "state": {
       "layout": "IPY_MODEL_b4848b3db815470381f934d22a369eaf",
       "max": 1080,
       "orientation": "vertical",
       "step": 10,
       "style": "IPY_MODEL_1f7a9ef74ad443adb7cd82c4e1b4be48",
       "value": 380
      }
     },
     "7bfe171bf49641bc8c4207cdff9dcabf": {
      "model_module": "@jupyter-widgets/base",
      "model_module_version": "1.1.0",
      "model_name": "LayoutModel",
      "state": {}
     },
     "7e12bf4ae31848438f43542ddf19403a": {
      "model_module": "@jupyter-widgets/controls",
      "model_module_version": "1.4.0",
      "model_name": "HBoxModel",
      "state": {
       "children": [
        "IPY_MODEL_511be12a261f4c0c81909814bdbd1d5c",
        "IPY_MODEL_6c1a98e11ca446488c88b1c5dec7e1b8",
        "IPY_MODEL_aa3ebbe09f904cd9bcb1199acde01dd1",
        "IPY_MODEL_3290d1734a7b4556bdc469d27043c296",
        "IPY_MODEL_0c0f9e3bc62c45c9a6803a4149f705e0"
       ],
       "layout": "IPY_MODEL_13e7eeb1ce9147d1b1697ecd383237b7"
      }
     },
     "8d54467a56db496a84a18fbe87202c34": {
      "model_module": "@jupyter-widgets/controls",
      "model_module_version": "1.4.0",
      "model_name": "LinkModel",
      "state": {
       "source": [
        "IPY_MODEL_28318e46020b44bd8396ea3afb7aa4a6",
        "value"
       ],
       "target": [
        "IPY_MODEL_afc9c1b33ca44ae8bc45eba4583ebbff",
        "value"
       ]
      }
     },
     "a0832cacb09842b8a23a79aa534b4026": {
      "model_module": "@jupyter-widgets/controls",
      "model_module_version": "1.4.0",
      "model_name": "FloatSliderModel",
      "state": {
       "layout": "IPY_MODEL_e5bfad5452fb45dd9409c0f1326dc890",
       "max": 1080,
       "orientation": "vertical",
       "step": 10,
       "style": "IPY_MODEL_e170b826512046078da5d3f22201b701",
       "value": 240
      }
     },
     "a940c834fc5f4d1aab9dea8ed1b83cc4": {
      "model_module": "@jupyter-widgets/base",
      "model_module_version": "1.1.0",
      "model_name": "LayoutModel",
      "state": {
       "width": "110px"
      }
     },
     "a97c5e691b0343968873775496f7de40": {
      "model_module": "@jupyter-widgets/base",
      "model_module_version": "1.1.0",
      "model_name": "LayoutModel",
      "state": {
       "width": "70px"
      }
     },
     "a9baa516247f4370ad7c9a69f36e2831": {
      "model_module": "@jupyter-widgets/controls",
      "model_module_version": "1.4.0",
      "model_name": "LinkModel",
      "state": {
       "source": [
        "IPY_MODEL_a0832cacb09842b8a23a79aa534b4026",
        "value"
       ],
       "target": [
        "IPY_MODEL_c6f6dba09f6f429b9c1e03205df573d2",
        "value"
       ]
      }
     },
     "aa3ebbe09f904cd9bcb1199acde01dd1": {
      "model_module": "@jupyter-widgets/controls",
      "model_module_version": "1.4.0",
      "model_name": "VBoxModel",
      "state": {
       "children": [
        "IPY_MODEL_7a032cf67aa44b1eb0dfb22c16eba75b",
        "IPY_MODEL_44c860dbb7e242428d8b2d48eb4bbd31",
        "IPY_MODEL_79abc78d3f934bb1ba136774d4a629b5"
       ],
       "layout": "IPY_MODEL_e10fcb6cc5b94077840e18fb4372b316"
      }
     },
     "afc9c1b33ca44ae8bc45eba4583ebbff": {
      "model_module": "@jupyter-widgets/controls",
      "model_module_version": "1.4.0",
      "model_name": "FloatTextModel",
      "state": {
       "layout": "IPY_MODEL_afff2beaaa29496da6328f3dc03ed1fd",
       "step": null,
       "style": "IPY_MODEL_f08c16c3889649e49a1d6fef5b92561a",
       "value": 70
      }
     },
     "afff2beaaa29496da6328f3dc03ed1fd": {
      "model_module": "@jupyter-widgets/base",
      "model_module_version": "1.1.0",
      "model_name": "LayoutModel",
      "state": {
       "width": "70px"
      }
     },
     "b37ea3dd4289435eb4cae5390daddd52": {
      "model_module": "@jupyter-widgets/base",
      "model_module_version": "1.1.0",
      "model_name": "LayoutModel",
      "state": {}
     },
     "b4848b3db815470381f934d22a369eaf": {
      "model_module": "@jupyter-widgets/base",
      "model_module_version": "1.1.0",
      "model_name": "LayoutModel",
      "state": {}
     },
     "b8989e2f1269481ebdc549b9a5933234": {
      "model_module": "@jupyter-widgets/base",
      "model_module_version": "1.1.0",
      "model_name": "LayoutModel",
      "state": {
       "width": "70px"
      }
     },
     "c4d235b5f6984dcc85df1766ab42e2fd": {
      "model_module": "@jupyter-widgets/base",
      "model_module_version": "1.1.0",
      "model_name": "LayoutModel",
      "state": {}
     },
     "c6f6dba09f6f429b9c1e03205df573d2": {
      "model_module": "@jupyter-widgets/controls",
      "model_module_version": "1.4.0",
      "model_name": "FloatTextModel",
      "state": {
       "layout": "IPY_MODEL_b8989e2f1269481ebdc549b9a5933234",
       "step": null,
       "style": "IPY_MODEL_01245c36dbde477aa7687a022e75d1ca",
       "value": 240
      }
     },
     "cdc3a8d1e12040449fd3364ec3dd885e": {
      "model_module": "@jupyter-widgets/controls",
      "model_module_version": "1.4.0",
      "model_name": "LinkModel",
      "state": {
       "source": [
        "IPY_MODEL_7a032cf67aa44b1eb0dfb22c16eba75b",
        "value"
       ],
       "target": [
        "IPY_MODEL_44c860dbb7e242428d8b2d48eb4bbd31",
        "value"
       ]
      }
     },
     "d3e3dc9f83a143c4a5f4fc04843247ec": {
      "model_module": "@jupyter-widgets/base",
      "model_module_version": "1.1.0",
      "model_name": "LayoutModel",
      "state": {}
     },
     "d3f8a4e7bd534254a717f7a0d9fbcfdd": {
      "model_module": "@jupyter-widgets/controls",
      "model_module_version": "1.4.0",
      "model_name": "DescriptionStyleModel",
      "state": {
       "description_width": ""
      }
     },
     "d6f72d9a0e22489f854f069b27520169": {
      "model_module": "@jupyter-widgets/base",
      "model_module_version": "1.1.0",
      "model_name": "LayoutModel",
      "state": {}
     },
     "d84e4046da2a4cadbc911cc08906c15b": {
      "model_module": "@jupyter-widgets/controls",
      "model_module_version": "1.4.0",
      "model_name": "LabelModel",
      "state": {
       "layout": "IPY_MODEL_b37ea3dd4289435eb4cae5390daddd52",
       "style": "IPY_MODEL_34a6ca8b9c0744eaab64032d07568a77",
       "value": "degs_2"
      }
     },
     "dba7dcc669f24455bc388b381a96e1e1": {
      "model_module": "@jupyter-widgets/controls",
      "model_module_version": "1.4.0",
      "model_name": "ButtonModel",
      "state": {
       "button_style": "danger",
       "description": "Run",
       "layout": "IPY_MODEL_a940c834fc5f4d1aab9dea8ed1b83cc4",
       "style": "IPY_MODEL_27e2ceb946184191ba929a54f406f827"
      }
     },
     "e0ceb477182446e9a9b247ca223216d4": {
      "model_module": "@jupyter-widgets/base",
      "model_module_version": "1.1.0",
      "model_name": "LayoutModel",
      "state": {
       "width": "70px"
      }
     },
     "e10fcb6cc5b94077840e18fb4372b316": {
      "model_module": "@jupyter-widgets/base",
      "model_module_version": "1.1.0",
      "model_name": "LayoutModel",
      "state": {}
     },
     "e170b826512046078da5d3f22201b701": {
      "model_module": "@jupyter-widgets/controls",
      "model_module_version": "1.4.0",
      "model_name": "SliderStyleModel",
      "state": {
       "description_width": ""
      }
     },
     "e48b3003a6a148f5aa12b09862694e9e": {
      "model_module": "@jupyter-widgets/controls",
      "model_module_version": "1.4.0",
      "model_name": "DescriptionStyleModel",
      "state": {
       "description_width": ""
      }
     },
     "e5bfad5452fb45dd9409c0f1326dc890": {
      "model_module": "@jupyter-widgets/base",
      "model_module_version": "1.1.0",
      "model_name": "LayoutModel",
      "state": {}
     },
     "e608c5988be646189ecacfaae5befda9": {
      "model_module": "@jupyter-widgets/controls",
      "model_module_version": "1.4.0",
      "model_name": "SliderStyleModel",
      "state": {
       "description_width": ""
      }
     },
     "ecf2e25e392343ffb0c1aa9ba7eed694": {
      "model_module": "@jupyter-widgets/controls",
      "model_module_version": "1.4.0",
      "model_name": "FloatTextModel",
      "state": {
       "layout": "IPY_MODEL_e0ceb477182446e9a9b247ca223216d4",
       "step": null,
       "style": "IPY_MODEL_e48b3003a6a148f5aa12b09862694e9e",
       "value": 130
      }
     },
     "edf1da166d60415f96251700e64f9ecd": {
      "model_module": "@jupyter-widgets/controls",
      "model_module_version": "1.4.0",
      "model_name": "DescriptionStyleModel",
      "state": {
       "description_width": ""
      }
     },
     "eefd49abc1e54266b5fd303e8f3094cc": {
      "model_module": "@jupyter-widgets/base",
      "model_module_version": "1.1.0",
      "model_name": "LayoutModel",
      "state": {}
     },
     "f08c16c3889649e49a1d6fef5b92561a": {
      "model_module": "@jupyter-widgets/controls",
      "model_module_version": "1.4.0",
      "model_name": "DescriptionStyleModel",
      "state": {
       "description_width": ""
      }
     },
     "f671933933ef4739adbb23bfb00069a3": {
      "model_module": "@jupyter-widgets/controls",
      "model_module_version": "1.4.0",
      "model_name": "DescriptionStyleModel",
      "state": {
       "description_width": ""
      }
     },
     "fae499dbe8644da297adf5762c7b0fb9": {
      "model_module": "@jupyter-widgets/base",
      "model_module_version": "1.1.0",
      "model_name": "LayoutModel",
      "state": {}
     }
    },
    "version_major": 2,
    "version_minor": 0
   }
  }
 },
 "nbformat": 4,
 "nbformat_minor": 2
}
