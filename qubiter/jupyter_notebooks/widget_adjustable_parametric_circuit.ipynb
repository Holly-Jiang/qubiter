{
 "cells": [
  {
   "cell_type": "markdown",
   "metadata": {},
   "source": [
    "# Simulation of Widget-Adjustable Parametric Circuit\n",
    "\n",
    "Suppose you are interested in printing out the state vector\n",
    "of a quantum circuit at various times (points) in its evolution, as well\n",
    "as at the end of the circuit. Qubiter can do that.\n",
    "\n",
    "Furthermore, suppose that the circuit is a parametric one, and you want to\n",
    "vary its parameters using sliders on a gui (graphical user interface).\n",
    "Qubiter can do that too, via a jupyter notebook with widgets.\n",
    "This notebook is one such notebook. \n",
    "\n",
    "\n",
    "A jupyter\n",
    "notebook with widgets gives you\n",
    "the best of both worlds, the gui world and the notebooks world.\n",
    "\n",
    "Gui's excel in reducing the possibility of user errors,\n",
    "increasing the ease of use for the user,\n",
    "and reducing the amount of understanding of the code \n",
    "demanded from the user in order for him or her to use \n",
    "the code.\n",
    "\n",
    "Notebooks excel in providing a robust, flexible, ready made, familiar method of documenting\n",
    "and saving your work for multiple use cases. They are also great for \n",
    "explaining your work to others with great detail and precision."
   ]
  },
  {
   "cell_type": "code",
   "execution_count": 1,
   "metadata": {},
   "outputs": [
    {
     "name": "stdout",
     "output_type": "stream",
     "text": [
      "C:\\Users\\rrtuc\\Desktop\\backed-up\\python-projects\\qubiter\\qubiter\\jupyter_notebooks\n",
      "C:\\Users\\rrtuc\\Desktop\\backed-up\\python-projects\\qubiter\n"
     ]
    }
   ],
   "source": [
    "# cd to the Qubiter directory and add it to your path environmental variable\n",
    "import os\n",
    "import sys\n",
    "print(os.getcwd())\n",
    "os.chdir('../../')\n",
    "print(os.getcwd())\n",
    "sys.path.insert(0,os.getcwd())"
   ]
  },
  {
   "cell_type": "markdown",
   "metadata": {},
   "source": [
    "We will first construct the quantum\n",
    "circuit that we are interested in studying.\n",
    "\n",
    "Note that we insert a PRINT statement at each point \n",
    "at which we want a printout of\n",
    "the state vector (except at the end point which has an implicit PRINT\n",
    "statement). \n",
    "\n",
    "Note also that \n",
    "the angles for some gates are special strings \n",
    "with hash characters in them instead of floats.\n",
    "These placeholder variable or parameter\n",
    "strings have been explained elsewhere,\n",
    "in another jupyter notebook."
   ]
  },
  {
   "cell_type": "markdown",
   "metadata": {},
   "source": [
    "A PRINT statement in the 'ALL' style will\n",
    "print out a bunch of text info about the state vector\n",
    "at the point in the evolution where the print statement is located.\n",
    "The 'ALL+' style will printout\n",
    "everything that the 'ALL' style prints out, plus it\n",
    "prints a bar graph of the probability \n",
    "associate with each component of the state vector."
   ]
  },
  {
   "cell_type": "code",
   "execution_count": 2,
   "metadata": {},
   "outputs": [
    {
     "name": "stdout",
     "output_type": "stream",
     "text": [
      "loaded OneBitGates, WITHOUT autograd.numpy\n"
     ]
    }
   ],
   "source": [
    "from qubiter.jupyter_notebooks.utilities_widgets import run_sim_gui\n",
    "from qubiter.SEO_writer import *"
   ]
  },
  {
   "cell_type": "code",
   "execution_count": 3,
   "metadata": {},
   "outputs": [],
   "source": [
    "num_bits = 3\n",
    "file_prefix = 'widgets_simulation_test'\n",
    "\n",
    "emb = CktEmbedder(num_bits, num_bits)\n",
    "wr = SEO_writer(file_prefix, emb)\n",
    "wr.write_Ry(0, rads='#1*.5')\n",
    "wr.write_Ry(1, rads='#2*.5')\n",
    "wr.write_cnot(0, 1)\n",
    "wr.write_PRINT('ALL+')\n",
    "wr.write_Ry(0, rads='#3*.5')\n",
    "wr.write_Ry(1, rads='#4*.5')\n",
    "wr.write_cnot(0, 1)\n",
    "wr.write_PRINT('ALL+')\n",
    "\n",
    "trols = Controls(num_bits)\n",
    "trols.bit_pos_to_kind = {0:True, 1:False}\n",
    "trols.refresh_lists()\n",
    "wr.write_controlled_one_bit_gate(2, trols,\n",
    "                                 OneBitGates.rot_ax, ['fun#1#3', 1])\n",
    "\n",
    "wr.close_files()"
   ]
  },
  {
   "cell_type": "code",
   "execution_count": 4,
   "metadata": {},
   "outputs": [
    {
     "name": "stdout",
     "output_type": "stream",
     "text": [
      "ROTY\t#1*.5\tAT\t0\n",
      "ROTY\t#2*.5\tAT\t1\n",
      "SIGX\tAT\t1\tIF\t0T\n",
      "PRINT\tALL+\n",
      "ROTY\t#3*.5\tAT\t0\n",
      "ROTY\t#4*.5\tAT\t1\n",
      "SIGX\tAT\t1\tIF\t0T\n",
      "PRINT\tALL+\n",
      "ROTX\tfun#1#3\tAT\t2\tIF\t1F\t0T\n",
      "\n"
     ]
    }
   ],
   "source": [
    "# We can ask wr to print the English file just created\n",
    "wr.print_eng_file()"
   ]
  },
  {
   "cell_type": "code",
   "execution_count": 5,
   "metadata": {},
   "outputs": [
    {
     "name": "stdout",
     "output_type": "stream",
     "text": [
      "|   |   Ry  \n",
      "|   Ry  |   \n",
      "|   X---@   \n",
      "PRINT\tALL+\n",
      "|   |   Ry  \n",
      "|   Ry  |   \n",
      "|   X---@   \n",
      "PRINT\tALL+\n",
      "Rx--O---@   \n",
      "\n"
     ]
    }
   ],
   "source": [
    "# We can ask wr to print the Picture file just created\n",
    "wr.print_pic_file()"
   ]
  },
  {
   "cell_type": "markdown",
   "metadata": {},
   "source": [
    "All the gui code is prepackaged and\n",
    "included in a method called `run_sim_gui()`\n",
    "included in the file `utilities_widgets.py`"
   ]
  },
  {
   "cell_type": "code",
   "execution_count": 6,
   "metadata": {
    "scrolled": false
   },
   "outputs": [
    {
     "data": {
      "application/vnd.jupyter.widget-view+json": {
       "model_id": "59d3530392484c8eaa9ad017a283c48c",
       "version_major": 2,
       "version_minor": 0
      },
      "text/plain": [
       "HBox(children=(VBox(children=(FloatSlider(value=45.0, max=1080.0, orientation='vertical', step=10.0), FloatTex…"
      ]
     },
     "metadata": {},
     "output_type": "display_data"
    },
    {
     "name": "stdout",
     "output_type": "stream",
     "text": [
      "degs_1(=rads) 45.0 ( 0.7853981633974483 )\n",
      "degs_2(=rads) 50.0 ( 0.8726646259971648 )\n",
      "degs_3(=rads) 180.0 ( 3.141592653589793 )\n",
      "degs_4(=rads) 33.3 ( 0.5811946409141117 )\n",
      "\n",
      "*************************beginning PRINT output\n",
      "PRINT line number=4\n",
      "*********branch= pure\n",
      "state vector:\n",
      "ZL convention (Zero bit Last in state tuple)\n",
      "(000)ZL (0.8373192145987589+0j) , prob=0.7011034671362825\n",
      "(010)ZL (-0.39044836208773004+0j) , prob=0.15244992345699115\n",
      "(001)ZL (0.16172900698309878+0j) , prob=0.026156271699739213\n",
      "(011)ZL (-0.34682897472239405+0j) , prob=0.12029033770698705\n",
      "total probability of state vector (=one if no measurements)= 0.9999999999999999\n",
      "dictionary with key=qubit, value=(Prob(0), Prob(1))\n",
      "{0: (0.8535533905932736, 0.14644660940672638),\n",
      " 1: (0.7272597388360217, 0.2727402611639783),\n",
      " 2: (0.9999999999999999, 1.1102230246251565e-16)}\n"
     ]
    },
    {
     "data": {
      "image/png": "[encoded data removed]",
      "text/plain": [
       "<Figure size 432x288 with 1 Axes>"
      ]
     },
     "metadata": {
      "needs_background": "light"
     },
     "output_type": "display_data"
    },
    {
     "name": "stdout",
     "output_type": "stream",
     "text": [
      "****************************ending PRINT output\n",
      "\n",
      "*************************beginning PRINT output\n",
      "PRINT line number=8\n",
      "*********branch= pure\n",
      "state vector:\n",
      "ZL convention (Zero bit Last in state tuple)\n",
      "(000)ZL (0.05557316179208436+0j) , prob=0.003088376311569185\n",
      "(010)ZL (-0.37862677281877083+0j) , prob=0.1433582330951571\n",
      "(001)ZL (0.6139905078090058+0j) , prob=0.3769843436795608\n",
      "(011)ZL (-0.6903398053956566+0j) , prob=0.4765690469137131\n",
      "total probability of state vector (=one if no measurements)= 1.0000000000000002\n",
      "dictionary with key=qubit, value=(Prob(0), Prob(1))\n",
      "{0: (0.1464466094067263, 0.8535533905932737),\n",
      " 1: (0.38007271999112996, 0.61992728000887),\n",
      " 2: (1.0000000000000002, -2.220446049250313e-16)}\n"
     ]
    },
    {
     "data": {
      "image/png": "[encoded data removed]",
      "text/plain": [
       "<Figure size 432x288 with 1 Axes>"
      ]
     },
     "metadata": {
      "needs_background": "light"
     },
     "output_type": "display_data"
    },
    {
     "name": "stdout",
     "output_type": "stream",
     "text": [
      "****************************ending PRINT output\n",
      "\n",
      "-----------------------------beginning final results\n",
      "*********branch= pure\n",
      "state vector:\n",
      "ZL convention (Zero bit Last in state tuple)\n",
      "(000)ZL (0.05557316179208436+0j) , prob=0.003088376311569185\n",
      "(010)ZL (-0.37862677281877083+0j) , prob=0.1433582330951571\n",
      "(001)ZL (0.20307596024347707+0j) , prob=0.04123984562881028\n",
      "(101)ZL 0.5794346365646004j , prob=0.3357444980507505\n",
      "(011)ZL (-0.6903398053956566+0j) , prob=0.4765690469137131\n",
      "total probability of state vector (=one if no measurements)= 1.0000000000000002\n",
      "dictionary with key=qubit, value=(Prob(0), Prob(1))\n",
      "{0: (0.1464466094067263, 0.8535533905932737),\n",
      " 1: (0.38007271999112996, 0.61992728000887),\n",
      " 2: (0.6642555019492496, 0.33574449805075035)}\n"
     ]
    },
    {
     "data": {
      "image/png": "[encoded data removed]",
      "text/plain": [
       "<Figure size 432x288 with 1 Axes>"
      ]
     },
     "metadata": {
      "needs_background": "light"
     },
     "output_type": "display_data"
    },
    {
     "name": "stdout",
     "output_type": "stream",
     "text": [
      "-----------------------------ending final results\n",
      "\n"
     ]
    }
   ],
   "source": [
    "all_var_nums = [1, 2, 3, 4]\n",
    "def fun(a, b):\n",
    "    return a*b*.5\n",
    "fun_name_to_fun = {'fun': fun}\n",
    "\n",
    "# re-run this cell if you change the arguments of run_sim_gui()\n",
    "run_sim_gui(file_prefix, num_bits, all_var_nums, fun_name_to_fun=fun_name_to_fun, \n",
    "            append_new=True, sty_fin_desc='ALL+')"
   ]
  },
  {
   "cell_type": "code",
   "execution_count": null,
   "metadata": {},
   "outputs": [],
   "source": []
  }
 ],
 "metadata": {
  "kernelspec": {
   "display_name": "Python 3",
   "language": "python",
   "name": "python3"
  },
  "language_info": {
   "codemirror_mode": {
    "name": "ipython",
    "version": 3
   },
   "file_extension": ".py",
   "mimetype": "text/x-python",
   "name": "python",
   "nbconvert_exporter": "python",
   "pygments_lexer": "ipython3",
   "version": "3.7.3"
  }
 },
 "nbformat": 4,
 "nbformat_minor": 2
}
