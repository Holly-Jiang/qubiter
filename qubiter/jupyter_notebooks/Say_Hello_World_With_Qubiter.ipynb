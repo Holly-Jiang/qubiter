{
 "cells": [
  {
   "cell_type": "markdown",
   "metadata": {},
   "source": [
    "## Say \"Hello World\"  With Qubiter\n",
    "The purpose of this notebook is to illustrate how to use Qubiter to simulate ( i.e., \n",
    "predict the outcome of) a simple quantum circuit with a few basic gates\n",
    "\n",
    "> Below, we won't always give the precise definition of each gate. You can find the\n",
    "precise analytical/numerical definition of all gates implemented by Qubiter in the document entitled `qubiter_rosetta_stone.pdf`  included with the Qubiter distribution."
   ]
  },
  {
   "cell_type": "markdown",
   "metadata": {},
   "source": [
    "$\\newcommand{\\bra}[1]{\\left\\langle{#1}\\right|}$\n",
    "$\\newcommand{\\ket}[1]{\\left|{#1}\\right\\rangle}$\n",
    "test: $\\bra{\\psi}M\\ket{\\phi}$"
   ]
  },
  {
   "cell_type": "markdown",
   "metadata": {},
   "source": [
    "First change your working directory to the Qubiter directory in your computer, and add its path to the path environment variable."
   ]
  },
  {
   "cell_type": "code",
   "execution_count": 1,
   "metadata": {},
   "outputs": [
    {
     "name": "stdout",
     "output_type": "stream",
     "text": [
      "C:\\Users\\rrtuc\\Desktop\\backed up\\python-projects\\qubiter\\qubiter\\jupyter_notebooks\n",
      "C:\\Users\\rrtuc\\Desktop\\backed up\\python-projects\\qubiter\n"
     ]
    }
   ],
   "source": [
    "import os\n",
    "import sys\n",
    "print(os.getcwd())\n",
    "os.chdir('../../')\n",
    "print(os.getcwd())\n",
    "sys.path.insert(0,os.getcwd())"
   ]
  },
  {
   "cell_type": "markdown",
   "metadata": {},
   "source": [
    "Suppose you are anywhere in your home ~ account, and qubiter has been installed somewhere accessible via the path environmental variable. You can find where qubiter is installed like this, in case you want to cd there."
   ]
  },
  {
   "cell_type": "code",
   "execution_count": 2,
   "metadata": {},
   "outputs": [
    {
     "name": "stdout",
     "output_type": "stream",
     "text": [
      "C:\\Users\\rrtuc\\Desktop\\backed up\\python-projects\\qubiter\\qubiter\\utilities_gen.py\n"
     ]
    }
   ],
   "source": [
    "from qubiter.utilities_gen import find_path_to_qubiter\n",
    "# this method returns the absolute path to the py file where the method is defined\n",
    "path = find_path_to_qubiter()\n",
    "print(path)"
   ]
  },
  {
   "cell_type": "code",
   "execution_count": 3,
   "metadata": {},
   "outputs": [
    {
     "name": "stdout",
     "output_type": "stream",
     "text": [
      "loaded OneBitGates, WITHOUT autograd.numpy\n"
     ]
    }
   ],
   "source": [
    "from qubiter.SEO_writer import *\n",
    "from qubiter.SEO_simulator import *\n",
    "from qubiter.StateVec import *\n",
    "from qubiter.SEO_MatrixProduct import *\n",
    "import numpy as np"
   ]
  },
  {
   "cell_type": "markdown",
   "metadata": {},
   "source": [
    "Number of qubits is 4.\n",
    "Note that we use \"bit\" for both qbits and cbits."
   ]
  },
  {
   "cell_type": "code",
   "execution_count": 4,
   "metadata": {},
   "outputs": [],
   "source": [
    "num_bits = 4"
   ]
  },
  {
   "cell_type": "markdown",
   "metadata": {},
   "source": [
    "Use a trivial circuit embedder that embeds 4 qubits into same 4 qubits."
   ]
  },
  {
   "cell_type": "code",
   "execution_count": 5,
   "metadata": {},
   "outputs": [],
   "source": [
    "emb = CktEmbedder(num_bits, num_bits)"
   ]
  },
  {
   "cell_type": "markdown",
   "metadata": {},
   "source": [
    "Open a writer, tell it where to write to.\n",
    "We will use zero bit last (ZL) convention, which is the default for SEO_writer."
   ]
  },
  {
   "cell_type": "code",
   "execution_count": 6,
   "metadata": {},
   "outputs": [],
   "source": [
    "file_prefix = 'qubiter/io_folder/hello_world_test'\n",
    "wr = SEO_writer(file_prefix, emb)"
   ]
  },
  {
   "cell_type": "markdown",
   "metadata": {},
   "source": [
    "Write Pauli matrices $\\sigma_X, \\sigma_Y,\\sigma_Z$ at position 2."
   ]
  },
  {
   "cell_type": "code",
   "execution_count": 7,
   "metadata": {},
   "outputs": [],
   "source": [
    "wr.write_X(2)\n",
    "wr.write_Y(2)\n",
    "wr.write_Z(2)\n",
    "\n",
    "# old way of doing it, still works\n",
    "# wr.write_one_bit_gate(2, OneBitGates.sigx)\n",
    "# wr.write_one_bit_gate(2, OneBitGates.sigy)\n",
    "# wr.write_one_bit_gate(2, OneBitGates.sigz)"
   ]
  },
  {
   "cell_type": "markdown",
   "metadata": {},
   "source": [
    "Write 1 qubit Hadamard matrix at position 3."
   ]
  },
  {
   "cell_type": "code",
   "execution_count": 8,
   "metadata": {},
   "outputs": [],
   "source": [
    "wr.write_H(3)\n",
    "\n",
    "# old way of doing it, still works\n",
    "# wr.write_one_bit_gate(3, OneBitGates.had2)"
   ]
  },
  {
   "cell_type": "markdown",
   "metadata": {},
   "source": [
    "Rotate qubit 2 by $\\pi$ along directions x, y, z successively.\n",
    "\n",
    "> Note: We define $Ra(\\theta) = exp(i\\theta\\sigma_a)$ for $a=X,Y,Z$. Others use \n",
    "$Ra(\\theta) = exp(-i\\frac{\\theta}{2}\\sigma_a)$ instead.\n",
    "\n",
    "> Note: $\\theta$ in $Ra(\\theta)$ is inserted in radians, but shows \n",
    "up in the English File in degrees."
   ]
  },
  {
   "cell_type": "code",
   "execution_count": 9,
   "metadata": {},
   "outputs": [],
   "source": [
    "wr.write_Rx(2, np.pi)\n",
    "wr.write_Ry(2, np.pi)\n",
    "wr.write_Rz(2, np.pi)\n",
    "\n",
    "# old way of doing it, still works dir=1,2,3\n",
    "# wr.write_one_bit_gate(2, OneBitGates.rot_ax,[np.pi, dir])"
   ]
  },
  {
   "cell_type": "markdown",
   "metadata": {},
   "source": [
    "Rotate qubit 1 along a non-axis direction $\\hat{n}$ characterized by a list of 3 angles.\n",
    "$R(\\theta_1, \\theta_2, \\theta_3) = \\exp(i[\\theta_1 \\sigma_X +\\theta_2\\sigma_Y+\\theta_3\\sigma_Z])$"
   ]
  },
  {
   "cell_type": "code",
   "execution_count": 10,
   "metadata": {},
   "outputs": [],
   "source": [
    "wr.write_Rn(1, [np.pi, np.pi/2, np.pi/3])"
   ]
  },
  {
   "cell_type": "markdown",
   "metadata": {},
   "source": [
    "Definitions of S and T\n",
    "\n",
    "$S = diag[1, i] = diag[1, e^{i\\frac{\\pi}{2}}]$\n",
    "\n",
    "$T = \\sqrt{S}= diag[1, e^{i\\frac{\\pi}{4}}]$\n"
   ]
  },
  {
   "cell_type": "markdown",
   "metadata": {},
   "source": [
    "Write  $S, S^\\dagger, T, T^\\dagger$ at position=2.\n",
    "\n",
    "> These operations show up in the English File as `P1PH` and in the \n",
    "Picture File as `@P`. That is because $P_1 = n =\\ket{1}\\bra{1} = diag(0, 1)$ and the operation \n",
    "`P1PH` (i.e. $P_1$ Phase) by a phase angle $\\theta$ equals the diagonal matrix $diag(1, e^{i\\theta})$ "
   ]
  },
  {
   "cell_type": "code",
   "execution_count": 11,
   "metadata": {},
   "outputs": [],
   "source": [
    "wr.write_S(2)\n",
    "wr.write_S(2, herm=True)\n",
    "wr.write_T(2)\n",
    "wr.write_T(2, herm=True)"
   ]
  },
  {
   "cell_type": "markdown",
   "metadata": {},
   "source": [
    "Write $CNOT = sigx(target\\_pos)^{n(control\\_pos)}$ with control_pos=3 and target_pos=1"
   ]
  },
  {
   "cell_type": "code",
   "execution_count": 12,
   "metadata": {},
   "outputs": [],
   "source": [
    "wr.write_cnot(3, 1)\n",
    "\n",
    "# old way of doing it, still works\n",
    "# control_pos = 3\n",
    "# target_pos = 1\n",
    "# trols = Controls.new_knob(num_bits, control_pos, kind=True)\n",
    "# wr.write_controlled_one_bit_gate(\n",
    "#     target_pos, trols, OneBitGates.sigx)"
   ]
  },
  {
   "cell_type": "markdown",
   "metadata": {},
   "source": [
    "At any point in the circuit, you can use a PRINT statement. This will print\n",
    "on the console, immediately after you create\n",
    "an object of the class SEO_simulator, a description of the state vector at that point in the circuit.\n",
    "Various styles of description are pre-canned for your convenience, or\n",
    "you can write your own. See use_PRINT() method of SEO_simulator class.\n",
    "Let's use a PRINT statement now in the pre-canned style \"ALL\"."
   ]
  },
  {
   "cell_type": "code",
   "execution_count": 13,
   "metadata": {},
   "outputs": [],
   "source": [
    "wr.write_PRINT(\"ALL\")"
   ]
  },
  {
   "cell_type": "markdown",
   "metadata": {},
   "source": [
    "Swap qubits 1 and 3"
   ]
  },
  {
   "cell_type": "code",
   "execution_count": 14,
   "metadata": {},
   "outputs": [],
   "source": [
    "wr.write_bit_swap(1, 3)"
   ]
  },
  {
   "cell_type": "markdown",
   "metadata": {},
   "source": [
    " Recall that\n",
    "$P_1 = n = \\ket{1}\\bra{1}=diag(0, 1)$ and a P1 phase (P1PH) by $\\theta$ is $diag(1, e^{i\\theta})$. Write a singly controlled P1PH with control=c=3, target=t=1 and rads = pi/3.\n",
    "This gate equals $e^{i*rads*n(t) n(c)}$. "
   ]
  },
  {
   "cell_type": "code",
   "execution_count": 15,
   "metadata": {},
   "outputs": [],
   "source": [
    "wr.write_c_P1PH(3, 1, rads=np.pi/3)"
   ]
  },
  {
   "cell_type": "markdown",
   "metadata": {},
   "source": [
    "If rads=pi, c_P1PH equals  $(-1)^{n(t)n(c)} = \\sigma_Z(t)^{n(c)}$,\n",
    "which is commonly called a controlled Z and denoted by Cz. Write a Cz with c=3 and t=1."
   ]
  },
  {
   "cell_type": "code",
   "execution_count": 16,
   "metadata": {},
   "outputs": [],
   "source": [
    "wr.write_c_P1PH(3, 1)  # rads=np.pi is default"
   ]
  },
  {
   "cell_type": "markdown",
   "metadata": {},
   "source": [
    "Close English and Picture files."
   ]
  },
  {
   "cell_type": "code",
   "execution_count": 17,
   "metadata": {},
   "outputs": [],
   "source": [
    "wr.close_files()"
   ]
  },
  {
   "cell_type": "markdown",
   "metadata": {},
   "source": [
    "Look in files\n",
    "\n",
    "* <a href=\"../io_folder/hello_world_test_4_eng.txt\">../io_folder/hello_world_test_4_eng.txt</a>\n",
    "* <a href=\"../io_folder/hello_world_test_4_ZLpic.txt\">../io_folder/hello_world_test_4_ZLpic.txt</a>\n",
    "\n",
    "to see the quantum circuit that was generated."
   ]
  },
  {
   "cell_type": "markdown",
   "metadata": {},
   "source": [
    "Once the English and Picture files are generated, you can ask the writer object wr to print them for you on screen"
   ]
  },
  {
   "cell_type": "code",
   "execution_count": 18,
   "metadata": {},
   "outputs": [
    {
     "name": "stdout",
     "output_type": "stream",
     "text": [
      "SIGX\tAT\t2\n",
      "SIGY\tAT\t2\n",
      "SIGZ\tAT\t2\n",
      "HAD2\tAT\t3\n",
      "ROTX\t180.0\tAT\t2\n",
      "ROTY\t180.0\tAT\t2\n",
      "ROTZ\t180.0\tAT\t2\n",
      "ROTN\t180.0\t90.0\t59.99999999999999\tAT\t1\n",
      "P1PH\t90.0\tAT\t2\n",
      "P1PH\t-90.0\tAT\t2\n",
      "P1PH\t45.0\tAT\t2\n",
      "P1PH\t-45.0\tAT\t2\n",
      "SIGX\tAT\t1\tIF\t3T\n",
      "PRINT\tALL\n",
      "SWAP\t3\t1\n",
      "P1PH\t59.99999999999999\tAT\t1\tIF\t3T\n",
      "P1PH\t180.0\tAT\t1\tIF\t3T\n",
      "\n"
     ]
    }
   ],
   "source": [
    "wr.print_eng_file()"
   ]
  },
  {
   "cell_type": "code",
   "execution_count": 19,
   "metadata": {},
   "outputs": [
    {
     "name": "stdout",
     "output_type": "stream",
     "text": [
      "|   X   |   |   \n",
      "|   Y   |   |   \n",
      "|   Z   |   |   \n",
      "H   |   |   |   \n",
      "|   Rx  |   |   \n",
      "|   Ry  |   |   \n",
      "|   Rz  |   |   \n",
      "|   |   R   |   \n",
      "|   @P  |   |   \n",
      "|   @P  |   |   \n",
      "|   @P  |   |   \n",
      "|   @P  |   |   \n",
      "@---+---X   |   \n",
      "PRINT\tALL\n",
      "<---+--->   |   \n",
      "@---+---@P  |   \n",
      "@---+---@P  |   \n",
      "\n"
     ]
    }
   ],
   "source": [
    "wr.print_pic_file()"
   ]
  },
  {
   "cell_type": "markdown",
   "metadata": {},
   "source": [
    "You can ask wr for the relative or absolute path to the English and Picture files"
   ]
  },
  {
   "cell_type": "code",
   "execution_count": 20,
   "metadata": {},
   "outputs": [
    {
     "name": "stdout",
     "output_type": "stream",
     "text": [
      "C:\\Users\\rrtuc\\Desktop\\backed up\\python-projects\\qubiter\\qubiter\\io_folder\\hello_world_test_4_eng.txt\n"
     ]
    }
   ],
   "source": [
    "print(wr.get_eng_file_path(rel=False))"
   ]
  },
  {
   "cell_type": "code",
   "execution_count": 21,
   "metadata": {},
   "outputs": [
    {
     "name": "stdout",
     "output_type": "stream",
     "text": [
      "C:\\Users\\rrtuc\\Desktop\\backed up\\python-projects\\qubiter\\qubiter\\io_folder\\hello_world_test_4_ZLpic.txt\n"
     ]
    }
   ],
   "source": [
    "print(wr.get_pic_file_path(rel=False))"
   ]
  },
  {
   "cell_type": "markdown",
   "metadata": {},
   "source": [
    "You can generate a log file with an inventory of the English file by creating\n",
    "an object of the SEO_reader class with the flag `write_log` set to True"
   ]
  },
  {
   "cell_type": "code",
   "execution_count": 22,
   "metadata": {},
   "outputs": [],
   "source": [
    "rdr = SEO_reader(file_prefix, num_bits, write_log=True)"
   ]
  },
  {
   "cell_type": "markdown",
   "metadata": {},
   "source": [
    "The following file was just created\n",
    "\n",
    "* <a href=\"../io_folder/hello_world_test_4_log.txt\">../io_folder/hello_world_test_4_log.txt</a>"
   ]
  },
  {
   "cell_type": "markdown",
   "metadata": {},
   "source": [
    "Once the log file is generated, you can ask the reader object rdr to print it for you on screen"
   ]
  },
  {
   "cell_type": "code",
   "execution_count": 23,
   "metadata": {},
   "outputs": [
    {
     "name": "stdout",
     "output_type": "stream",
     "text": [
      "Number of lines in file = 17\n",
      "Number of Elem. Ops = 16\n",
      "Number of CNOTS (SIGX with single control) = 1\n",
      "List of distinct variable numbers encountered (length=0)=\n",
      "[]\n",
      "List of distinct function names encountered (length=0)=\n",
      "[]\n",
      "\n"
     ]
    }
   ],
   "source": [
    "rdr.print_log_file()"
   ]
  },
  {
   "cell_type": "markdown",
   "metadata": {},
   "source": [
    "You can ask rdr for the relative or absolute path to the log file"
   ]
  },
  {
   "cell_type": "code",
   "execution_count": 24,
   "metadata": {},
   "outputs": [
    {
     "name": "stdout",
     "output_type": "stream",
     "text": [
      "C:\\Users\\rrtuc\\Desktop\\backed up\\python-projects\\qubiter\\qubiter\\io_folder\\hello_world_test_4_log.txt\n"
     ]
    }
   ],
   "source": [
    "print(rdr.get_log_file_path(rel=False))"
   ]
  },
  {
   "cell_type": "markdown",
   "metadata": {},
   "source": [
    "Occasionally, especially for debugging purposes, you might want to display the \n",
    "product of a SEO (sequence of elementary operations, sequence of gates) as a 2^num_bits dimensional\n",
    "unitary matrix. This can be done with the class SEO_MatrixProduct. Simply\n",
    "creating an object of this class multiplies the SEO and stores the result\n",
    "in its attribute `self.prod_arr`. Next we print that array for our example"
   ]
  },
  {
   "cell_type": "code",
   "execution_count": 25,
   "metadata": {},
   "outputs": [
    {
     "name": "stdout",
     "output_type": "stream",
     "text": [
      "product array=\n",
      "[[ 0.1 -0.61j  0.  +0.j    0.3 -0.15j  0.  +0.j   -0.  +0.j    0.  +0.j\n",
      "  -0.  -0.j    0.  +0.j    0.1 -0.61j  0.  +0.j    0.3 -0.15j  0.  +0.j\n",
      "  -0.  +0.j    0.  +0.j   -0.  -0.j    0.  +0.j  ]\n",
      " [ 0.  +0.j    0.1 -0.61j  0.  +0.j    0.3 -0.15j  0.  +0.j   -0.  +0.j\n",
      "   0.  +0.j   -0.  -0.j    0.  +0.j    0.1 -0.61j  0.  +0.j    0.3 -0.15j\n",
      "   0.  +0.j   -0.  +0.j    0.  +0.j   -0.  -0.j  ]\n",
      " [ 0.3 +0.15j  0.  +0.j   -0.1 -0.61j  0.  +0.j   -0.  -0.j    0.  +0.j\n",
      "  -0.  +0.j    0.  +0.j   -0.3 -0.15j  0.  +0.j    0.1 +0.61j  0.  +0.j\n",
      "   0.  +0.j    0.  +0.j    0.  -0.j    0.  +0.j  ]\n",
      " [ 0.  +0.j    0.3 +0.15j  0.  +0.j   -0.1 -0.61j  0.  +0.j   -0.  -0.j\n",
      "   0.  +0.j   -0.  +0.j    0.  +0.j   -0.3 -0.15j  0.  +0.j    0.1 +0.61j\n",
      "   0.  +0.j    0.  +0.j    0.  +0.j    0.  -0.j  ]\n",
      " [-0.  -0.j    0.  +0.j    0.  -0.j    0.  +0.j    0.1 -0.61j  0.  +0.j\n",
      "   0.3 -0.15j  0.  +0.j   -0.  -0.j    0.  +0.j    0.  -0.j    0.  +0.j\n",
      "   0.1 -0.61j  0.  +0.j    0.3 -0.15j  0.  +0.j  ]\n",
      " [ 0.  +0.j   -0.  -0.j    0.  +0.j    0.  -0.j    0.  +0.j    0.1 -0.61j\n",
      "   0.  +0.j    0.3 -0.15j  0.  +0.j   -0.  -0.j    0.  +0.j    0.  -0.j\n",
      "   0.  +0.j    0.1 -0.61j  0.  +0.j    0.3 -0.15j]\n",
      " [ 0.  -0.j    0.  +0.j   -0.  -0.j    0.  +0.j    0.3 +0.15j  0.  +0.j\n",
      "  -0.1 -0.61j  0.  +0.j   -0.  +0.j    0.  +0.j    0.  +0.j    0.  +0.j\n",
      "  -0.3 -0.15j  0.  +0.j    0.1 +0.61j  0.  +0.j  ]\n",
      " [ 0.  +0.j    0.  -0.j    0.  +0.j   -0.  -0.j    0.  +0.j    0.3 +0.15j\n",
      "   0.  +0.j   -0.1 -0.61j  0.  +0.j   -0.  +0.j    0.  +0.j    0.  +0.j\n",
      "   0.  +0.j   -0.3 -0.15j  0.  +0.j    0.1 +0.61j]\n",
      " [ 0.3 +0.15j  0.  +0.j   -0.1 -0.61j  0.  +0.j   -0.  -0.j    0.  +0.j\n",
      "  -0.  +0.j    0.  +0.j    0.3 +0.15j  0.  +0.j   -0.1 -0.61j  0.  +0.j\n",
      "  -0.  -0.j    0.  +0.j   -0.  +0.j    0.  +0.j  ]\n",
      " [ 0.  +0.j    0.3 +0.15j  0.  +0.j   -0.1 -0.61j  0.  +0.j   -0.  -0.j\n",
      "   0.  +0.j   -0.  +0.j    0.  +0.j    0.3 +0.15j  0.  +0.j   -0.1 -0.61j\n",
      "   0.  +0.j   -0.  -0.j    0.  +0.j   -0.  +0.j  ]\n",
      " [-0.58+0.22j  0.  +0.j   -0.28-0.19j  0.  +0.j    0.  +0.j    0.  +0.j\n",
      "   0.  +0.j    0.  +0.j    0.58-0.22j  0.  +0.j    0.28+0.19j  0.  +0.j\n",
      "  -0.  -0.j    0.  +0.j   -0.  -0.j    0.  +0.j  ]\n",
      " [ 0.  +0.j   -0.58+0.22j  0.  +0.j   -0.28-0.19j  0.  +0.j    0.  +0.j\n",
      "   0.  +0.j    0.  +0.j    0.  +0.j    0.58-0.22j  0.  +0.j    0.28+0.19j\n",
      "   0.  +0.j   -0.  -0.j    0.  +0.j   -0.  -0.j  ]\n",
      " [ 0.  -0.j    0.  +0.j   -0.  -0.j    0.  +0.j    0.3 +0.15j  0.  +0.j\n",
      "  -0.1 -0.61j  0.  +0.j    0.  -0.j    0.  +0.j   -0.  -0.j    0.  +0.j\n",
      "   0.3 +0.15j  0.  +0.j   -0.1 -0.61j  0.  +0.j  ]\n",
      " [ 0.  +0.j    0.  -0.j    0.  +0.j   -0.  -0.j    0.  +0.j    0.3 +0.15j\n",
      "   0.  +0.j   -0.1 -0.61j  0.  +0.j    0.  -0.j    0.  +0.j   -0.  -0.j\n",
      "   0.  +0.j    0.3 +0.15j  0.  +0.j   -0.1 -0.61j]\n",
      " [-0.  +0.j    0.  +0.j   -0.  +0.j    0.  +0.j   -0.58+0.22j  0.  +0.j\n",
      "  -0.28-0.19j  0.  +0.j    0.  -0.j    0.  +0.j    0.  -0.j    0.  +0.j\n",
      "   0.58-0.22j  0.  +0.j    0.28+0.19j  0.  +0.j  ]\n",
      " [ 0.  +0.j   -0.  +0.j    0.  +0.j   -0.  +0.j    0.  +0.j   -0.58+0.22j\n",
      "   0.  +0.j   -0.28-0.19j  0.  +0.j    0.  -0.j    0.  +0.j    0.  -0.j\n",
      "   0.  +0.j    0.58-0.22j  0.  +0.j    0.28+0.19j]]\n"
     ]
    }
   ],
   "source": [
    "mp = SEO_MatrixProduct(file_prefix, num_bits)\n",
    "print('product array=')\n",
    "print(np.array_str(mp.prod_arr, \n",
    "                   precision=2, suppress_small=True))"
   ]
  },
  {
   "cell_type": "markdown",
   "metadata": {},
   "source": [
    "Specify initial state vector for simulation. This example corresponds to $\\ket{0}\\ket{0}\\ket{1}\\ket{1}$. In ZL convention, last ket corresponds to bit 0."
   ]
  },
  {
   "cell_type": "code",
   "execution_count": 26,
   "metadata": {},
   "outputs": [],
   "source": [
    "init_st_vec = StateVec.get_standard_basis_st_vec([0, 0, 1, 1], ZL=True)"
   ]
  },
  {
   "cell_type": "markdown",
   "metadata": {},
   "source": [
    "Open a simulator. This automatically\n",
    "calculates the final state vector for the quantum circuit in the English file subject to\n",
    "the initial state vector that you give as input to the SEO_simulator constructor. \n",
    "Note that the PRINT statement that we inserted into the English file, prints, as promised,\n",
    "immediately after creating the SEO_simulator object."
   ]
  },
  {
   "cell_type": "code",
   "execution_count": 27,
   "metadata": {},
   "outputs": [
    {
     "name": "stdout",
     "output_type": "stream",
     "text": [
      "\n",
      "*************************beginning PRINT output\n",
      "PRINT line number=14\n",
      "*********branch= pure\n",
      "state vector:\n",
      "ZL convention (Zero bit Last in state tuple)\n",
      "(0001)ZL (0.30304576336566325-0.15152288168283165j) , prob= 0.11479591836734696\n",
      "(1001)ZL (-0.10101525445522115-0.6123724356957945j) , prob= 0.3852040816326531\n",
      "(0011)ZL (-0.10101525445522115-0.6123724356957945j) , prob= 0.3852040816326531\n",
      "(1011)ZL (0.30304576336566325-0.15152288168283165j) , prob= 0.11479591836734696\n",
      "total probability of state vector (=one if no measurements)= 1.0\n",
      "dictionary with key=qubit, value=(Prob(0), Prob(1))\n",
      "{0: (0.0, 1.0), 1: (0.5, 0.5), 2: (1.0, 0.0), 3: (0.5, 0.5)}\n",
      "****************************ending PRINT output\n"
     ]
    }
   ],
   "source": [
    "sim = SEO_simulator(file_prefix, num_bits, init_st_vec)"
   ]
  },
  {
   "cell_type": "markdown",
   "metadata": {},
   "source": [
    "Ask sim to print a description of final state vector"
   ]
  },
  {
   "cell_type": "code",
   "execution_count": 28,
   "metadata": {},
   "outputs": [
    {
     "name": "stdout",
     "output_type": "stream",
     "text": [
      "*********branch= pure\n",
      "state vector:\n",
      "ZL convention (Zero bit Last in state tuple)\n",
      "(0001)ZL (0.30304576336566325-0.15152288168283165j) , prob= 0.11479591836734696\n",
      "(1001)ZL (-0.10101525445522115-0.6123724356957945j) , prob= 0.3852040816326531\n",
      "(0011)ZL (-0.10101525445522115-0.6123724356957945j) , prob= 0.3852040816326531\n",
      "(1011)ZL (-0.28274554647478767-0.18668388874249606j) , prob= 0.11479591836734696\n",
      "total probability of state vector (=one if no measurements)= 1.0\n",
      "dictionary with key=qubit, value=(Prob(0), Prob(1))\n",
      "{0: (0.0, 1.0), 1: (0.5, 0.5), 2: (1.0, 0.0), 3: (0.5, 0.5)}\n"
     ]
    }
   ],
   "source": [
    "sim.describe_st_vec_dict(print_st_vec=True, do_pp=True,\n",
    "            omit_zero_amps=True, show_probs=True)"
   ]
  },
  {
   "cell_type": "markdown",
   "metadata": {},
   "source": [
    "The object sim of SEO_simulator, holds, at this point, the final state vector\n",
    "for the evolution of the circuit subject to the initial state vector chosen. \n",
    "You might want to sample the probability distribution defined\n",
    "by that final state vector, and obtain counts of each observed multi-qubit state\n",
    "for a given number of shots. This is the type\n",
    "of output that a real qc device gives, albeit\n",
    "our counts have no extrinsic noise. One can ask sim to simulate such counts as follows:"
   ]
  },
  {
   "cell_type": "code",
   "execution_count": 29,
   "metadata": {},
   "outputs": [
    {
     "name": "stdout",
     "output_type": "stream",
     "text": [
      "OrderedDict([('0001ZL', 14), ('0011ZL', 38), ('1001ZL', 43), ('1011ZL', 5)])\n"
     ]
    }
   ],
   "source": [
    "counts = sim.get_counts(num_shots=100)\n",
    "print(counts)"
   ]
  },
  {
   "cell_type": "markdown",
   "metadata": {},
   "source": [
    "And you can ask the Plotter class to plot those counts as follows:"
   ]
  },
  {
   "cell_type": "code",
   "execution_count": 30,
   "metadata": {},
   "outputs": [
    {
     "data": {
      "image/png": "[encoded data removed]",
      "text/plain": [
       "<Figure size 432x288 with 1 Axes>"
      ]
     },
     "metadata": {
      "needs_background": "light"
     },
     "output_type": "display_data"
    }
   ],
   "source": [
    "Plotter.plot_counts(counts)"
   ]
  }
 ],
 "metadata": {
  "anaconda-cloud": {},
  "kernelspec": {
   "display_name": "Python 3",
   "language": "python",
   "name": "python3"
  },
  "language_info": {
   "codemirror_mode": {
    "name": "ipython",
    "version": 3
   },
   "file_extension": ".py",
   "mimetype": "text/x-python",
   "name": "python",
   "nbconvert_exporter": "python",
   "pygments_lexer": "ipython3",
   "version": "3.7.3"
  },
  "toc": {
   "base_numbering": 1,
   "colors": {
    "hover_highlight": "#DAA520",
    "running_highlight": "#FF0000",
    "selected_highlight": "#FFD700"
   },
   "moveMenuLeft": true,
   "nav_menu": {
    "height": "51px",
    "width": "252px"
   },
   "navigate_menu": true,
   "number_sections": true,
   "sideBar": true,
   "skip_h1_title": false,
   "threshold": 4,
   "title_cell": "Table of Contents",
   "title_sidebar": "Contents",
   "toc_cell": false,
   "toc_position": {},
   "toc_section_display": "block",
   "toc_window_display": false,
   "widenNotebook": false
  }
 },
 "nbformat": 4,
 "nbformat_minor": 1
}
